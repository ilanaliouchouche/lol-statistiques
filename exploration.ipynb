{
 "cells": [
  {
   "cell_type": "code",
   "execution_count": 13,
   "metadata": {},
   "outputs": [],
   "source": [
    "import pandas as pd\n",
    "import numpy as np\n",
    "import plotly.express as px\n",
    "import matplotlib.pyplot as plt"
   ]
  },
  {
   "cell_type": "code",
   "execution_count": 7,
   "metadata": {},
   "outputs": [],
   "source": [
    "df = pd.read_csv('processed_champion_stats.csv')"
   ]
  },
  {
   "cell_type": "code",
   "execution_count": 8,
   "metadata": {},
   "outputs": [
    {
     "data": {
      "text/html": [
       "<div>\n",
       "<style scoped>\n",
       "    .dataframe tbody tr th:only-of-type {\n",
       "        vertical-align: middle;\n",
       "    }\n",
       "\n",
       "    .dataframe tbody tr th {\n",
       "        vertical-align: top;\n",
       "    }\n",
       "\n",
       "    .dataframe thead th {\n",
       "        text-align: right;\n",
       "    }\n",
       "</style>\n",
       "<table border=\"1\" class=\"dataframe\">\n",
       "  <thead>\n",
       "    <tr style=\"text-align: right;\">\n",
       "      <th></th>\n",
       "      <th>Champions</th>\n",
       "      <th>Health</th>\n",
       "      <th>Health+</th>\n",
       "      <th>Regen</th>\n",
       "      <th>Regen+</th>\n",
       "      <th>Mana</th>\n",
       "      <th>Mana+</th>\n",
       "      <th>RegenMana</th>\n",
       "      <th>RegenMana+</th>\n",
       "      <th>AD</th>\n",
       "      <th>AD+</th>\n",
       "      <th>AS</th>\n",
       "      <th>AS+%</th>\n",
       "      <th>AR</th>\n",
       "      <th>AR+</th>\n",
       "      <th>MR</th>\n",
       "      <th>MR+</th>\n",
       "      <th>MS</th>\n",
       "      <th>RANGE</th>\n",
       "    </tr>\n",
       "  </thead>\n",
       "  <tbody>\n",
       "    <tr>\n",
       "      <th>0</th>\n",
       "      <td>Aatrox</td>\n",
       "      <td>650</td>\n",
       "      <td>114.0</td>\n",
       "      <td>3.00</td>\n",
       "      <td>1.00</td>\n",
       "      <td>0</td>\n",
       "      <td>0.0</td>\n",
       "      <td>0.00</td>\n",
       "      <td>0.00</td>\n",
       "      <td>60</td>\n",
       "      <td>5.00</td>\n",
       "      <td>0.651</td>\n",
       "      <td>2.500</td>\n",
       "      <td>38.0</td>\n",
       "      <td>4.45</td>\n",
       "      <td>32.0</td>\n",
       "      <td>2.05</td>\n",
       "      <td>345</td>\n",
       "      <td>175</td>\n",
       "    </tr>\n",
       "    <tr>\n",
       "      <th>1</th>\n",
       "      <td>Ahri</td>\n",
       "      <td>590</td>\n",
       "      <td>96.0</td>\n",
       "      <td>2.50</td>\n",
       "      <td>0.60</td>\n",
       "      <td>418</td>\n",
       "      <td>25.0</td>\n",
       "      <td>8.00</td>\n",
       "      <td>0.80</td>\n",
       "      <td>53</td>\n",
       "      <td>3.00</td>\n",
       "      <td>0.668</td>\n",
       "      <td>2.200</td>\n",
       "      <td>21.0</td>\n",
       "      <td>4.70</td>\n",
       "      <td>30.0</td>\n",
       "      <td>1.30</td>\n",
       "      <td>330</td>\n",
       "      <td>550</td>\n",
       "    </tr>\n",
       "    <tr>\n",
       "      <th>2</th>\n",
       "      <td>Akali</td>\n",
       "      <td>570</td>\n",
       "      <td>119.0</td>\n",
       "      <td>9.00</td>\n",
       "      <td>0.90</td>\n",
       "      <td>200</td>\n",
       "      <td>0.0</td>\n",
       "      <td>50.00</td>\n",
       "      <td>0.00</td>\n",
       "      <td>62</td>\n",
       "      <td>3.30</td>\n",
       "      <td>0.625</td>\n",
       "      <td>3.200</td>\n",
       "      <td>23.0</td>\n",
       "      <td>4.70</td>\n",
       "      <td>37.0</td>\n",
       "      <td>2.05</td>\n",
       "      <td>345</td>\n",
       "      <td>125</td>\n",
       "    </tr>\n",
       "    <tr>\n",
       "      <th>3</th>\n",
       "      <td>Akshan</td>\n",
       "      <td>630</td>\n",
       "      <td>107.0</td>\n",
       "      <td>3.75</td>\n",
       "      <td>0.65</td>\n",
       "      <td>350</td>\n",
       "      <td>40.0</td>\n",
       "      <td>8.20</td>\n",
       "      <td>0.70</td>\n",
       "      <td>52</td>\n",
       "      <td>3.00</td>\n",
       "      <td>0.638</td>\n",
       "      <td>4.000</td>\n",
       "      <td>26.0</td>\n",
       "      <td>4.70</td>\n",
       "      <td>30.0</td>\n",
       "      <td>1.30</td>\n",
       "      <td>330</td>\n",
       "      <td>500</td>\n",
       "    </tr>\n",
       "    <tr>\n",
       "      <th>4</th>\n",
       "      <td>Alistar</td>\n",
       "      <td>685</td>\n",
       "      <td>120.0</td>\n",
       "      <td>8.50</td>\n",
       "      <td>0.85</td>\n",
       "      <td>350</td>\n",
       "      <td>40.0</td>\n",
       "      <td>8.50</td>\n",
       "      <td>0.80</td>\n",
       "      <td>62</td>\n",
       "      <td>3.75</td>\n",
       "      <td>0.625</td>\n",
       "      <td>2.125</td>\n",
       "      <td>47.0</td>\n",
       "      <td>4.70</td>\n",
       "      <td>32.0</td>\n",
       "      <td>2.05</td>\n",
       "      <td>330</td>\n",
       "      <td>125</td>\n",
       "    </tr>\n",
       "    <tr>\n",
       "      <th>...</th>\n",
       "      <td>...</td>\n",
       "      <td>...</td>\n",
       "      <td>...</td>\n",
       "      <td>...</td>\n",
       "      <td>...</td>\n",
       "      <td>...</td>\n",
       "      <td>...</td>\n",
       "      <td>...</td>\n",
       "      <td>...</td>\n",
       "      <td>...</td>\n",
       "      <td>...</td>\n",
       "      <td>...</td>\n",
       "      <td>...</td>\n",
       "      <td>...</td>\n",
       "      <td>...</td>\n",
       "      <td>...</td>\n",
       "      <td>...</td>\n",
       "      <td>...</td>\n",
       "      <td>...</td>\n",
       "    </tr>\n",
       "    <tr>\n",
       "      <th>163</th>\n",
       "      <td>Zeri</td>\n",
       "      <td>630</td>\n",
       "      <td>110.0</td>\n",
       "      <td>3.25</td>\n",
       "      <td>0.70</td>\n",
       "      <td>250</td>\n",
       "      <td>45.0</td>\n",
       "      <td>6.00</td>\n",
       "      <td>0.80</td>\n",
       "      <td>53</td>\n",
       "      <td>2.00</td>\n",
       "      <td>0.658</td>\n",
       "      <td>2.000</td>\n",
       "      <td>24.0</td>\n",
       "      <td>4.20</td>\n",
       "      <td>30.0</td>\n",
       "      <td>1.30</td>\n",
       "      <td>330</td>\n",
       "      <td>500</td>\n",
       "    </tr>\n",
       "    <tr>\n",
       "      <th>164</th>\n",
       "      <td>Ziggs</td>\n",
       "      <td>606</td>\n",
       "      <td>106.0</td>\n",
       "      <td>6.50</td>\n",
       "      <td>0.60</td>\n",
       "      <td>480</td>\n",
       "      <td>23.5</td>\n",
       "      <td>8.00</td>\n",
       "      <td>0.80</td>\n",
       "      <td>55</td>\n",
       "      <td>3.10</td>\n",
       "      <td>0.656</td>\n",
       "      <td>2.000</td>\n",
       "      <td>18.0</td>\n",
       "      <td>4.50</td>\n",
       "      <td>30.0</td>\n",
       "      <td>1.30</td>\n",
       "      <td>325</td>\n",
       "      <td>550</td>\n",
       "    </tr>\n",
       "    <tr>\n",
       "      <th>165</th>\n",
       "      <td>Zilean</td>\n",
       "      <td>574</td>\n",
       "      <td>96.0</td>\n",
       "      <td>5.50</td>\n",
       "      <td>0.50</td>\n",
       "      <td>452</td>\n",
       "      <td>50.0</td>\n",
       "      <td>11.35</td>\n",
       "      <td>0.80</td>\n",
       "      <td>52</td>\n",
       "      <td>3.00</td>\n",
       "      <td>0.658</td>\n",
       "      <td>2.130</td>\n",
       "      <td>24.0</td>\n",
       "      <td>5.00</td>\n",
       "      <td>30.0</td>\n",
       "      <td>1.30</td>\n",
       "      <td>335</td>\n",
       "      <td>550</td>\n",
       "    </tr>\n",
       "    <tr>\n",
       "      <th>166</th>\n",
       "      <td>Zoe</td>\n",
       "      <td>630</td>\n",
       "      <td>106.0</td>\n",
       "      <td>7.50</td>\n",
       "      <td>0.60</td>\n",
       "      <td>425</td>\n",
       "      <td>25.0</td>\n",
       "      <td>8.00</td>\n",
       "      <td>0.65</td>\n",
       "      <td>58</td>\n",
       "      <td>3.30</td>\n",
       "      <td>0.658</td>\n",
       "      <td>2.500</td>\n",
       "      <td>21.0</td>\n",
       "      <td>4.70</td>\n",
       "      <td>30.0</td>\n",
       "      <td>1.30</td>\n",
       "      <td>340</td>\n",
       "      <td>550</td>\n",
       "    </tr>\n",
       "    <tr>\n",
       "      <th>167</th>\n",
       "      <td>Zyra</td>\n",
       "      <td>574</td>\n",
       "      <td>93.0</td>\n",
       "      <td>5.50</td>\n",
       "      <td>0.50</td>\n",
       "      <td>418</td>\n",
       "      <td>25.0</td>\n",
       "      <td>13.00</td>\n",
       "      <td>0.40</td>\n",
       "      <td>53</td>\n",
       "      <td>3.20</td>\n",
       "      <td>0.681</td>\n",
       "      <td>2.110</td>\n",
       "      <td>29.0</td>\n",
       "      <td>4.20</td>\n",
       "      <td>30.0</td>\n",
       "      <td>1.30</td>\n",
       "      <td>340</td>\n",
       "      <td>575</td>\n",
       "    </tr>\n",
       "  </tbody>\n",
       "</table>\n",
       "<p>168 rows × 19 columns</p>\n",
       "</div>"
      ],
      "text/plain": [
       "    Champions  Health  Health+  Regen  Regen+  Mana  Mana+  RegenMana  \\\n",
       "0      Aatrox     650    114.0   3.00    1.00     0    0.0       0.00   \n",
       "1        Ahri     590     96.0   2.50    0.60   418   25.0       8.00   \n",
       "2       Akali     570    119.0   9.00    0.90   200    0.0      50.00   \n",
       "3      Akshan     630    107.0   3.75    0.65   350   40.0       8.20   \n",
       "4     Alistar     685    120.0   8.50    0.85   350   40.0       8.50   \n",
       "..        ...     ...      ...    ...     ...   ...    ...        ...   \n",
       "163      Zeri     630    110.0   3.25    0.70   250   45.0       6.00   \n",
       "164     Ziggs     606    106.0   6.50    0.60   480   23.5       8.00   \n",
       "165    Zilean     574     96.0   5.50    0.50   452   50.0      11.35   \n",
       "166       Zoe     630    106.0   7.50    0.60   425   25.0       8.00   \n",
       "167      Zyra     574     93.0   5.50    0.50   418   25.0      13.00   \n",
       "\n",
       "     RegenMana+  AD   AD+     AS   AS+%    AR   AR+    MR   MR+   MS  RANGE  \n",
       "0          0.00  60  5.00  0.651  2.500  38.0  4.45  32.0  2.05  345    175  \n",
       "1          0.80  53  3.00  0.668  2.200  21.0  4.70  30.0  1.30  330    550  \n",
       "2          0.00  62  3.30  0.625  3.200  23.0  4.70  37.0  2.05  345    125  \n",
       "3          0.70  52  3.00  0.638  4.000  26.0  4.70  30.0  1.30  330    500  \n",
       "4          0.80  62  3.75  0.625  2.125  47.0  4.70  32.0  2.05  330    125  \n",
       "..          ...  ..   ...    ...    ...   ...   ...   ...   ...  ...    ...  \n",
       "163        0.80  53  2.00  0.658  2.000  24.0  4.20  30.0  1.30  330    500  \n",
       "164        0.80  55  3.10  0.656  2.000  18.0  4.50  30.0  1.30  325    550  \n",
       "165        0.80  52  3.00  0.658  2.130  24.0  5.00  30.0  1.30  335    550  \n",
       "166        0.65  58  3.30  0.658  2.500  21.0  4.70  30.0  1.30  340    550  \n",
       "167        0.40  53  3.20  0.681  2.110  29.0  4.20  30.0  1.30  340    575  \n",
       "\n",
       "[168 rows x 19 columns]"
      ]
     },
     "execution_count": 8,
     "metadata": {},
     "output_type": "execute_result"
    }
   ],
   "source": [
    "df"
   ]
  },
  {
   "cell_type": "code",
   "execution_count": 48,
   "metadata": {},
   "outputs": [],
   "source": [
    "def create_box_plot(column):\n",
    "    fig = px.box(df, y=column, hover_data=df.columns, title=f\"Box Plot of {column}\")\n",
    "    fig.show()"
   ]
  },
  {
   "cell_type": "code",
   "execution_count": 31,
   "metadata": {},
   "outputs": [],
   "source": [
    "toplaners = [\n",
    "    'Aatrox', 'Camille', 'Darius', 'Fiora', 'Gangplank', 'Garen', 'Gnar', 'Illaoi',\n",
    "    'Irelia', 'Jayce', 'Kennen', 'Kled', 'Kled&Skaarl', 'Malphite', 'Maokai', 'Mordekaiser', 'Nasus',\n",
    "    'Ornn', 'Poppy', 'Quinn', 'Renekton', 'Riven', 'Sett', 'Shen', 'Singed', 'Sion',\n",
    "    'Teemo', 'Tryndamere', 'Urgot', 'Vladimir', 'Wukong', 'Yorick','Gath','Gwen','Kayle','Kench','Mundo'\n",
    "    ,'Rumble','Sante'\n",
    "]\n",
    "\n",
    "junglers = [\n",
    "    'Amumu', 'Elise', 'Evelynn', 'Fiddlesticks', 'Gragas', 'Hecarim', 'Ivern',\n",
    "    'Jax', 'Kayn', 'Zix', 'Kindred', 'Sin', 'Lillia', 'Yi',\n",
    "    'Nidalee', 'Nocturne', 'Olaf', 'Rammus', 'Sai', 'Rengar', 'Sejuani',\n",
    "    'Shaco', 'Shyvana', 'Skarner', 'Trundle', 'Udyr', 'Vi', 'Viego', 'Volibear', 'Warwick', 'Zac','Briar','Graves'\n",
    "    ,'Karthus','Naafiri','Veth','Willump','Zhao','IV'\n",
    "]\n",
    "\n",
    "midlaners = [\n",
    "    'Ahri', 'Akali', 'Akshan', 'Anivia', 'Annie', 'Azir', 'Cassiopeia', 'Corki',\n",
    "    'Diana', 'Ekko', 'Fizz', 'Galio', 'Heimerdinger', 'Kassadin', 'Katarina',\n",
    "    'LeBlanc', 'Lissandra', 'Lux', 'Malzahar', 'Neeko', 'Orianna', 'Qiyana',\n",
    "    'Ryze', 'Sylas', 'Syndra', 'Taliyah', 'Talon', 'Fate', 'Veigar', 'Viktor',\n",
    "    'Vladimir', 'Xerath', 'Yasuo', 'Yone', 'Zed', 'Ziggs', 'Zoe','Hwei','Koz','Sol','Swain','Vex'\n",
    "]\n",
    "\n",
    "adcs = [\n",
    "    'Aphelios', 'Ashe', 'Caitlyn', 'Draven', 'Ezreal', 'Jhin', 'Jinx', 'Kalista',\n",
    "    'Maw', 'Lucian', 'Fortune', 'Samira', 'Sivir', 'Tristana', 'Twitch',\n",
    "    'Varus', 'Vayne', 'Xayah', 'Zeri','Sa','Nilah'\n",
    "]\n",
    "\n",
    "supports = [\n",
    "    'Alistar', 'Bard', 'Blitzcrank', 'Braum', 'Janna', 'Karma', 'Leona', 'Lulu',\n",
    "    'Morgana', 'Nami', 'Nautilus', 'Pyke', 'Rakan', 'Senna', 'Seraphine', 'Sona',\n",
    "    'Soraka', 'Taric', 'Thresh', 'Yuumi', 'Zyra', 'Brand','Glasc','Milio','Pantheon','Zilean','Rell'\n",
    "]\n"
   ]
  },
  {
   "cell_type": "code",
   "execution_count": 37,
   "metadata": {},
   "outputs": [],
   "source": [
    "df_top = df[df['Champions'].isin(toplaners)]\n",
    "df_jungle = df[df['Champions'].isin(junglers)]\n",
    "df_mid = df[df['Champions'].isin(midlaners)]\n",
    "df_adc = df[df['Champions'].isin(adcs)]\n",
    "df_support = df[df['Champions'].isin(supports)]"
   ]
  },
  {
   "cell_type": "code",
   "execution_count": 39,
   "metadata": {},
   "outputs": [],
   "source": [
    "def plot_ad_per_level(df, col):\n",
    "    levels = range(1, 19)\n",
    "    all_rows = []\n",
    "\n",
    "    for _, row in df.iterrows():\n",
    "        for level in levels:\n",
    "            stat_at_level = row[col] + (level - 1) * row[f'{col}+']\n",
    "            all_rows.append({'Champion': row['Champions'], 'Niveau': level, col: stat_at_level})\n",
    "\n",
    "    long_df = pd.DataFrame(all_rows)\n",
    "\n",
    "    fig = px.line(long_df, x=\"Niveau\", y=f\"{col}\", color=\"Champion\", title=f'{col} par niveau pour chaque champion')\n",
    "\n",
    "    fig.show()"
   ]
  },
  {
   "cell_type": "code",
   "execution_count": 40,
   "metadata": {},
   "outputs": [
    {
     "data": {
      "application/vnd.plotly.v1+json": {
       "config": {
        "plotlyServerURL": "https://plot.ly"
       },
       "data": [
        {
         "hovertemplate": "Champion=Aatrox<br>Niveau=%{x}<br>AD=%{y}<extra></extra>",
         "legendgroup": "Aatrox",
         "line": {
          "color": "#636efa",
          "dash": "solid"
         },
         "marker": {
          "symbol": "circle"
         },
         "mode": "lines",
         "name": "Aatrox",
         "orientation": "v",
         "showlegend": true,
         "type": "scatter",
         "x": [
          1,
          2,
          3,
          4,
          5,
          6,
          7,
          8,
          9,
          10,
          11,
          12,
          13,
          14,
          15,
          16,
          17,
          18
         ],
         "xaxis": "x",
         "y": [
          60,
          65,
          70,
          75,
          80,
          85,
          90,
          95,
          100,
          105,
          110,
          115,
          120,
          125,
          130,
          135,
          140,
          145
         ],
         "yaxis": "y"
        },
        {
         "hovertemplate": "Champion=Camille<br>Niveau=%{x}<br>AD=%{y}<extra></extra>",
         "legendgroup": "Camille",
         "line": {
          "color": "#EF553B",
          "dash": "solid"
         },
         "marker": {
          "symbol": "circle"
         },
         "mode": "lines",
         "name": "Camille",
         "orientation": "v",
         "showlegend": true,
         "type": "scatter",
         "x": [
          1,
          2,
          3,
          4,
          5,
          6,
          7,
          8,
          9,
          10,
          11,
          12,
          13,
          14,
          15,
          16,
          17,
          18
         ],
         "xaxis": "x",
         "y": [
          68,
          71.8,
          75.6,
          79.4,
          83.2,
          87,
          90.8,
          94.6,
          98.4,
          102.19999999999999,
          106,
          109.8,
          113.6,
          117.4,
          121.19999999999999,
          125,
          128.8,
          132.6
         ],
         "yaxis": "y"
        },
        {
         "hovertemplate": "Champion=Gath<br>Niveau=%{x}<br>AD=%{y}<extra></extra>",
         "legendgroup": "Gath",
         "line": {
          "color": "#00cc96",
          "dash": "solid"
         },
         "marker": {
          "symbol": "circle"
         },
         "mode": "lines",
         "name": "Gath",
         "orientation": "v",
         "showlegend": true,
         "type": "scatter",
         "x": [
          1,
          2,
          3,
          4,
          5,
          6,
          7,
          8,
          9,
          10,
          11,
          12,
          13,
          14,
          15,
          16,
          17,
          18
         ],
         "xaxis": "x",
         "y": [
          69,
          73.2,
          77.4,
          81.6,
          85.8,
          90,
          94.2,
          98.4,
          102.6,
          106.80000000000001,
          111,
          115.2,
          119.4,
          123.6,
          127.80000000000001,
          132,
          136.2,
          140.4
         ],
         "yaxis": "y"
        },
        {
         "hovertemplate": "Champion=Darius<br>Niveau=%{x}<br>AD=%{y}<extra></extra>",
         "legendgroup": "Darius",
         "line": {
          "color": "#ab63fa",
          "dash": "solid"
         },
         "marker": {
          "symbol": "circle"
         },
         "mode": "lines",
         "name": "Darius",
         "orientation": "v",
         "showlegend": true,
         "type": "scatter",
         "x": [
          1,
          2,
          3,
          4,
          5,
          6,
          7,
          8,
          9,
          10,
          11,
          12,
          13,
          14,
          15,
          16,
          17,
          18
         ],
         "xaxis": "x",
         "y": [
          64,
          69,
          74,
          79,
          84,
          89,
          94,
          99,
          104,
          109,
          114,
          119,
          124,
          129,
          134,
          139,
          144,
          149
         ],
         "yaxis": "y"
        },
        {
         "hovertemplate": "Champion=Mundo<br>Niveau=%{x}<br>AD=%{y}<extra></extra>",
         "legendgroup": "Mundo",
         "line": {
          "color": "#FFA15A",
          "dash": "solid"
         },
         "marker": {
          "symbol": "circle"
         },
         "mode": "lines",
         "name": "Mundo",
         "orientation": "v",
         "showlegend": true,
         "type": "scatter",
         "x": [
          1,
          2,
          3,
          4,
          5,
          6,
          7,
          8,
          9,
          10,
          11,
          12,
          13,
          14,
          15,
          16,
          17,
          18
         ],
         "xaxis": "x",
         "y": [
          61,
          63.5,
          66,
          68.5,
          71,
          73.5,
          76,
          78.5,
          81,
          83.5,
          86,
          88.5,
          91,
          93.5,
          96,
          98.5,
          101,
          103.5
         ],
         "yaxis": "y"
        },
        {
         "hovertemplate": "Champion=Fiora<br>Niveau=%{x}<br>AD=%{y}<extra></extra>",
         "legendgroup": "Fiora",
         "line": {
          "color": "#19d3f3",
          "dash": "solid"
         },
         "marker": {
          "symbol": "circle"
         },
         "mode": "lines",
         "name": "Fiora",
         "orientation": "v",
         "showlegend": true,
         "type": "scatter",
         "x": [
          1,
          2,
          3,
          4,
          5,
          6,
          7,
          8,
          9,
          10,
          11,
          12,
          13,
          14,
          15,
          16,
          17,
          18
         ],
         "xaxis": "x",
         "y": [
          68,
          71.3,
          74.6,
          77.9,
          81.2,
          84.5,
          87.8,
          91.1,
          94.4,
          97.7,
          101,
          104.3,
          107.6,
          110.9,
          114.19999999999999,
          117.5,
          120.8,
          124.1
         ],
         "yaxis": "y"
        },
        {
         "hovertemplate": "Champion=Gangplank<br>Niveau=%{x}<br>AD=%{y}<extra></extra>",
         "legendgroup": "Gangplank",
         "line": {
          "color": "#FF6692",
          "dash": "solid"
         },
         "marker": {
          "symbol": "circle"
         },
         "mode": "lines",
         "name": "Gangplank",
         "orientation": "v",
         "showlegend": true,
         "type": "scatter",
         "x": [
          1,
          2,
          3,
          4,
          5,
          6,
          7,
          8,
          9,
          10,
          11,
          12,
          13,
          14,
          15,
          16,
          17,
          18
         ],
         "xaxis": "x",
         "y": [
          64,
          67.7,
          71.4,
          75.1,
          78.8,
          82.5,
          86.2,
          89.9,
          93.6,
          97.30000000000001,
          101,
          104.7,
          108.4,
          112.1,
          115.80000000000001,
          119.5,
          123.2,
          126.9
         ],
         "yaxis": "y"
        },
        {
         "hovertemplate": "Champion=Garen<br>Niveau=%{x}<br>AD=%{y}<extra></extra>",
         "legendgroup": "Garen",
         "line": {
          "color": "#B6E880",
          "dash": "solid"
         },
         "marker": {
          "symbol": "circle"
         },
         "mode": "lines",
         "name": "Garen",
         "orientation": "v",
         "showlegend": true,
         "type": "scatter",
         "x": [
          1,
          2,
          3,
          4,
          5,
          6,
          7,
          8,
          9,
          10,
          11,
          12,
          13,
          14,
          15,
          16,
          17,
          18
         ],
         "xaxis": "x",
         "y": [
          69,
          73.5,
          78,
          82.5,
          87,
          91.5,
          96,
          100.5,
          105,
          109.5,
          114,
          118.5,
          123,
          127.5,
          132,
          136.5,
          141,
          145.5
         ],
         "yaxis": "y"
        },
        {
         "hovertemplate": "Champion=Gnar<br>Niveau=%{x}<br>AD=%{y}<extra></extra>",
         "legendgroup": "Gnar",
         "line": {
          "color": "#FF97FF",
          "dash": "solid"
         },
         "marker": {
          "symbol": "circle"
         },
         "mode": "lines",
         "name": "Gnar",
         "orientation": "v",
         "showlegend": true,
         "type": "scatter",
         "x": [
          1,
          2,
          3,
          4,
          5,
          6,
          7,
          8,
          9,
          10,
          11,
          12,
          13,
          14,
          15,
          16,
          17,
          18,
          1,
          2,
          3,
          4,
          5,
          6,
          7,
          8,
          9,
          10,
          11,
          12,
          13,
          14,
          15,
          16,
          17,
          18
         ],
         "xaxis": "x",
         "y": [
          57,
          60,
          63,
          66,
          69,
          72,
          75,
          78,
          81,
          84,
          87,
          90,
          93,
          96,
          99,
          102,
          105,
          108,
          65,
          70.5,
          76,
          81.5,
          87,
          92.5,
          98,
          103.5,
          109,
          114.5,
          120,
          125.5,
          131,
          136.5,
          142,
          147.5,
          153,
          158.5
         ],
         "yaxis": "y"
        },
        {
         "hovertemplate": "Champion=Gwen<br>Niveau=%{x}<br>AD=%{y}<extra></extra>",
         "legendgroup": "Gwen",
         "line": {
          "color": "#FECB52",
          "dash": "solid"
         },
         "marker": {
          "symbol": "circle"
         },
         "mode": "lines",
         "name": "Gwen",
         "orientation": "v",
         "showlegend": true,
         "type": "scatter",
         "x": [
          1,
          2,
          3,
          4,
          5,
          6,
          7,
          8,
          9,
          10,
          11,
          12,
          13,
          14,
          15,
          16,
          17,
          18
         ],
         "xaxis": "x",
         "y": [
          63,
          66,
          69,
          72,
          75,
          78,
          81,
          84,
          87,
          90,
          93,
          96,
          99,
          102,
          105,
          108,
          111,
          114
         ],
         "yaxis": "y"
        },
        {
         "hovertemplate": "Champion=Illaoi<br>Niveau=%{x}<br>AD=%{y}<extra></extra>",
         "legendgroup": "Illaoi",
         "line": {
          "color": "#636efa",
          "dash": "solid"
         },
         "marker": {
          "symbol": "circle"
         },
         "mode": "lines",
         "name": "Illaoi",
         "orientation": "v",
         "showlegend": true,
         "type": "scatter",
         "x": [
          1,
          2,
          3,
          4,
          5,
          6,
          7,
          8,
          9,
          10,
          11,
          12,
          13,
          14,
          15,
          16,
          17,
          18
         ],
         "xaxis": "x",
         "y": [
          68,
          73,
          78,
          83,
          88,
          93,
          98,
          103,
          108,
          113,
          118,
          123,
          128,
          133,
          138,
          143,
          148,
          153
         ],
         "yaxis": "y"
        },
        {
         "hovertemplate": "Champion=Irelia<br>Niveau=%{x}<br>AD=%{y}<extra></extra>",
         "legendgroup": "Irelia",
         "line": {
          "color": "#EF553B",
          "dash": "solid"
         },
         "marker": {
          "symbol": "circle"
         },
         "mode": "lines",
         "name": "Irelia",
         "orientation": "v",
         "showlegend": true,
         "type": "scatter",
         "x": [
          1,
          2,
          3,
          4,
          5,
          6,
          7,
          8,
          9,
          10,
          11,
          12,
          13,
          14,
          15,
          16,
          17,
          18
         ],
         "xaxis": "x",
         "y": [
          65,
          69,
          73,
          77,
          81,
          85,
          89,
          93,
          97,
          101,
          105,
          109,
          113,
          117,
          121,
          125,
          129,
          133
         ],
         "yaxis": "y"
        },
        {
         "hovertemplate": "Champion=Jayce<br>Niveau=%{x}<br>AD=%{y}<extra></extra>",
         "legendgroup": "Jayce",
         "line": {
          "color": "#00cc96",
          "dash": "solid"
         },
         "marker": {
          "symbol": "circle"
         },
         "mode": "lines",
         "name": "Jayce",
         "orientation": "v",
         "showlegend": true,
         "type": "scatter",
         "x": [
          1,
          2,
          3,
          4,
          5,
          6,
          7,
          8,
          9,
          10,
          11,
          12,
          13,
          14,
          15,
          16,
          17,
          18
         ],
         "xaxis": "x",
         "y": [
          57,
          61.25,
          65.5,
          69.75,
          74,
          78.25,
          82.5,
          86.75,
          91,
          95.25,
          99.5,
          103.75,
          108,
          112.25,
          116.5,
          120.75,
          125,
          129.25
         ],
         "yaxis": "y"
        },
        {
         "hovertemplate": "Champion=Sante<br>Niveau=%{x}<br>AD=%{y}<extra></extra>",
         "legendgroup": "Sante",
         "line": {
          "color": "#ab63fa",
          "dash": "solid"
         },
         "marker": {
          "symbol": "circle"
         },
         "mode": "lines",
         "name": "Sante",
         "orientation": "v",
         "showlegend": true,
         "type": "scatter",
         "x": [
          1,
          2,
          3,
          4,
          5,
          6,
          7,
          8,
          9,
          10,
          11,
          12,
          13,
          14,
          15,
          16,
          17,
          18
         ],
         "xaxis": "x",
         "y": [
          64,
          67.5,
          71,
          74.5,
          78,
          81.5,
          85,
          88.5,
          92,
          95.5,
          99,
          102.5,
          106,
          109.5,
          113,
          116.5,
          120,
          123.5
         ],
         "yaxis": "y"
        },
        {
         "hovertemplate": "Champion=Kayle<br>Niveau=%{x}<br>AD=%{y}<extra></extra>",
         "legendgroup": "Kayle",
         "line": {
          "color": "#FFA15A",
          "dash": "solid"
         },
         "marker": {
          "symbol": "circle"
         },
         "mode": "lines",
         "name": "Kayle",
         "orientation": "v",
         "showlegend": true,
         "type": "scatter",
         "x": [
          1,
          2,
          3,
          4,
          5,
          6,
          7,
          8,
          9,
          10,
          11,
          12,
          13,
          14,
          15,
          16,
          17,
          18
         ],
         "xaxis": "x",
         "y": [
          50,
          52.5,
          55,
          57.5,
          60,
          62.5,
          65,
          67.5,
          70,
          72.5,
          75,
          77.5,
          80,
          82.5,
          85,
          87.5,
          90,
          92.5
         ],
         "yaxis": "y"
        },
        {
         "hovertemplate": "Champion=Kennen<br>Niveau=%{x}<br>AD=%{y}<extra></extra>",
         "legendgroup": "Kennen",
         "line": {
          "color": "#19d3f3",
          "dash": "solid"
         },
         "marker": {
          "symbol": "circle"
         },
         "mode": "lines",
         "name": "Kennen",
         "orientation": "v",
         "showlegend": true,
         "type": "scatter",
         "x": [
          1,
          2,
          3,
          4,
          5,
          6,
          7,
          8,
          9,
          10,
          11,
          12,
          13,
          14,
          15,
          16,
          17,
          18
         ],
         "xaxis": "x",
         "y": [
          48,
          51.75,
          55.5,
          59.25,
          63,
          66.75,
          70.5,
          74.25,
          78,
          81.75,
          85.5,
          89.25,
          93,
          96.75,
          100.5,
          104.25,
          108,
          111.75
         ],
         "yaxis": "y"
        },
        {
         "hovertemplate": "Champion=Kled<br>Niveau=%{x}<br>AD=%{y}<extra></extra>",
         "legendgroup": "Kled",
         "line": {
          "color": "#FF6692",
          "dash": "solid"
         },
         "marker": {
          "symbol": "circle"
         },
         "mode": "lines",
         "name": "Kled",
         "orientation": "v",
         "showlegend": true,
         "type": "scatter",
         "x": [
          1,
          2,
          3,
          4,
          5,
          6,
          7,
          8,
          9,
          10,
          11,
          12,
          13,
          14,
          15,
          16,
          17,
          18
         ],
         "xaxis": "x",
         "y": [
          65,
          68.5,
          72,
          75.5,
          79,
          82.5,
          86,
          89.5,
          93,
          96.5,
          100,
          103.5,
          107,
          110.5,
          114,
          117.5,
          121,
          124.5
         ],
         "yaxis": "y"
        },
        {
         "hovertemplate": "Champion=Kled&Skaarl<br>Niveau=%{x}<br>AD=%{y}<extra></extra>",
         "legendgroup": "Kled&Skaarl",
         "line": {
          "color": "#B6E880",
          "dash": "solid"
         },
         "marker": {
          "symbol": "circle"
         },
         "mode": "lines",
         "name": "Kled&Skaarl",
         "orientation": "v",
         "showlegend": true,
         "type": "scatter",
         "x": [
          1,
          2,
          3,
          4,
          5,
          6,
          7,
          8,
          9,
          10,
          11,
          12,
          13,
          14,
          15,
          16,
          17,
          18
         ],
         "xaxis": "x",
         "y": [
          65,
          68.5,
          72,
          75.5,
          79,
          82.5,
          86,
          89.5,
          93,
          96.5,
          100,
          103.5,
          107,
          110.5,
          114,
          117.5,
          121,
          124.5
         ],
         "yaxis": "y"
        },
        {
         "hovertemplate": "Champion=Malphite<br>Niveau=%{x}<br>AD=%{y}<extra></extra>",
         "legendgroup": "Malphite",
         "line": {
          "color": "#FF97FF",
          "dash": "solid"
         },
         "marker": {
          "symbol": "circle"
         },
         "mode": "lines",
         "name": "Malphite",
         "orientation": "v",
         "showlegend": true,
         "type": "scatter",
         "x": [
          1,
          2,
          3,
          4,
          5,
          6,
          7,
          8,
          9,
          10,
          11,
          12,
          13,
          14,
          15,
          16,
          17,
          18
         ],
         "xaxis": "x",
         "y": [
          62,
          66,
          70,
          74,
          78,
          82,
          86,
          90,
          94,
          98,
          102,
          106,
          110,
          114,
          118,
          122,
          126,
          130
         ],
         "yaxis": "y"
        },
        {
         "hovertemplate": "Champion=Maokai<br>Niveau=%{x}<br>AD=%{y}<extra></extra>",
         "legendgroup": "Maokai",
         "line": {
          "color": "#FECB52",
          "dash": "solid"
         },
         "marker": {
          "symbol": "circle"
         },
         "mode": "lines",
         "name": "Maokai",
         "orientation": "v",
         "showlegend": true,
         "type": "scatter",
         "x": [
          1,
          2,
          3,
          4,
          5,
          6,
          7,
          8,
          9,
          10,
          11,
          12,
          13,
          14,
          15,
          16,
          17,
          18
         ],
         "xaxis": "x",
         "y": [
          64,
          67.3,
          70.6,
          73.9,
          77.2,
          80.5,
          83.8,
          87.1,
          90.4,
          93.7,
          97,
          100.3,
          103.6,
          106.9,
          110.19999999999999,
          113.5,
          116.8,
          120.1
         ],
         "yaxis": "y"
        },
        {
         "hovertemplate": "Champion=Mordekaiser<br>Niveau=%{x}<br>AD=%{y}<extra></extra>",
         "legendgroup": "Mordekaiser",
         "line": {
          "color": "#636efa",
          "dash": "solid"
         },
         "marker": {
          "symbol": "circle"
         },
         "mode": "lines",
         "name": "Mordekaiser",
         "orientation": "v",
         "showlegend": true,
         "type": "scatter",
         "x": [
          1,
          2,
          3,
          4,
          5,
          6,
          7,
          8,
          9,
          10,
          11,
          12,
          13,
          14,
          15,
          16,
          17,
          18
         ],
         "xaxis": "x",
         "y": [
          61,
          65,
          69,
          73,
          77,
          81,
          85,
          89,
          93,
          97,
          101,
          105,
          109,
          113,
          117,
          121,
          125,
          129
         ],
         "yaxis": "y"
        },
        {
         "hovertemplate": "Champion=Nasus<br>Niveau=%{x}<br>AD=%{y}<extra></extra>",
         "legendgroup": "Nasus",
         "line": {
          "color": "#EF553B",
          "dash": "solid"
         },
         "marker": {
          "symbol": "circle"
         },
         "mode": "lines",
         "name": "Nasus",
         "orientation": "v",
         "showlegend": true,
         "type": "scatter",
         "x": [
          1,
          2,
          3,
          4,
          5,
          6,
          7,
          8,
          9,
          10,
          11,
          12,
          13,
          14,
          15,
          16,
          17,
          18
         ],
         "xaxis": "x",
         "y": [
          67,
          70.5,
          74,
          77.5,
          81,
          84.5,
          88,
          91.5,
          95,
          98.5,
          102,
          105.5,
          109,
          112.5,
          116,
          119.5,
          123,
          126.5
         ],
         "yaxis": "y"
        },
        {
         "hovertemplate": "Champion=Ornn<br>Niveau=%{x}<br>AD=%{y}<extra></extra>",
         "legendgroup": "Ornn",
         "line": {
          "color": "#00cc96",
          "dash": "solid"
         },
         "marker": {
          "symbol": "circle"
         },
         "mode": "lines",
         "name": "Ornn",
         "orientation": "v",
         "showlegend": true,
         "type": "scatter",
         "x": [
          1,
          2,
          3,
          4,
          5,
          6,
          7,
          8,
          9,
          10,
          11,
          12,
          13,
          14,
          15,
          16,
          17,
          18
         ],
         "xaxis": "x",
         "y": [
          69,
          72.5,
          76,
          79.5,
          83,
          86.5,
          90,
          93.5,
          97,
          100.5,
          104,
          107.5,
          111,
          114.5,
          118,
          121.5,
          125,
          128.5
         ],
         "yaxis": "y"
        },
        {
         "hovertemplate": "Champion=Poppy<br>Niveau=%{x}<br>AD=%{y}<extra></extra>",
         "legendgroup": "Poppy",
         "line": {
          "color": "#ab63fa",
          "dash": "solid"
         },
         "marker": {
          "symbol": "circle"
         },
         "mode": "lines",
         "name": "Poppy",
         "orientation": "v",
         "showlegend": true,
         "type": "scatter",
         "x": [
          1,
          2,
          3,
          4,
          5,
          6,
          7,
          8,
          9,
          10,
          11,
          12,
          13,
          14,
          15,
          16,
          17,
          18
         ],
         "xaxis": "x",
         "y": [
          64,
          68,
          72,
          76,
          80,
          84,
          88,
          92,
          96,
          100,
          104,
          108,
          112,
          116,
          120,
          124,
          128,
          132
         ],
         "yaxis": "y"
        },
        {
         "hovertemplate": "Champion=Quinn<br>Niveau=%{x}<br>AD=%{y}<extra></extra>",
         "legendgroup": "Quinn",
         "line": {
          "color": "#FFA15A",
          "dash": "solid"
         },
         "marker": {
          "symbol": "circle"
         },
         "mode": "lines",
         "name": "Quinn",
         "orientation": "v",
         "showlegend": true,
         "type": "scatter",
         "x": [
          1,
          2,
          3,
          4,
          5,
          6,
          7,
          8,
          9,
          10,
          11,
          12,
          13,
          14,
          15,
          16,
          17,
          18
         ],
         "xaxis": "x",
         "y": [
          59,
          61.7,
          64.4,
          67.1,
          69.8,
          72.5,
          75.2,
          77.9,
          80.6,
          83.3,
          86,
          88.7,
          91.4,
          94.1,
          96.80000000000001,
          99.5,
          102.2,
          104.9
         ],
         "yaxis": "y"
        },
        {
         "hovertemplate": "Champion=Renekton<br>Niveau=%{x}<br>AD=%{y}<extra></extra>",
         "legendgroup": "Renekton",
         "line": {
          "color": "#19d3f3",
          "dash": "solid"
         },
         "marker": {
          "symbol": "circle"
         },
         "mode": "lines",
         "name": "Renekton",
         "orientation": "v",
         "showlegend": true,
         "type": "scatter",
         "x": [
          1,
          2,
          3,
          4,
          5,
          6,
          7,
          8,
          9,
          10,
          11,
          12,
          13,
          14,
          15,
          16,
          17,
          18
         ],
         "xaxis": "x",
         "y": [
          69,
          73.15,
          77.3,
          81.45,
          85.6,
          89.75,
          93.9,
          98.05000000000001,
          102.2,
          106.35,
          110.5,
          114.65,
          118.80000000000001,
          122.95,
          127.10000000000001,
          131.25,
          135.4,
          139.55
         ],
         "yaxis": "y"
        },
        {
         "hovertemplate": "Champion=Riven<br>Niveau=%{x}<br>AD=%{y}<extra></extra>",
         "legendgroup": "Riven",
         "line": {
          "color": "#FF6692",
          "dash": "solid"
         },
         "marker": {
          "symbol": "circle"
         },
         "mode": "lines",
         "name": "Riven",
         "orientation": "v",
         "showlegend": true,
         "type": "scatter",
         "x": [
          1,
          2,
          3,
          4,
          5,
          6,
          7,
          8,
          9,
          10,
          11,
          12,
          13,
          14,
          15,
          16,
          17,
          18
         ],
         "xaxis": "x",
         "y": [
          64,
          67,
          70,
          73,
          76,
          79,
          82,
          85,
          88,
          91,
          94,
          97,
          100,
          103,
          106,
          109,
          112,
          115
         ],
         "yaxis": "y"
        },
        {
         "hovertemplate": "Champion=Rumble<br>Niveau=%{x}<br>AD=%{y}<extra></extra>",
         "legendgroup": "Rumble",
         "line": {
          "color": "#B6E880",
          "dash": "solid"
         },
         "marker": {
          "symbol": "circle"
         },
         "mode": "lines",
         "name": "Rumble",
         "orientation": "v",
         "showlegend": true,
         "type": "scatter",
         "x": [
          1,
          2,
          3,
          4,
          5,
          6,
          7,
          8,
          9,
          10,
          11,
          12,
          13,
          14,
          15,
          16,
          17,
          18
         ],
         "xaxis": "x",
         "y": [
          61,
          64.2,
          67.4,
          70.6,
          73.8,
          77,
          80.2,
          83.4,
          86.6,
          89.8,
          93,
          96.2,
          99.4,
          102.6,
          105.80000000000001,
          109,
          112.2,
          115.4
         ],
         "yaxis": "y"
        },
        {
         "hovertemplate": "Champion=Sett<br>Niveau=%{x}<br>AD=%{y}<extra></extra>",
         "legendgroup": "Sett",
         "line": {
          "color": "#FF97FF",
          "dash": "solid"
         },
         "marker": {
          "symbol": "circle"
         },
         "mode": "lines",
         "name": "Sett",
         "orientation": "v",
         "showlegend": true,
         "type": "scatter",
         "x": [
          1,
          2,
          3,
          4,
          5,
          6,
          7,
          8,
          9,
          10,
          11,
          12,
          13,
          14,
          15,
          16,
          17,
          18
         ],
         "xaxis": "x",
         "y": [
          60,
          64,
          68,
          72,
          76,
          80,
          84,
          88,
          92,
          96,
          100,
          104,
          108,
          112,
          116,
          120,
          124,
          128
         ],
         "yaxis": "y"
        },
        {
         "hovertemplate": "Champion=Shen<br>Niveau=%{x}<br>AD=%{y}<extra></extra>",
         "legendgroup": "Shen",
         "line": {
          "color": "#FECB52",
          "dash": "solid"
         },
         "marker": {
          "symbol": "circle"
         },
         "mode": "lines",
         "name": "Shen",
         "orientation": "v",
         "showlegend": true,
         "type": "scatter",
         "x": [
          1,
          2,
          3,
          4,
          5,
          6,
          7,
          8,
          9,
          10,
          11,
          12,
          13,
          14,
          15,
          16,
          17,
          18
         ],
         "xaxis": "x",
         "y": [
          60,
          63,
          66,
          69,
          72,
          75,
          78,
          81,
          84,
          87,
          90,
          93,
          96,
          99,
          102,
          105,
          108,
          111
         ],
         "yaxis": "y"
        },
        {
         "hovertemplate": "Champion=Singed<br>Niveau=%{x}<br>AD=%{y}<extra></extra>",
         "legendgroup": "Singed",
         "line": {
          "color": "#636efa",
          "dash": "solid"
         },
         "marker": {
          "symbol": "circle"
         },
         "mode": "lines",
         "name": "Singed",
         "orientation": "v",
         "showlegend": true,
         "type": "scatter",
         "x": [
          1,
          2,
          3,
          4,
          5,
          6,
          7,
          8,
          9,
          10,
          11,
          12,
          13,
          14,
          15,
          16,
          17,
          18
         ],
         "xaxis": "x",
         "y": [
          63,
          66.4,
          69.8,
          73.2,
          76.6,
          80,
          83.4,
          86.8,
          90.2,
          93.6,
          97,
          100.4,
          103.8,
          107.19999999999999,
          110.6,
          114,
          117.4,
          120.8
         ],
         "yaxis": "y"
        },
        {
         "hovertemplate": "Champion=Sion<br>Niveau=%{x}<br>AD=%{y}<extra></extra>",
         "legendgroup": "Sion",
         "line": {
          "color": "#EF553B",
          "dash": "solid"
         },
         "marker": {
          "symbol": "circle"
         },
         "mode": "lines",
         "name": "Sion",
         "orientation": "v",
         "showlegend": true,
         "type": "scatter",
         "x": [
          1,
          2,
          3,
          4,
          5,
          6,
          7,
          8,
          9,
          10,
          11,
          12,
          13,
          14,
          15,
          16,
          17,
          18
         ],
         "xaxis": "x",
         "y": [
          68,
          72,
          76,
          80,
          84,
          88,
          92,
          96,
          100,
          104,
          108,
          112,
          116,
          120,
          124,
          128,
          132,
          136
         ],
         "yaxis": "y"
        },
        {
         "hovertemplate": "Champion=Kench<br>Niveau=%{x}<br>AD=%{y}<extra></extra>",
         "legendgroup": "Kench",
         "line": {
          "color": "#00cc96",
          "dash": "solid"
         },
         "marker": {
          "symbol": "circle"
         },
         "mode": "lines",
         "name": "Kench",
         "orientation": "v",
         "showlegend": true,
         "type": "scatter",
         "x": [
          1,
          2,
          3,
          4,
          5,
          6,
          7,
          8,
          9,
          10,
          11,
          12,
          13,
          14,
          15,
          16,
          17,
          18
         ],
         "xaxis": "x",
         "y": [
          56,
          59.2,
          62.4,
          65.6,
          68.8,
          72,
          75.2,
          78.4,
          81.6,
          84.8,
          88,
          91.2,
          94.4,
          97.6,
          100.80000000000001,
          104,
          107.2,
          110.4
         ],
         "yaxis": "y"
        },
        {
         "hovertemplate": "Champion=Teemo<br>Niveau=%{x}<br>AD=%{y}<extra></extra>",
         "legendgroup": "Teemo",
         "line": {
          "color": "#ab63fa",
          "dash": "solid"
         },
         "marker": {
          "symbol": "circle"
         },
         "mode": "lines",
         "name": "Teemo",
         "orientation": "v",
         "showlegend": true,
         "type": "scatter",
         "x": [
          1,
          2,
          3,
          4,
          5,
          6,
          7,
          8,
          9,
          10,
          11,
          12,
          13,
          14,
          15,
          16,
          17,
          18
         ],
         "xaxis": "x",
         "y": [
          54,
          57,
          60,
          63,
          66,
          69,
          72,
          75,
          78,
          81,
          84,
          87,
          90,
          93,
          96,
          99,
          102,
          105
         ],
         "yaxis": "y"
        },
        {
         "hovertemplate": "Champion=Tryndamere<br>Niveau=%{x}<br>AD=%{y}<extra></extra>",
         "legendgroup": "Tryndamere",
         "line": {
          "color": "#FFA15A",
          "dash": "solid"
         },
         "marker": {
          "symbol": "circle"
         },
         "mode": "lines",
         "name": "Tryndamere",
         "orientation": "v",
         "showlegend": true,
         "type": "scatter",
         "x": [
          1,
          2,
          3,
          4,
          5,
          6,
          7,
          8,
          9,
          10,
          11,
          12,
          13,
          14,
          15,
          16,
          17,
          18
         ],
         "xaxis": "x",
         "y": [
          66,
          70,
          74,
          78,
          82,
          86,
          90,
          94,
          98,
          102,
          106,
          110,
          114,
          118,
          122,
          126,
          130,
          134
         ],
         "yaxis": "y"
        },
        {
         "hovertemplate": "Champion=Urgot<br>Niveau=%{x}<br>AD=%{y}<extra></extra>",
         "legendgroup": "Urgot",
         "line": {
          "color": "#19d3f3",
          "dash": "solid"
         },
         "marker": {
          "symbol": "circle"
         },
         "mode": "lines",
         "name": "Urgot",
         "orientation": "v",
         "showlegend": true,
         "type": "scatter",
         "x": [
          1,
          2,
          3,
          4,
          5,
          6,
          7,
          8,
          9,
          10,
          11,
          12,
          13,
          14,
          15,
          16,
          17,
          18
         ],
         "xaxis": "x",
         "y": [
          63,
          67,
          71,
          75,
          79,
          83,
          87,
          91,
          95,
          99,
          103,
          107,
          111,
          115,
          119,
          123,
          127,
          131
         ],
         "yaxis": "y"
        },
        {
         "hovertemplate": "Champion=Vladimir<br>Niveau=%{x}<br>AD=%{y}<extra></extra>",
         "legendgroup": "Vladimir",
         "line": {
          "color": "#FF6692",
          "dash": "solid"
         },
         "marker": {
          "symbol": "circle"
         },
         "mode": "lines",
         "name": "Vladimir",
         "orientation": "v",
         "showlegend": true,
         "type": "scatter",
         "x": [
          1,
          2,
          3,
          4,
          5,
          6,
          7,
          8,
          9,
          10,
          11,
          12,
          13,
          14,
          15,
          16,
          17,
          18
         ],
         "xaxis": "x",
         "y": [
          55,
          58,
          61,
          64,
          67,
          70,
          73,
          76,
          79,
          82,
          85,
          88,
          91,
          94,
          97,
          100,
          103,
          106
         ],
         "yaxis": "y"
        },
        {
         "hovertemplate": "Champion=Wukong<br>Niveau=%{x}<br>AD=%{y}<extra></extra>",
         "legendgroup": "Wukong",
         "line": {
          "color": "#B6E880",
          "dash": "solid"
         },
         "marker": {
          "symbol": "circle"
         },
         "mode": "lines",
         "name": "Wukong",
         "orientation": "v",
         "showlegend": true,
         "type": "scatter",
         "x": [
          1,
          2,
          3,
          4,
          5,
          6,
          7,
          8,
          9,
          10,
          11,
          12,
          13,
          14,
          15,
          16,
          17,
          18
         ],
         "xaxis": "x",
         "y": [
          66,
          69.5,
          73,
          76.5,
          80,
          83.5,
          87,
          90.5,
          94,
          97.5,
          101,
          104.5,
          108,
          111.5,
          115,
          118.5,
          122,
          125.5
         ],
         "yaxis": "y"
        },
        {
         "hovertemplate": "Champion=Yorick<br>Niveau=%{x}<br>AD=%{y}<extra></extra>",
         "legendgroup": "Yorick",
         "line": {
          "color": "#FF97FF",
          "dash": "solid"
         },
         "marker": {
          "symbol": "circle"
         },
         "mode": "lines",
         "name": "Yorick",
         "orientation": "v",
         "showlegend": true,
         "type": "scatter",
         "x": [
          1,
          2,
          3,
          4,
          5,
          6,
          7,
          8,
          9,
          10,
          11,
          12,
          13,
          14,
          15,
          16,
          17,
          18
         ],
         "xaxis": "x",
         "y": [
          62,
          67,
          72,
          77,
          82,
          87,
          92,
          97,
          102,
          107,
          112,
          117,
          122,
          127,
          132,
          137,
          142,
          147
         ],
         "yaxis": "y"
        }
       ],
       "layout": {
        "legend": {
         "title": {
          "text": "Champion"
         },
         "tracegroupgap": 0
        },
        "template": {
         "data": {
          "bar": [
           {
            "error_x": {
             "color": "#2a3f5f"
            },
            "error_y": {
             "color": "#2a3f5f"
            },
            "marker": {
             "line": {
              "color": "#E5ECF6",
              "width": 0.5
             },
             "pattern": {
              "fillmode": "overlay",
              "size": 10,
              "solidity": 0.2
             }
            },
            "type": "bar"
           }
          ],
          "barpolar": [
           {
            "marker": {
             "line": {
              "color": "#E5ECF6",
              "width": 0.5
             },
             "pattern": {
              "fillmode": "overlay",
              "size": 10,
              "solidity": 0.2
             }
            },
            "type": "barpolar"
           }
          ],
          "carpet": [
           {
            "aaxis": {
             "endlinecolor": "#2a3f5f",
             "gridcolor": "white",
             "linecolor": "white",
             "minorgridcolor": "white",
             "startlinecolor": "#2a3f5f"
            },
            "baxis": {
             "endlinecolor": "#2a3f5f",
             "gridcolor": "white",
             "linecolor": "white",
             "minorgridcolor": "white",
             "startlinecolor": "#2a3f5f"
            },
            "type": "carpet"
           }
          ],
          "choropleth": [
           {
            "colorbar": {
             "outlinewidth": 0,
             "ticks": ""
            },
            "type": "choropleth"
           }
          ],
          "contour": [
           {
            "colorbar": {
             "outlinewidth": 0,
             "ticks": ""
            },
            "colorscale": [
             [
              0,
              "#0d0887"
             ],
             [
              0.1111111111111111,
              "#46039f"
             ],
             [
              0.2222222222222222,
              "#7201a8"
             ],
             [
              0.3333333333333333,
              "#9c179e"
             ],
             [
              0.4444444444444444,
              "#bd3786"
             ],
             [
              0.5555555555555556,
              "#d8576b"
             ],
             [
              0.6666666666666666,
              "#ed7953"
             ],
             [
              0.7777777777777778,
              "#fb9f3a"
             ],
             [
              0.8888888888888888,
              "#fdca26"
             ],
             [
              1,
              "#f0f921"
             ]
            ],
            "type": "contour"
           }
          ],
          "contourcarpet": [
           {
            "colorbar": {
             "outlinewidth": 0,
             "ticks": ""
            },
            "type": "contourcarpet"
           }
          ],
          "heatmap": [
           {
            "colorbar": {
             "outlinewidth": 0,
             "ticks": ""
            },
            "colorscale": [
             [
              0,
              "#0d0887"
             ],
             [
              0.1111111111111111,
              "#46039f"
             ],
             [
              0.2222222222222222,
              "#7201a8"
             ],
             [
              0.3333333333333333,
              "#9c179e"
             ],
             [
              0.4444444444444444,
              "#bd3786"
             ],
             [
              0.5555555555555556,
              "#d8576b"
             ],
             [
              0.6666666666666666,
              "#ed7953"
             ],
             [
              0.7777777777777778,
              "#fb9f3a"
             ],
             [
              0.8888888888888888,
              "#fdca26"
             ],
             [
              1,
              "#f0f921"
             ]
            ],
            "type": "heatmap"
           }
          ],
          "heatmapgl": [
           {
            "colorbar": {
             "outlinewidth": 0,
             "ticks": ""
            },
            "colorscale": [
             [
              0,
              "#0d0887"
             ],
             [
              0.1111111111111111,
              "#46039f"
             ],
             [
              0.2222222222222222,
              "#7201a8"
             ],
             [
              0.3333333333333333,
              "#9c179e"
             ],
             [
              0.4444444444444444,
              "#bd3786"
             ],
             [
              0.5555555555555556,
              "#d8576b"
             ],
             [
              0.6666666666666666,
              "#ed7953"
             ],
             [
              0.7777777777777778,
              "#fb9f3a"
             ],
             [
              0.8888888888888888,
              "#fdca26"
             ],
             [
              1,
              "#f0f921"
             ]
            ],
            "type": "heatmapgl"
           }
          ],
          "histogram": [
           {
            "marker": {
             "pattern": {
              "fillmode": "overlay",
              "size": 10,
              "solidity": 0.2
             }
            },
            "type": "histogram"
           }
          ],
          "histogram2d": [
           {
            "colorbar": {
             "outlinewidth": 0,
             "ticks": ""
            },
            "colorscale": [
             [
              0,
              "#0d0887"
             ],
             [
              0.1111111111111111,
              "#46039f"
             ],
             [
              0.2222222222222222,
              "#7201a8"
             ],
             [
              0.3333333333333333,
              "#9c179e"
             ],
             [
              0.4444444444444444,
              "#bd3786"
             ],
             [
              0.5555555555555556,
              "#d8576b"
             ],
             [
              0.6666666666666666,
              "#ed7953"
             ],
             [
              0.7777777777777778,
              "#fb9f3a"
             ],
             [
              0.8888888888888888,
              "#fdca26"
             ],
             [
              1,
              "#f0f921"
             ]
            ],
            "type": "histogram2d"
           }
          ],
          "histogram2dcontour": [
           {
            "colorbar": {
             "outlinewidth": 0,
             "ticks": ""
            },
            "colorscale": [
             [
              0,
              "#0d0887"
             ],
             [
              0.1111111111111111,
              "#46039f"
             ],
             [
              0.2222222222222222,
              "#7201a8"
             ],
             [
              0.3333333333333333,
              "#9c179e"
             ],
             [
              0.4444444444444444,
              "#bd3786"
             ],
             [
              0.5555555555555556,
              "#d8576b"
             ],
             [
              0.6666666666666666,
              "#ed7953"
             ],
             [
              0.7777777777777778,
              "#fb9f3a"
             ],
             [
              0.8888888888888888,
              "#fdca26"
             ],
             [
              1,
              "#f0f921"
             ]
            ],
            "type": "histogram2dcontour"
           }
          ],
          "mesh3d": [
           {
            "colorbar": {
             "outlinewidth": 0,
             "ticks": ""
            },
            "type": "mesh3d"
           }
          ],
          "parcoords": [
           {
            "line": {
             "colorbar": {
              "outlinewidth": 0,
              "ticks": ""
             }
            },
            "type": "parcoords"
           }
          ],
          "pie": [
           {
            "automargin": true,
            "type": "pie"
           }
          ],
          "scatter": [
           {
            "fillpattern": {
             "fillmode": "overlay",
             "size": 10,
             "solidity": 0.2
            },
            "type": "scatter"
           }
          ],
          "scatter3d": [
           {
            "line": {
             "colorbar": {
              "outlinewidth": 0,
              "ticks": ""
             }
            },
            "marker": {
             "colorbar": {
              "outlinewidth": 0,
              "ticks": ""
             }
            },
            "type": "scatter3d"
           }
          ],
          "scattercarpet": [
           {
            "marker": {
             "colorbar": {
              "outlinewidth": 0,
              "ticks": ""
             }
            },
            "type": "scattercarpet"
           }
          ],
          "scattergeo": [
           {
            "marker": {
             "colorbar": {
              "outlinewidth": 0,
              "ticks": ""
             }
            },
            "type": "scattergeo"
           }
          ],
          "scattergl": [
           {
            "marker": {
             "colorbar": {
              "outlinewidth": 0,
              "ticks": ""
             }
            },
            "type": "scattergl"
           }
          ],
          "scattermapbox": [
           {
            "marker": {
             "colorbar": {
              "outlinewidth": 0,
              "ticks": ""
             }
            },
            "type": "scattermapbox"
           }
          ],
          "scatterpolar": [
           {
            "marker": {
             "colorbar": {
              "outlinewidth": 0,
              "ticks": ""
             }
            },
            "type": "scatterpolar"
           }
          ],
          "scatterpolargl": [
           {
            "marker": {
             "colorbar": {
              "outlinewidth": 0,
              "ticks": ""
             }
            },
            "type": "scatterpolargl"
           }
          ],
          "scatterternary": [
           {
            "marker": {
             "colorbar": {
              "outlinewidth": 0,
              "ticks": ""
             }
            },
            "type": "scatterternary"
           }
          ],
          "surface": [
           {
            "colorbar": {
             "outlinewidth": 0,
             "ticks": ""
            },
            "colorscale": [
             [
              0,
              "#0d0887"
             ],
             [
              0.1111111111111111,
              "#46039f"
             ],
             [
              0.2222222222222222,
              "#7201a8"
             ],
             [
              0.3333333333333333,
              "#9c179e"
             ],
             [
              0.4444444444444444,
              "#bd3786"
             ],
             [
              0.5555555555555556,
              "#d8576b"
             ],
             [
              0.6666666666666666,
              "#ed7953"
             ],
             [
              0.7777777777777778,
              "#fb9f3a"
             ],
             [
              0.8888888888888888,
              "#fdca26"
             ],
             [
              1,
              "#f0f921"
             ]
            ],
            "type": "surface"
           }
          ],
          "table": [
           {
            "cells": {
             "fill": {
              "color": "#EBF0F8"
             },
             "line": {
              "color": "white"
             }
            },
            "header": {
             "fill": {
              "color": "#C8D4E3"
             },
             "line": {
              "color": "white"
             }
            },
            "type": "table"
           }
          ]
         },
         "layout": {
          "annotationdefaults": {
           "arrowcolor": "#2a3f5f",
           "arrowhead": 0,
           "arrowwidth": 1
          },
          "autotypenumbers": "strict",
          "coloraxis": {
           "colorbar": {
            "outlinewidth": 0,
            "ticks": ""
           }
          },
          "colorscale": {
           "diverging": [
            [
             0,
             "#8e0152"
            ],
            [
             0.1,
             "#c51b7d"
            ],
            [
             0.2,
             "#de77ae"
            ],
            [
             0.3,
             "#f1b6da"
            ],
            [
             0.4,
             "#fde0ef"
            ],
            [
             0.5,
             "#f7f7f7"
            ],
            [
             0.6,
             "#e6f5d0"
            ],
            [
             0.7,
             "#b8e186"
            ],
            [
             0.8,
             "#7fbc41"
            ],
            [
             0.9,
             "#4d9221"
            ],
            [
             1,
             "#276419"
            ]
           ],
           "sequential": [
            [
             0,
             "#0d0887"
            ],
            [
             0.1111111111111111,
             "#46039f"
            ],
            [
             0.2222222222222222,
             "#7201a8"
            ],
            [
             0.3333333333333333,
             "#9c179e"
            ],
            [
             0.4444444444444444,
             "#bd3786"
            ],
            [
             0.5555555555555556,
             "#d8576b"
            ],
            [
             0.6666666666666666,
             "#ed7953"
            ],
            [
             0.7777777777777778,
             "#fb9f3a"
            ],
            [
             0.8888888888888888,
             "#fdca26"
            ],
            [
             1,
             "#f0f921"
            ]
           ],
           "sequentialminus": [
            [
             0,
             "#0d0887"
            ],
            [
             0.1111111111111111,
             "#46039f"
            ],
            [
             0.2222222222222222,
             "#7201a8"
            ],
            [
             0.3333333333333333,
             "#9c179e"
            ],
            [
             0.4444444444444444,
             "#bd3786"
            ],
            [
             0.5555555555555556,
             "#d8576b"
            ],
            [
             0.6666666666666666,
             "#ed7953"
            ],
            [
             0.7777777777777778,
             "#fb9f3a"
            ],
            [
             0.8888888888888888,
             "#fdca26"
            ],
            [
             1,
             "#f0f921"
            ]
           ]
          },
          "colorway": [
           "#636efa",
           "#EF553B",
           "#00cc96",
           "#ab63fa",
           "#FFA15A",
           "#19d3f3",
           "#FF6692",
           "#B6E880",
           "#FF97FF",
           "#FECB52"
          ],
          "font": {
           "color": "#2a3f5f"
          },
          "geo": {
           "bgcolor": "white",
           "lakecolor": "white",
           "landcolor": "#E5ECF6",
           "showlakes": true,
           "showland": true,
           "subunitcolor": "white"
          },
          "hoverlabel": {
           "align": "left"
          },
          "hovermode": "closest",
          "mapbox": {
           "style": "light"
          },
          "paper_bgcolor": "white",
          "plot_bgcolor": "#E5ECF6",
          "polar": {
           "angularaxis": {
            "gridcolor": "white",
            "linecolor": "white",
            "ticks": ""
           },
           "bgcolor": "#E5ECF6",
           "radialaxis": {
            "gridcolor": "white",
            "linecolor": "white",
            "ticks": ""
           }
          },
          "scene": {
           "xaxis": {
            "backgroundcolor": "#E5ECF6",
            "gridcolor": "white",
            "gridwidth": 2,
            "linecolor": "white",
            "showbackground": true,
            "ticks": "",
            "zerolinecolor": "white"
           },
           "yaxis": {
            "backgroundcolor": "#E5ECF6",
            "gridcolor": "white",
            "gridwidth": 2,
            "linecolor": "white",
            "showbackground": true,
            "ticks": "",
            "zerolinecolor": "white"
           },
           "zaxis": {
            "backgroundcolor": "#E5ECF6",
            "gridcolor": "white",
            "gridwidth": 2,
            "linecolor": "white",
            "showbackground": true,
            "ticks": "",
            "zerolinecolor": "white"
           }
          },
          "shapedefaults": {
           "line": {
            "color": "#2a3f5f"
           }
          },
          "ternary": {
           "aaxis": {
            "gridcolor": "white",
            "linecolor": "white",
            "ticks": ""
           },
           "baxis": {
            "gridcolor": "white",
            "linecolor": "white",
            "ticks": ""
           },
           "bgcolor": "#E5ECF6",
           "caxis": {
            "gridcolor": "white",
            "linecolor": "white",
            "ticks": ""
           }
          },
          "title": {
           "x": 0.05
          },
          "xaxis": {
           "automargin": true,
           "gridcolor": "white",
           "linecolor": "white",
           "ticks": "",
           "title": {
            "standoff": 15
           },
           "zerolinecolor": "white",
           "zerolinewidth": 2
          },
          "yaxis": {
           "automargin": true,
           "gridcolor": "white",
           "linecolor": "white",
           "ticks": "",
           "title": {
            "standoff": 15
           },
           "zerolinecolor": "white",
           "zerolinewidth": 2
          }
         }
        },
        "title": {
         "text": "AD par niveau pour chaque champion"
        },
        "xaxis": {
         "anchor": "y",
         "domain": [
          0,
          1
         ],
         "title": {
          "text": "Niveau"
         }
        },
        "yaxis": {
         "anchor": "x",
         "domain": [
          0,
          1
         ],
         "title": {
          "text": "AD"
         }
        }
       }
      }
     },
     "metadata": {},
     "output_type": "display_data"
    }
   ],
   "source": [
    "plot_ad_per_level(df_top, 'AD')"
   ]
  },
  {
   "cell_type": "code",
   "execution_count": 41,
   "metadata": {},
   "outputs": [
    {
     "data": {
      "application/vnd.plotly.v1+json": {
       "config": {
        "plotlyServerURL": "https://plot.ly"
       },
       "data": [
        {
         "hovertemplate": "Champion=Aatrox<br>Niveau=%{x}<br>Health=%{y}<extra></extra>",
         "legendgroup": "Aatrox",
         "line": {
          "color": "#636efa",
          "dash": "solid"
         },
         "marker": {
          "symbol": "circle"
         },
         "mode": "lines",
         "name": "Aatrox",
         "orientation": "v",
         "showlegend": true,
         "type": "scatter",
         "x": [
          1,
          2,
          3,
          4,
          5,
          6,
          7,
          8,
          9,
          10,
          11,
          12,
          13,
          14,
          15,
          16,
          17,
          18
         ],
         "xaxis": "x",
         "y": [
          650,
          764,
          878,
          992,
          1106,
          1220,
          1334,
          1448,
          1562,
          1676,
          1790,
          1904,
          2018,
          2132,
          2246,
          2360,
          2474,
          2588
         ],
         "yaxis": "y"
        },
        {
         "hovertemplate": "Champion=Camille<br>Niveau=%{x}<br>Health=%{y}<extra></extra>",
         "legendgroup": "Camille",
         "line": {
          "color": "#EF553B",
          "dash": "solid"
         },
         "marker": {
          "symbol": "circle"
         },
         "mode": "lines",
         "name": "Camille",
         "orientation": "v",
         "showlegend": true,
         "type": "scatter",
         "x": [
          1,
          2,
          3,
          4,
          5,
          6,
          7,
          8,
          9,
          10,
          11,
          12,
          13,
          14,
          15,
          16,
          17,
          18
         ],
         "xaxis": "x",
         "y": [
          646,
          745,
          844,
          943,
          1042,
          1141,
          1240,
          1339,
          1438,
          1537,
          1636,
          1735,
          1834,
          1933,
          2032,
          2131,
          2230,
          2329
         ],
         "yaxis": "y"
        },
        {
         "hovertemplate": "Champion=Gath<br>Niveau=%{x}<br>Health=%{y}<extra></extra>",
         "legendgroup": "Gath",
         "line": {
          "color": "#00cc96",
          "dash": "solid"
         },
         "marker": {
          "symbol": "circle"
         },
         "mode": "lines",
         "name": "Gath",
         "orientation": "v",
         "showlegend": true,
         "type": "scatter",
         "x": [
          1,
          2,
          3,
          4,
          5,
          6,
          7,
          8,
          9,
          10,
          11,
          12,
          13,
          14,
          15,
          16,
          17,
          18
         ],
         "xaxis": "x",
         "y": [
          644,
          738,
          832,
          926,
          1020,
          1114,
          1208,
          1302,
          1396,
          1490,
          1584,
          1678,
          1772,
          1866,
          1960,
          2054,
          2148,
          2242
         ],
         "yaxis": "y"
        },
        {
         "hovertemplate": "Champion=Darius<br>Niveau=%{x}<br>Health=%{y}<extra></extra>",
         "legendgroup": "Darius",
         "line": {
          "color": "#ab63fa",
          "dash": "solid"
         },
         "marker": {
          "symbol": "circle"
         },
         "mode": "lines",
         "name": "Darius",
         "orientation": "v",
         "showlegend": true,
         "type": "scatter",
         "x": [
          1,
          2,
          3,
          4,
          5,
          6,
          7,
          8,
          9,
          10,
          11,
          12,
          13,
          14,
          15,
          16,
          17,
          18
         ],
         "xaxis": "x",
         "y": [
          652,
          766,
          880,
          994,
          1108,
          1222,
          1336,
          1450,
          1564,
          1678,
          1792,
          1906,
          2020,
          2134,
          2248,
          2362,
          2476,
          2590
         ],
         "yaxis": "y"
        },
        {
         "hovertemplate": "Champion=Mundo<br>Niveau=%{x}<br>Health=%{y}<extra></extra>",
         "legendgroup": "Mundo",
         "line": {
          "color": "#FFA15A",
          "dash": "solid"
         },
         "marker": {
          "symbol": "circle"
         },
         "mode": "lines",
         "name": "Mundo",
         "orientation": "v",
         "showlegend": true,
         "type": "scatter",
         "x": [
          1,
          2,
          3,
          4,
          5,
          6,
          7,
          8,
          9,
          10,
          11,
          12,
          13,
          14,
          15,
          16,
          17,
          18
         ],
         "xaxis": "x",
         "y": [
          613,
          716,
          819,
          922,
          1025,
          1128,
          1231,
          1334,
          1437,
          1540,
          1643,
          1746,
          1849,
          1952,
          2055,
          2158,
          2261,
          2364
         ],
         "yaxis": "y"
        },
        {
         "hovertemplate": "Champion=Fiora<br>Niveau=%{x}<br>Health=%{y}<extra></extra>",
         "legendgroup": "Fiora",
         "line": {
          "color": "#19d3f3",
          "dash": "solid"
         },
         "marker": {
          "symbol": "circle"
         },
         "mode": "lines",
         "name": "Fiora",
         "orientation": "v",
         "showlegend": true,
         "type": "scatter",
         "x": [
          1,
          2,
          3,
          4,
          5,
          6,
          7,
          8,
          9,
          10,
          11,
          12,
          13,
          14,
          15,
          16,
          17,
          18
         ],
         "xaxis": "x",
         "y": [
          620,
          719,
          818,
          917,
          1016,
          1115,
          1214,
          1313,
          1412,
          1511,
          1610,
          1709,
          1808,
          1907,
          2006,
          2105,
          2204,
          2303
         ],
         "yaxis": "y"
        },
        {
         "hovertemplate": "Champion=Gangplank<br>Niveau=%{x}<br>Health=%{y}<extra></extra>",
         "legendgroup": "Gangplank",
         "line": {
          "color": "#FF6692",
          "dash": "solid"
         },
         "marker": {
          "symbol": "circle"
         },
         "mode": "lines",
         "name": "Gangplank",
         "orientation": "v",
         "showlegend": true,
         "type": "scatter",
         "x": [
          1,
          2,
          3,
          4,
          5,
          6,
          7,
          8,
          9,
          10,
          11,
          12,
          13,
          14,
          15,
          16,
          17,
          18
         ],
         "xaxis": "x",
         "y": [
          600,
          714,
          828,
          942,
          1056,
          1170,
          1284,
          1398,
          1512,
          1626,
          1740,
          1854,
          1968,
          2082,
          2196,
          2310,
          2424,
          2538
         ],
         "yaxis": "y"
        },
        {
         "hovertemplate": "Champion=Garen<br>Niveau=%{x}<br>Health=%{y}<extra></extra>",
         "legendgroup": "Garen",
         "line": {
          "color": "#B6E880",
          "dash": "solid"
         },
         "marker": {
          "symbol": "circle"
         },
         "mode": "lines",
         "name": "Garen",
         "orientation": "v",
         "showlegend": true,
         "type": "scatter",
         "x": [
          1,
          2,
          3,
          4,
          5,
          6,
          7,
          8,
          9,
          10,
          11,
          12,
          13,
          14,
          15,
          16,
          17,
          18
         ],
         "xaxis": "x",
         "y": [
          690,
          788,
          886,
          984,
          1082,
          1180,
          1278,
          1376,
          1474,
          1572,
          1670,
          1768,
          1866,
          1964,
          2062,
          2160,
          2258,
          2356
         ],
         "yaxis": "y"
        },
        {
         "hovertemplate": "Champion=Gnar<br>Niveau=%{x}<br>Health=%{y}<extra></extra>",
         "legendgroup": "Gnar",
         "line": {
          "color": "#FF97FF",
          "dash": "solid"
         },
         "marker": {
          "symbol": "circle"
         },
         "mode": "lines",
         "name": "Gnar",
         "orientation": "v",
         "showlegend": true,
         "type": "scatter",
         "x": [
          1,
          2,
          3,
          4,
          5,
          6,
          7,
          8,
          9,
          10,
          11,
          12,
          13,
          14,
          15,
          16,
          17,
          18,
          1,
          2,
          3,
          4,
          5,
          6,
          7,
          8,
          9,
          10,
          11,
          12,
          13,
          14,
          15,
          16,
          17,
          18
         ],
         "xaxis": "x",
         "y": [
          540,
          619,
          698,
          777,
          856,
          935,
          1014,
          1093,
          1172,
          1251,
          1330,
          1409,
          1488,
          1567,
          1646,
          1725,
          1804,
          1883,
          640,
          762,
          884,
          1006,
          1128,
          1250,
          1372,
          1494,
          1616,
          1738,
          1860,
          1982,
          2104,
          2226,
          2348,
          2470,
          2592,
          2714
         ],
         "yaxis": "y"
        },
        {
         "hovertemplate": "Champion=Gwen<br>Niveau=%{x}<br>Health=%{y}<extra></extra>",
         "legendgroup": "Gwen",
         "line": {
          "color": "#FECB52",
          "dash": "solid"
         },
         "marker": {
          "symbol": "circle"
         },
         "mode": "lines",
         "name": "Gwen",
         "orientation": "v",
         "showlegend": true,
         "type": "scatter",
         "x": [
          1,
          2,
          3,
          4,
          5,
          6,
          7,
          8,
          9,
          10,
          11,
          12,
          13,
          14,
          15,
          16,
          17,
          18
         ],
         "xaxis": "x",
         "y": [
          620,
          726,
          832,
          938,
          1044,
          1150,
          1256,
          1362,
          1468,
          1574,
          1680,
          1786,
          1892,
          1998,
          2104,
          2210,
          2316,
          2422
         ],
         "yaxis": "y"
        },
        {
         "hovertemplate": "Champion=Illaoi<br>Niveau=%{x}<br>Health=%{y}<extra></extra>",
         "legendgroup": "Illaoi",
         "line": {
          "color": "#636efa",
          "dash": "solid"
         },
         "marker": {
          "symbol": "circle"
         },
         "mode": "lines",
         "name": "Illaoi",
         "orientation": "v",
         "showlegend": true,
         "type": "scatter",
         "x": [
          1,
          2,
          3,
          4,
          5,
          6,
          7,
          8,
          9,
          10,
          11,
          12,
          13,
          14,
          15,
          16,
          17,
          18
         ],
         "xaxis": "x",
         "y": [
          656,
          765,
          874,
          983,
          1092,
          1201,
          1310,
          1419,
          1528,
          1637,
          1746,
          1855,
          1964,
          2073,
          2182,
          2291,
          2400,
          2509
         ],
         "yaxis": "y"
        },
        {
         "hovertemplate": "Champion=Irelia<br>Niveau=%{x}<br>Health=%{y}<extra></extra>",
         "legendgroup": "Irelia",
         "line": {
          "color": "#EF553B",
          "dash": "solid"
         },
         "marker": {
          "symbol": "circle"
         },
         "mode": "lines",
         "name": "Irelia",
         "orientation": "v",
         "showlegend": true,
         "type": "scatter",
         "x": [
          1,
          2,
          3,
          4,
          5,
          6,
          7,
          8,
          9,
          10,
          11,
          12,
          13,
          14,
          15,
          16,
          17,
          18
         ],
         "xaxis": "x",
         "y": [
          590,
          714,
          838,
          962,
          1086,
          1210,
          1334,
          1458,
          1582,
          1706,
          1830,
          1954,
          2078,
          2202,
          2326,
          2450,
          2574,
          2698
         ],
         "yaxis": "y"
        },
        {
         "hovertemplate": "Champion=Jayce<br>Niveau=%{x}<br>Health=%{y}<extra></extra>",
         "legendgroup": "Jayce",
         "line": {
          "color": "#00cc96",
          "dash": "solid"
         },
         "marker": {
          "symbol": "circle"
         },
         "mode": "lines",
         "name": "Jayce",
         "orientation": "v",
         "showlegend": true,
         "type": "scatter",
         "x": [
          1,
          2,
          3,
          4,
          5,
          6,
          7,
          8,
          9,
          10,
          11,
          12,
          13,
          14,
          15,
          16,
          17,
          18
         ],
         "xaxis": "x",
         "y": [
          590,
          699,
          808,
          917,
          1026,
          1135,
          1244,
          1353,
          1462,
          1571,
          1680,
          1789,
          1898,
          2007,
          2116,
          2225,
          2334,
          2443
         ],
         "yaxis": "y"
        },
        {
         "hovertemplate": "Champion=Sante<br>Niveau=%{x}<br>Health=%{y}<extra></extra>",
         "legendgroup": "Sante",
         "line": {
          "color": "#ab63fa",
          "dash": "solid"
         },
         "marker": {
          "symbol": "circle"
         },
         "mode": "lines",
         "name": "Sante",
         "orientation": "v",
         "showlegend": true,
         "type": "scatter",
         "x": [
          1,
          2,
          3,
          4,
          5,
          6,
          7,
          8,
          9,
          10,
          11,
          12,
          13,
          14,
          15,
          16,
          17,
          18
         ],
         "xaxis": "x",
         "y": [
          570,
          685,
          800,
          915,
          1030,
          1145,
          1260,
          1375,
          1490,
          1605,
          1720,
          1835,
          1950,
          2065,
          2180,
          2295,
          2410,
          2525
         ],
         "yaxis": "y"
        },
        {
         "hovertemplate": "Champion=Kayle<br>Niveau=%{x}<br>Health=%{y}<extra></extra>",
         "legendgroup": "Kayle",
         "line": {
          "color": "#FFA15A",
          "dash": "solid"
         },
         "marker": {
          "symbol": "circle"
         },
         "mode": "lines",
         "name": "Kayle",
         "orientation": "v",
         "showlegend": true,
         "type": "scatter",
         "x": [
          1,
          2,
          3,
          4,
          5,
          6,
          7,
          8,
          9,
          10,
          11,
          12,
          13,
          14,
          15,
          16,
          17,
          18
         ],
         "xaxis": "x",
         "y": [
          670,
          762,
          854,
          946,
          1038,
          1130,
          1222,
          1314,
          1406,
          1498,
          1590,
          1682,
          1774,
          1866,
          1958,
          2050,
          2142,
          2234
         ],
         "yaxis": "y"
        },
        {
         "hovertemplate": "Champion=Kennen<br>Niveau=%{x}<br>Health=%{y}<extra></extra>",
         "legendgroup": "Kennen",
         "line": {
          "color": "#19d3f3",
          "dash": "solid"
         },
         "marker": {
          "symbol": "circle"
         },
         "mode": "lines",
         "name": "Kennen",
         "orientation": "v",
         "showlegend": true,
         "type": "scatter",
         "x": [
          1,
          2,
          3,
          4,
          5,
          6,
          7,
          8,
          9,
          10,
          11,
          12,
          13,
          14,
          15,
          16,
          17,
          18
         ],
         "xaxis": "x",
         "y": [
          611,
          709,
          807,
          905,
          1003,
          1101,
          1199,
          1297,
          1395,
          1493,
          1591,
          1689,
          1787,
          1885,
          1983,
          2081,
          2179,
          2277
         ],
         "yaxis": "y"
        },
        {
         "hovertemplate": "Champion=Kled<br>Niveau=%{x}<br>Health=%{y}<extra></extra>",
         "legendgroup": "Kled",
         "line": {
          "color": "#FF6692",
          "dash": "solid"
         },
         "marker": {
          "symbol": "circle"
         },
         "mode": "lines",
         "name": "Kled",
         "orientation": "v",
         "showlegend": true,
         "type": "scatter",
         "x": [
          1,
          2,
          3,
          4,
          5,
          6,
          7,
          8,
          9,
          10,
          11,
          12,
          13,
          14,
          15,
          16,
          17,
          18
         ],
         "xaxis": "x",
         "y": [
          410,
          494,
          578,
          662,
          746,
          830,
          914,
          998,
          1082,
          1166,
          1250,
          1334,
          1418,
          1502,
          1586,
          1670,
          1754,
          1838
         ],
         "yaxis": "y"
        },
        {
         "hovertemplate": "Champion=Kled&Skaarl<br>Niveau=%{x}<br>Health=%{y}<extra></extra>",
         "legendgroup": "Kled&Skaarl",
         "line": {
          "color": "#B6E880",
          "dash": "solid"
         },
         "marker": {
          "symbol": "circle"
         },
         "mode": "lines",
         "name": "Kled&Skaarl",
         "orientation": "v",
         "showlegend": true,
         "type": "scatter",
         "x": [
          1,
          2,
          3,
          4,
          5,
          6,
          7,
          8,
          9,
          10,
          11,
          12,
          13,
          14,
          15,
          16,
          17,
          18
         ],
         "xaxis": "x",
         "y": [
          810,
          961.64705882353,
          1113.29411764706,
          1264.94117647059,
          1416.5882352941198,
          1568.23529411765,
          1719.88235294118,
          1871.52941176471,
          2023.17647058824,
          2174.82352941177,
          2326.4705882353,
          2478.11764705883,
          2629.76470588236,
          2781.41176470589,
          2933.05882352942,
          3084.7058823529496,
          3236.35294117648,
          3388.00000000001
         ],
         "yaxis": "y"
        },
        {
         "hovertemplate": "Champion=Malphite<br>Niveau=%{x}<br>Health=%{y}<extra></extra>",
         "legendgroup": "Malphite",
         "line": {
          "color": "#FF97FF",
          "dash": "solid"
         },
         "marker": {
          "symbol": "circle"
         },
         "mode": "lines",
         "name": "Malphite",
         "orientation": "v",
         "showlegend": true,
         "type": "scatter",
         "x": [
          1,
          2,
          3,
          4,
          5,
          6,
          7,
          8,
          9,
          10,
          11,
          12,
          13,
          14,
          15,
          16,
          17,
          18
         ],
         "xaxis": "x",
         "y": [
          644,
          748,
          852,
          956,
          1060,
          1164,
          1268,
          1372,
          1476,
          1580,
          1684,
          1788,
          1892,
          1996,
          2100,
          2204,
          2308,
          2412
         ],
         "yaxis": "y"
        },
        {
         "hovertemplate": "Champion=Maokai<br>Niveau=%{x}<br>Health=%{y}<extra></extra>",
         "legendgroup": "Maokai",
         "line": {
          "color": "#FECB52",
          "dash": "solid"
         },
         "marker": {
          "symbol": "circle"
         },
         "mode": "lines",
         "name": "Maokai",
         "orientation": "v",
         "showlegend": true,
         "type": "scatter",
         "x": [
          1,
          2,
          3,
          4,
          5,
          6,
          7,
          8,
          9,
          10,
          11,
          12,
          13,
          14,
          15,
          16,
          17,
          18
         ],
         "xaxis": "x",
         "y": [
          635,
          744,
          853,
          962,
          1071,
          1180,
          1289,
          1398,
          1507,
          1616,
          1725,
          1834,
          1943,
          2052,
          2161,
          2270,
          2379,
          2488
         ],
         "yaxis": "y"
        },
        {
         "hovertemplate": "Champion=Mordekaiser<br>Niveau=%{x}<br>Health=%{y}<extra></extra>",
         "legendgroup": "Mordekaiser",
         "line": {
          "color": "#636efa",
          "dash": "solid"
         },
         "marker": {
          "symbol": "circle"
         },
         "mode": "lines",
         "name": "Mordekaiser",
         "orientation": "v",
         "showlegend": true,
         "type": "scatter",
         "x": [
          1,
          2,
          3,
          4,
          5,
          6,
          7,
          8,
          9,
          10,
          11,
          12,
          13,
          14,
          15,
          16,
          17,
          18
         ],
         "xaxis": "x",
         "y": [
          645,
          749,
          853,
          957,
          1061,
          1165,
          1269,
          1373,
          1477,
          1581,
          1685,
          1789,
          1893,
          1997,
          2101,
          2205,
          2309,
          2413
         ],
         "yaxis": "y"
        },
        {
         "hovertemplate": "Champion=Nasus<br>Niveau=%{x}<br>Health=%{y}<extra></extra>",
         "legendgroup": "Nasus",
         "line": {
          "color": "#EF553B",
          "dash": "solid"
         },
         "marker": {
          "symbol": "circle"
         },
         "mode": "lines",
         "name": "Nasus",
         "orientation": "v",
         "showlegend": true,
         "type": "scatter",
         "x": [
          1,
          2,
          3,
          4,
          5,
          6,
          7,
          8,
          9,
          10,
          11,
          12,
          13,
          14,
          15,
          16,
          17,
          18
         ],
         "xaxis": "x",
         "y": [
          631,
          735,
          839,
          943,
          1047,
          1151,
          1255,
          1359,
          1463,
          1567,
          1671,
          1775,
          1879,
          1983,
          2087,
          2191,
          2295,
          2399
         ],
         "yaxis": "y"
        },
        {
         "hovertemplate": "Champion=Ornn<br>Niveau=%{x}<br>Health=%{y}<extra></extra>",
         "legendgroup": "Ornn",
         "line": {
          "color": "#00cc96",
          "dash": "solid"
         },
         "marker": {
          "symbol": "circle"
         },
         "mode": "lines",
         "name": "Ornn",
         "orientation": "v",
         "showlegend": true,
         "type": "scatter",
         "x": [
          1,
          2,
          3,
          4,
          5,
          6,
          7,
          8,
          9,
          10,
          11,
          12,
          13,
          14,
          15,
          16,
          17,
          18
         ],
         "xaxis": "x",
         "y": [
          660,
          769,
          878,
          987,
          1096,
          1205,
          1314,
          1423,
          1532,
          1641,
          1750,
          1859,
          1968,
          2077,
          2186,
          2295,
          2404,
          2513
         ],
         "yaxis": "y"
        },
        {
         "hovertemplate": "Champion=Poppy<br>Niveau=%{x}<br>Health=%{y}<extra></extra>",
         "legendgroup": "Poppy",
         "line": {
          "color": "#ab63fa",
          "dash": "solid"
         },
         "marker": {
          "symbol": "circle"
         },
         "mode": "lines",
         "name": "Poppy",
         "orientation": "v",
         "showlegend": true,
         "type": "scatter",
         "x": [
          1,
          2,
          3,
          4,
          5,
          6,
          7,
          8,
          9,
          10,
          11,
          12,
          13,
          14,
          15,
          16,
          17,
          18
         ],
         "xaxis": "x",
         "y": [
          610,
          714,
          818,
          922,
          1026,
          1130,
          1234,
          1338,
          1442,
          1546,
          1650,
          1754,
          1858,
          1962,
          2066,
          2170,
          2274,
          2378
         ],
         "yaxis": "y"
        },
        {
         "hovertemplate": "Champion=Quinn<br>Niveau=%{x}<br>Health=%{y}<extra></extra>",
         "legendgroup": "Quinn",
         "line": {
          "color": "#FFA15A",
          "dash": "solid"
         },
         "marker": {
          "symbol": "circle"
         },
         "mode": "lines",
         "name": "Quinn",
         "orientation": "v",
         "showlegend": true,
         "type": "scatter",
         "x": [
          1,
          2,
          3,
          4,
          5,
          6,
          7,
          8,
          9,
          10,
          11,
          12,
          13,
          14,
          15,
          16,
          17,
          18
         ],
         "xaxis": "x",
         "y": [
          565,
          672,
          779,
          886,
          993,
          1100,
          1207,
          1314,
          1421,
          1528,
          1635,
          1742,
          1849,
          1956,
          2063,
          2170,
          2277,
          2384
         ],
         "yaxis": "y"
        },
        {
         "hovertemplate": "Champion=Renekton<br>Niveau=%{x}<br>Health=%{y}<extra></extra>",
         "legendgroup": "Renekton",
         "line": {
          "color": "#19d3f3",
          "dash": "solid"
         },
         "marker": {
          "symbol": "circle"
         },
         "mode": "lines",
         "name": "Renekton",
         "orientation": "v",
         "showlegend": true,
         "type": "scatter",
         "x": [
          1,
          2,
          3,
          4,
          5,
          6,
          7,
          8,
          9,
          10,
          11,
          12,
          13,
          14,
          15,
          16,
          17,
          18
         ],
         "xaxis": "x",
         "y": [
          660,
          771,
          882,
          993,
          1104,
          1215,
          1326,
          1437,
          1548,
          1659,
          1770,
          1881,
          1992,
          2103,
          2214,
          2325,
          2436,
          2547
         ],
         "yaxis": "y"
        },
        {
         "hovertemplate": "Champion=Riven<br>Niveau=%{x}<br>Health=%{y}<extra></extra>",
         "legendgroup": "Riven",
         "line": {
          "color": "#FF6692",
          "dash": "solid"
         },
         "marker": {
          "symbol": "circle"
         },
         "mode": "lines",
         "name": "Riven",
         "orientation": "v",
         "showlegend": true,
         "type": "scatter",
         "x": [
          1,
          2,
          3,
          4,
          5,
          6,
          7,
          8,
          9,
          10,
          11,
          12,
          13,
          14,
          15,
          16,
          17,
          18
         ],
         "xaxis": "x",
         "y": [
          630,
          730,
          830,
          930,
          1030,
          1130,
          1230,
          1330,
          1430,
          1530,
          1630,
          1730,
          1830,
          1930,
          2030,
          2130,
          2230,
          2330
         ],
         "yaxis": "y"
        },
        {
         "hovertemplate": "Champion=Rumble<br>Niveau=%{x}<br>Health=%{y}<extra></extra>",
         "legendgroup": "Rumble",
         "line": {
          "color": "#B6E880",
          "dash": "solid"
         },
         "marker": {
          "symbol": "circle"
         },
         "mode": "lines",
         "name": "Rumble",
         "orientation": "v",
         "showlegend": true,
         "type": "scatter",
         "x": [
          1,
          2,
          3,
          4,
          5,
          6,
          7,
          8,
          9,
          10,
          11,
          12,
          13,
          14,
          15,
          16,
          17,
          18
         ],
         "xaxis": "x",
         "y": [
          625,
          730,
          835,
          940,
          1045,
          1150,
          1255,
          1360,
          1465,
          1570,
          1675,
          1780,
          1885,
          1990,
          2095,
          2200,
          2305,
          2410
         ],
         "yaxis": "y"
        },
        {
         "hovertemplate": "Champion=Sett<br>Niveau=%{x}<br>Health=%{y}<extra></extra>",
         "legendgroup": "Sett",
         "line": {
          "color": "#FF97FF",
          "dash": "solid"
         },
         "marker": {
          "symbol": "circle"
         },
         "mode": "lines",
         "name": "Sett",
         "orientation": "v",
         "showlegend": true,
         "type": "scatter",
         "x": [
          1,
          2,
          3,
          4,
          5,
          6,
          7,
          8,
          9,
          10,
          11,
          12,
          13,
          14,
          15,
          16,
          17,
          18
         ],
         "xaxis": "x",
         "y": [
          670,
          784,
          898,
          1012,
          1126,
          1240,
          1354,
          1468,
          1582,
          1696,
          1810,
          1924,
          2038,
          2152,
          2266,
          2380,
          2494,
          2608
         ],
         "yaxis": "y"
        },
        {
         "hovertemplate": "Champion=Shen<br>Niveau=%{x}<br>Health=%{y}<extra></extra>",
         "legendgroup": "Shen",
         "line": {
          "color": "#FECB52",
          "dash": "solid"
         },
         "marker": {
          "symbol": "circle"
         },
         "mode": "lines",
         "name": "Shen",
         "orientation": "v",
         "showlegend": true,
         "type": "scatter",
         "x": [
          1,
          2,
          3,
          4,
          5,
          6,
          7,
          8,
          9,
          10,
          11,
          12,
          13,
          14,
          15,
          16,
          17,
          18
         ],
         "xaxis": "x",
         "y": [
          610,
          709,
          808,
          907,
          1006,
          1105,
          1204,
          1303,
          1402,
          1501,
          1600,
          1699,
          1798,
          1897,
          1996,
          2095,
          2194,
          2293
         ],
         "yaxis": "y"
        },
        {
         "hovertemplate": "Champion=Singed<br>Niveau=%{x}<br>Health=%{y}<extra></extra>",
         "legendgroup": "Singed",
         "line": {
          "color": "#636efa",
          "dash": "solid"
         },
         "marker": {
          "symbol": "circle"
         },
         "mode": "lines",
         "name": "Singed",
         "orientation": "v",
         "showlegend": true,
         "type": "scatter",
         "x": [
          1,
          2,
          3,
          4,
          5,
          6,
          7,
          8,
          9,
          10,
          11,
          12,
          13,
          14,
          15,
          16,
          17,
          18
         ],
         "xaxis": "x",
         "y": [
          650,
          749,
          848,
          947,
          1046,
          1145,
          1244,
          1343,
          1442,
          1541,
          1640,
          1739,
          1838,
          1937,
          2036,
          2135,
          2234,
          2333
         ],
         "yaxis": "y"
        },
        {
         "hovertemplate": "Champion=Sion<br>Niveau=%{x}<br>Health=%{y}<extra></extra>",
         "legendgroup": "Sion",
         "line": {
          "color": "#EF553B",
          "dash": "solid"
         },
         "marker": {
          "symbol": "circle"
         },
         "mode": "lines",
         "name": "Sion",
         "orientation": "v",
         "showlegend": true,
         "type": "scatter",
         "x": [
          1,
          2,
          3,
          4,
          5,
          6,
          7,
          8,
          9,
          10,
          11,
          12,
          13,
          14,
          15,
          16,
          17,
          18
         ],
         "xaxis": "x",
         "y": [
          655,
          742,
          829,
          916,
          1003,
          1090,
          1177,
          1264,
          1351,
          1438,
          1525,
          1612,
          1699,
          1786,
          1873,
          1960,
          2047,
          2134
         ],
         "yaxis": "y"
        },
        {
         "hovertemplate": "Champion=Kench<br>Niveau=%{x}<br>Health=%{y}<extra></extra>",
         "legendgroup": "Kench",
         "line": {
          "color": "#00cc96",
          "dash": "solid"
         },
         "marker": {
          "symbol": "circle"
         },
         "mode": "lines",
         "name": "Kench",
         "orientation": "v",
         "showlegend": true,
         "type": "scatter",
         "x": [
          1,
          2,
          3,
          4,
          5,
          6,
          7,
          8,
          9,
          10,
          11,
          12,
          13,
          14,
          15,
          16,
          17,
          18
         ],
         "xaxis": "x",
         "y": [
          640,
          743,
          846,
          949,
          1052,
          1155,
          1258,
          1361,
          1464,
          1567,
          1670,
          1773,
          1876,
          1979,
          2082,
          2185,
          2288,
          2391
         ],
         "yaxis": "y"
        },
        {
         "hovertemplate": "Champion=Teemo<br>Niveau=%{x}<br>Health=%{y}<extra></extra>",
         "legendgroup": "Teemo",
         "line": {
          "color": "#ab63fa",
          "dash": "solid"
         },
         "marker": {
          "symbol": "circle"
         },
         "mode": "lines",
         "name": "Teemo",
         "orientation": "v",
         "showlegend": true,
         "type": "scatter",
         "x": [
          1,
          2,
          3,
          4,
          5,
          6,
          7,
          8,
          9,
          10,
          11,
          12,
          13,
          14,
          15,
          16,
          17,
          18
         ],
         "xaxis": "x",
         "y": [
          598,
          702,
          806,
          910,
          1014,
          1118,
          1222,
          1326,
          1430,
          1534,
          1638,
          1742,
          1846,
          1950,
          2054,
          2158,
          2262,
          2366
         ],
         "yaxis": "y"
        },
        {
         "hovertemplate": "Champion=Tryndamere<br>Niveau=%{x}<br>Health=%{y}<extra></extra>",
         "legendgroup": "Tryndamere",
         "line": {
          "color": "#FFA15A",
          "dash": "solid"
         },
         "marker": {
          "symbol": "circle"
         },
         "mode": "lines",
         "name": "Tryndamere",
         "orientation": "v",
         "showlegend": true,
         "type": "scatter",
         "x": [
          1,
          2,
          3,
          4,
          5,
          6,
          7,
          8,
          9,
          10,
          11,
          12,
          13,
          14,
          15,
          16,
          17,
          18
         ],
         "xaxis": "x",
         "y": [
          696,
          804,
          912,
          1020,
          1128,
          1236,
          1344,
          1452,
          1560,
          1668,
          1776,
          1884,
          1992,
          2100,
          2208,
          2316,
          2424,
          2532
         ],
         "yaxis": "y"
        },
        {
         "hovertemplate": "Champion=Urgot<br>Niveau=%{x}<br>Health=%{y}<extra></extra>",
         "legendgroup": "Urgot",
         "line": {
          "color": "#19d3f3",
          "dash": "solid"
         },
         "marker": {
          "symbol": "circle"
         },
         "mode": "lines",
         "name": "Urgot",
         "orientation": "v",
         "showlegend": true,
         "type": "scatter",
         "x": [
          1,
          2,
          3,
          4,
          5,
          6,
          7,
          8,
          9,
          10,
          11,
          12,
          13,
          14,
          15,
          16,
          17,
          18
         ],
         "xaxis": "x",
         "y": [
          655,
          757,
          859,
          961,
          1063,
          1165,
          1267,
          1369,
          1471,
          1573,
          1675,
          1777,
          1879,
          1981,
          2083,
          2185,
          2287,
          2389
         ],
         "yaxis": "y"
        },
        {
         "hovertemplate": "Champion=Vladimir<br>Niveau=%{x}<br>Health=%{y}<extra></extra>",
         "legendgroup": "Vladimir",
         "line": {
          "color": "#FF6692",
          "dash": "solid"
         },
         "marker": {
          "symbol": "circle"
         },
         "mode": "lines",
         "name": "Vladimir",
         "orientation": "v",
         "showlegend": true,
         "type": "scatter",
         "x": [
          1,
          2,
          3,
          4,
          5,
          6,
          7,
          8,
          9,
          10,
          11,
          12,
          13,
          14,
          15,
          16,
          17,
          18
         ],
         "xaxis": "x",
         "y": [
          607,
          717,
          827,
          937,
          1047,
          1157,
          1267,
          1377,
          1487,
          1597,
          1707,
          1817,
          1927,
          2037,
          2147,
          2257,
          2367,
          2477
         ],
         "yaxis": "y"
        },
        {
         "hovertemplate": "Champion=Wukong<br>Niveau=%{x}<br>Health=%{y}<extra></extra>",
         "legendgroup": "Wukong",
         "line": {
          "color": "#B6E880",
          "dash": "solid"
         },
         "marker": {
          "symbol": "circle"
         },
         "mode": "lines",
         "name": "Wukong",
         "orientation": "v",
         "showlegend": true,
         "type": "scatter",
         "x": [
          1,
          2,
          3,
          4,
          5,
          6,
          7,
          8,
          9,
          10,
          11,
          12,
          13,
          14,
          15,
          16,
          17,
          18
         ],
         "xaxis": "x",
         "y": [
          610,
          709,
          808,
          907,
          1006,
          1105,
          1204,
          1303,
          1402,
          1501,
          1600,
          1699,
          1798,
          1897,
          1996,
          2095,
          2194,
          2293
         ],
         "yaxis": "y"
        },
        {
         "hovertemplate": "Champion=Yorick<br>Niveau=%{x}<br>Health=%{y}<extra></extra>",
         "legendgroup": "Yorick",
         "line": {
          "color": "#FF97FF",
          "dash": "solid"
         },
         "marker": {
          "symbol": "circle"
         },
         "mode": "lines",
         "name": "Yorick",
         "orientation": "v",
         "showlegend": true,
         "type": "scatter",
         "x": [
          1,
          2,
          3,
          4,
          5,
          6,
          7,
          8,
          9,
          10,
          11,
          12,
          13,
          14,
          15,
          16,
          17,
          18
         ],
         "xaxis": "x",
         "y": [
          650,
          764,
          878,
          992,
          1106,
          1220,
          1334,
          1448,
          1562,
          1676,
          1790,
          1904,
          2018,
          2132,
          2246,
          2360,
          2474,
          2588
         ],
         "yaxis": "y"
        }
       ],
       "layout": {
        "legend": {
         "title": {
          "text": "Champion"
         },
         "tracegroupgap": 0
        },
        "template": {
         "data": {
          "bar": [
           {
            "error_x": {
             "color": "#2a3f5f"
            },
            "error_y": {
             "color": "#2a3f5f"
            },
            "marker": {
             "line": {
              "color": "#E5ECF6",
              "width": 0.5
             },
             "pattern": {
              "fillmode": "overlay",
              "size": 10,
              "solidity": 0.2
             }
            },
            "type": "bar"
           }
          ],
          "barpolar": [
           {
            "marker": {
             "line": {
              "color": "#E5ECF6",
              "width": 0.5
             },
             "pattern": {
              "fillmode": "overlay",
              "size": 10,
              "solidity": 0.2
             }
            },
            "type": "barpolar"
           }
          ],
          "carpet": [
           {
            "aaxis": {
             "endlinecolor": "#2a3f5f",
             "gridcolor": "white",
             "linecolor": "white",
             "minorgridcolor": "white",
             "startlinecolor": "#2a3f5f"
            },
            "baxis": {
             "endlinecolor": "#2a3f5f",
             "gridcolor": "white",
             "linecolor": "white",
             "minorgridcolor": "white",
             "startlinecolor": "#2a3f5f"
            },
            "type": "carpet"
           }
          ],
          "choropleth": [
           {
            "colorbar": {
             "outlinewidth": 0,
             "ticks": ""
            },
            "type": "choropleth"
           }
          ],
          "contour": [
           {
            "colorbar": {
             "outlinewidth": 0,
             "ticks": ""
            },
            "colorscale": [
             [
              0,
              "#0d0887"
             ],
             [
              0.1111111111111111,
              "#46039f"
             ],
             [
              0.2222222222222222,
              "#7201a8"
             ],
             [
              0.3333333333333333,
              "#9c179e"
             ],
             [
              0.4444444444444444,
              "#bd3786"
             ],
             [
              0.5555555555555556,
              "#d8576b"
             ],
             [
              0.6666666666666666,
              "#ed7953"
             ],
             [
              0.7777777777777778,
              "#fb9f3a"
             ],
             [
              0.8888888888888888,
              "#fdca26"
             ],
             [
              1,
              "#f0f921"
             ]
            ],
            "type": "contour"
           }
          ],
          "contourcarpet": [
           {
            "colorbar": {
             "outlinewidth": 0,
             "ticks": ""
            },
            "type": "contourcarpet"
           }
          ],
          "heatmap": [
           {
            "colorbar": {
             "outlinewidth": 0,
             "ticks": ""
            },
            "colorscale": [
             [
              0,
              "#0d0887"
             ],
             [
              0.1111111111111111,
              "#46039f"
             ],
             [
              0.2222222222222222,
              "#7201a8"
             ],
             [
              0.3333333333333333,
              "#9c179e"
             ],
             [
              0.4444444444444444,
              "#bd3786"
             ],
             [
              0.5555555555555556,
              "#d8576b"
             ],
             [
              0.6666666666666666,
              "#ed7953"
             ],
             [
              0.7777777777777778,
              "#fb9f3a"
             ],
             [
              0.8888888888888888,
              "#fdca26"
             ],
             [
              1,
              "#f0f921"
             ]
            ],
            "type": "heatmap"
           }
          ],
          "heatmapgl": [
           {
            "colorbar": {
             "outlinewidth": 0,
             "ticks": ""
            },
            "colorscale": [
             [
              0,
              "#0d0887"
             ],
             [
              0.1111111111111111,
              "#46039f"
             ],
             [
              0.2222222222222222,
              "#7201a8"
             ],
             [
              0.3333333333333333,
              "#9c179e"
             ],
             [
              0.4444444444444444,
              "#bd3786"
             ],
             [
              0.5555555555555556,
              "#d8576b"
             ],
             [
              0.6666666666666666,
              "#ed7953"
             ],
             [
              0.7777777777777778,
              "#fb9f3a"
             ],
             [
              0.8888888888888888,
              "#fdca26"
             ],
             [
              1,
              "#f0f921"
             ]
            ],
            "type": "heatmapgl"
           }
          ],
          "histogram": [
           {
            "marker": {
             "pattern": {
              "fillmode": "overlay",
              "size": 10,
              "solidity": 0.2
             }
            },
            "type": "histogram"
           }
          ],
          "histogram2d": [
           {
            "colorbar": {
             "outlinewidth": 0,
             "ticks": ""
            },
            "colorscale": [
             [
              0,
              "#0d0887"
             ],
             [
              0.1111111111111111,
              "#46039f"
             ],
             [
              0.2222222222222222,
              "#7201a8"
             ],
             [
              0.3333333333333333,
              "#9c179e"
             ],
             [
              0.4444444444444444,
              "#bd3786"
             ],
             [
              0.5555555555555556,
              "#d8576b"
             ],
             [
              0.6666666666666666,
              "#ed7953"
             ],
             [
              0.7777777777777778,
              "#fb9f3a"
             ],
             [
              0.8888888888888888,
              "#fdca26"
             ],
             [
              1,
              "#f0f921"
             ]
            ],
            "type": "histogram2d"
           }
          ],
          "histogram2dcontour": [
           {
            "colorbar": {
             "outlinewidth": 0,
             "ticks": ""
            },
            "colorscale": [
             [
              0,
              "#0d0887"
             ],
             [
              0.1111111111111111,
              "#46039f"
             ],
             [
              0.2222222222222222,
              "#7201a8"
             ],
             [
              0.3333333333333333,
              "#9c179e"
             ],
             [
              0.4444444444444444,
              "#bd3786"
             ],
             [
              0.5555555555555556,
              "#d8576b"
             ],
             [
              0.6666666666666666,
              "#ed7953"
             ],
             [
              0.7777777777777778,
              "#fb9f3a"
             ],
             [
              0.8888888888888888,
              "#fdca26"
             ],
             [
              1,
              "#f0f921"
             ]
            ],
            "type": "histogram2dcontour"
           }
          ],
          "mesh3d": [
           {
            "colorbar": {
             "outlinewidth": 0,
             "ticks": ""
            },
            "type": "mesh3d"
           }
          ],
          "parcoords": [
           {
            "line": {
             "colorbar": {
              "outlinewidth": 0,
              "ticks": ""
             }
            },
            "type": "parcoords"
           }
          ],
          "pie": [
           {
            "automargin": true,
            "type": "pie"
           }
          ],
          "scatter": [
           {
            "fillpattern": {
             "fillmode": "overlay",
             "size": 10,
             "solidity": 0.2
            },
            "type": "scatter"
           }
          ],
          "scatter3d": [
           {
            "line": {
             "colorbar": {
              "outlinewidth": 0,
              "ticks": ""
             }
            },
            "marker": {
             "colorbar": {
              "outlinewidth": 0,
              "ticks": ""
             }
            },
            "type": "scatter3d"
           }
          ],
          "scattercarpet": [
           {
            "marker": {
             "colorbar": {
              "outlinewidth": 0,
              "ticks": ""
             }
            },
            "type": "scattercarpet"
           }
          ],
          "scattergeo": [
           {
            "marker": {
             "colorbar": {
              "outlinewidth": 0,
              "ticks": ""
             }
            },
            "type": "scattergeo"
           }
          ],
          "scattergl": [
           {
            "marker": {
             "colorbar": {
              "outlinewidth": 0,
              "ticks": ""
             }
            },
            "type": "scattergl"
           }
          ],
          "scattermapbox": [
           {
            "marker": {
             "colorbar": {
              "outlinewidth": 0,
              "ticks": ""
             }
            },
            "type": "scattermapbox"
           }
          ],
          "scatterpolar": [
           {
            "marker": {
             "colorbar": {
              "outlinewidth": 0,
              "ticks": ""
             }
            },
            "type": "scatterpolar"
           }
          ],
          "scatterpolargl": [
           {
            "marker": {
             "colorbar": {
              "outlinewidth": 0,
              "ticks": ""
             }
            },
            "type": "scatterpolargl"
           }
          ],
          "scatterternary": [
           {
            "marker": {
             "colorbar": {
              "outlinewidth": 0,
              "ticks": ""
             }
            },
            "type": "scatterternary"
           }
          ],
          "surface": [
           {
            "colorbar": {
             "outlinewidth": 0,
             "ticks": ""
            },
            "colorscale": [
             [
              0,
              "#0d0887"
             ],
             [
              0.1111111111111111,
              "#46039f"
             ],
             [
              0.2222222222222222,
              "#7201a8"
             ],
             [
              0.3333333333333333,
              "#9c179e"
             ],
             [
              0.4444444444444444,
              "#bd3786"
             ],
             [
              0.5555555555555556,
              "#d8576b"
             ],
             [
              0.6666666666666666,
              "#ed7953"
             ],
             [
              0.7777777777777778,
              "#fb9f3a"
             ],
             [
              0.8888888888888888,
              "#fdca26"
             ],
             [
              1,
              "#f0f921"
             ]
            ],
            "type": "surface"
           }
          ],
          "table": [
           {
            "cells": {
             "fill": {
              "color": "#EBF0F8"
             },
             "line": {
              "color": "white"
             }
            },
            "header": {
             "fill": {
              "color": "#C8D4E3"
             },
             "line": {
              "color": "white"
             }
            },
            "type": "table"
           }
          ]
         },
         "layout": {
          "annotationdefaults": {
           "arrowcolor": "#2a3f5f",
           "arrowhead": 0,
           "arrowwidth": 1
          },
          "autotypenumbers": "strict",
          "coloraxis": {
           "colorbar": {
            "outlinewidth": 0,
            "ticks": ""
           }
          },
          "colorscale": {
           "diverging": [
            [
             0,
             "#8e0152"
            ],
            [
             0.1,
             "#c51b7d"
            ],
            [
             0.2,
             "#de77ae"
            ],
            [
             0.3,
             "#f1b6da"
            ],
            [
             0.4,
             "#fde0ef"
            ],
            [
             0.5,
             "#f7f7f7"
            ],
            [
             0.6,
             "#e6f5d0"
            ],
            [
             0.7,
             "#b8e186"
            ],
            [
             0.8,
             "#7fbc41"
            ],
            [
             0.9,
             "#4d9221"
            ],
            [
             1,
             "#276419"
            ]
           ],
           "sequential": [
            [
             0,
             "#0d0887"
            ],
            [
             0.1111111111111111,
             "#46039f"
            ],
            [
             0.2222222222222222,
             "#7201a8"
            ],
            [
             0.3333333333333333,
             "#9c179e"
            ],
            [
             0.4444444444444444,
             "#bd3786"
            ],
            [
             0.5555555555555556,
             "#d8576b"
            ],
            [
             0.6666666666666666,
             "#ed7953"
            ],
            [
             0.7777777777777778,
             "#fb9f3a"
            ],
            [
             0.8888888888888888,
             "#fdca26"
            ],
            [
             1,
             "#f0f921"
            ]
           ],
           "sequentialminus": [
            [
             0,
             "#0d0887"
            ],
            [
             0.1111111111111111,
             "#46039f"
            ],
            [
             0.2222222222222222,
             "#7201a8"
            ],
            [
             0.3333333333333333,
             "#9c179e"
            ],
            [
             0.4444444444444444,
             "#bd3786"
            ],
            [
             0.5555555555555556,
             "#d8576b"
            ],
            [
             0.6666666666666666,
             "#ed7953"
            ],
            [
             0.7777777777777778,
             "#fb9f3a"
            ],
            [
             0.8888888888888888,
             "#fdca26"
            ],
            [
             1,
             "#f0f921"
            ]
           ]
          },
          "colorway": [
           "#636efa",
           "#EF553B",
           "#00cc96",
           "#ab63fa",
           "#FFA15A",
           "#19d3f3",
           "#FF6692",
           "#B6E880",
           "#FF97FF",
           "#FECB52"
          ],
          "font": {
           "color": "#2a3f5f"
          },
          "geo": {
           "bgcolor": "white",
           "lakecolor": "white",
           "landcolor": "#E5ECF6",
           "showlakes": true,
           "showland": true,
           "subunitcolor": "white"
          },
          "hoverlabel": {
           "align": "left"
          },
          "hovermode": "closest",
          "mapbox": {
           "style": "light"
          },
          "paper_bgcolor": "white",
          "plot_bgcolor": "#E5ECF6",
          "polar": {
           "angularaxis": {
            "gridcolor": "white",
            "linecolor": "white",
            "ticks": ""
           },
           "bgcolor": "#E5ECF6",
           "radialaxis": {
            "gridcolor": "white",
            "linecolor": "white",
            "ticks": ""
           }
          },
          "scene": {
           "xaxis": {
            "backgroundcolor": "#E5ECF6",
            "gridcolor": "white",
            "gridwidth": 2,
            "linecolor": "white",
            "showbackground": true,
            "ticks": "",
            "zerolinecolor": "white"
           },
           "yaxis": {
            "backgroundcolor": "#E5ECF6",
            "gridcolor": "white",
            "gridwidth": 2,
            "linecolor": "white",
            "showbackground": true,
            "ticks": "",
            "zerolinecolor": "white"
           },
           "zaxis": {
            "backgroundcolor": "#E5ECF6",
            "gridcolor": "white",
            "gridwidth": 2,
            "linecolor": "white",
            "showbackground": true,
            "ticks": "",
            "zerolinecolor": "white"
           }
          },
          "shapedefaults": {
           "line": {
            "color": "#2a3f5f"
           }
          },
          "ternary": {
           "aaxis": {
            "gridcolor": "white",
            "linecolor": "white",
            "ticks": ""
           },
           "baxis": {
            "gridcolor": "white",
            "linecolor": "white",
            "ticks": ""
           },
           "bgcolor": "#E5ECF6",
           "caxis": {
            "gridcolor": "white",
            "linecolor": "white",
            "ticks": ""
           }
          },
          "title": {
           "x": 0.05
          },
          "xaxis": {
           "automargin": true,
           "gridcolor": "white",
           "linecolor": "white",
           "ticks": "",
           "title": {
            "standoff": 15
           },
           "zerolinecolor": "white",
           "zerolinewidth": 2
          },
          "yaxis": {
           "automargin": true,
           "gridcolor": "white",
           "linecolor": "white",
           "ticks": "",
           "title": {
            "standoff": 15
           },
           "zerolinecolor": "white",
           "zerolinewidth": 2
          }
         }
        },
        "title": {
         "text": "Health par niveau pour chaque champion"
        },
        "xaxis": {
         "anchor": "y",
         "domain": [
          0,
          1
         ],
         "title": {
          "text": "Niveau"
         }
        },
        "yaxis": {
         "anchor": "x",
         "domain": [
          0,
          1
         ],
         "title": {
          "text": "Health"
         }
        }
       }
      }
     },
     "metadata": {},
     "output_type": "display_data"
    }
   ],
   "source": [
    "plot_ad_per_level(df_top, 'Health')"
   ]
  },
  {
   "cell_type": "code",
   "execution_count": 42,
   "metadata": {},
   "outputs": [
    {
     "data": {
      "application/vnd.plotly.v1+json": {
       "config": {
        "plotlyServerURL": "https://plot.ly"
       },
       "data": [
        {
         "hovertemplate": "Champion=Aatrox<br>Niveau=%{x}<br>AR=%{y}<extra></extra>",
         "legendgroup": "Aatrox",
         "line": {
          "color": "#636efa",
          "dash": "solid"
         },
         "marker": {
          "symbol": "circle"
         },
         "mode": "lines",
         "name": "Aatrox",
         "orientation": "v",
         "showlegend": true,
         "type": "scatter",
         "x": [
          1,
          2,
          3,
          4,
          5,
          6,
          7,
          8,
          9,
          10,
          11,
          12,
          13,
          14,
          15,
          16,
          17,
          18
         ],
         "xaxis": "x",
         "y": [
          38,
          42.45,
          46.9,
          51.35,
          55.8,
          60.25,
          64.7,
          69.15,
          73.6,
          78.05000000000001,
          82.5,
          86.95,
          91.4,
          95.85,
          100.30000000000001,
          104.75,
          109.2,
          113.65
         ],
         "yaxis": "y"
        },
        {
         "hovertemplate": "Champion=Camille<br>Niveau=%{x}<br>AR=%{y}<extra></extra>",
         "legendgroup": "Camille",
         "line": {
          "color": "#EF553B",
          "dash": "solid"
         },
         "marker": {
          "symbol": "circle"
         },
         "mode": "lines",
         "name": "Camille",
         "orientation": "v",
         "showlegend": true,
         "type": "scatter",
         "x": [
          1,
          2,
          3,
          4,
          5,
          6,
          7,
          8,
          9,
          10,
          11,
          12,
          13,
          14,
          15,
          16,
          17,
          18
         ],
         "xaxis": "x",
         "y": [
          35,
          40,
          45,
          50,
          55,
          60,
          65,
          70,
          75,
          80,
          85,
          90,
          95,
          100,
          105,
          110,
          115,
          120
         ],
         "yaxis": "y"
        },
        {
         "hovertemplate": "Champion=Gath<br>Niveau=%{x}<br>AR=%{y}<extra></extra>",
         "legendgroup": "Gath",
         "line": {
          "color": "#00cc96",
          "dash": "solid"
         },
         "marker": {
          "symbol": "circle"
         },
         "mode": "lines",
         "name": "Gath",
         "orientation": "v",
         "showlegend": true,
         "type": "scatter",
         "x": [
          1,
          2,
          3,
          4,
          5,
          6,
          7,
          8,
          9,
          10,
          11,
          12,
          13,
          14,
          15,
          16,
          17,
          18
         ],
         "xaxis": "x",
         "y": [
          38,
          43,
          48,
          53,
          58,
          63,
          68,
          73,
          78,
          83,
          88,
          93,
          98,
          103,
          108,
          113,
          118,
          123
         ],
         "yaxis": "y"
        },
        {
         "hovertemplate": "Champion=Darius<br>Niveau=%{x}<br>AR=%{y}<extra></extra>",
         "legendgroup": "Darius",
         "line": {
          "color": "#ab63fa",
          "dash": "solid"
         },
         "marker": {
          "symbol": "circle"
         },
         "mode": "lines",
         "name": "Darius",
         "orientation": "v",
         "showlegend": true,
         "type": "scatter",
         "x": [
          1,
          2,
          3,
          4,
          5,
          6,
          7,
          8,
          9,
          10,
          11,
          12,
          13,
          14,
          15,
          16,
          17,
          18
         ],
         "xaxis": "x",
         "y": [
          39,
          44.2,
          49.4,
          54.6,
          59.8,
          65,
          70.2,
          75.4,
          80.6,
          85.80000000000001,
          91,
          96.2,
          101.4,
          106.60000000000001,
          111.8,
          117,
          122.2,
          127.4
         ],
         "yaxis": "y"
        },
        {
         "hovertemplate": "Champion=Mundo<br>Niveau=%{x}<br>AR=%{y}<extra></extra>",
         "legendgroup": "Mundo",
         "line": {
          "color": "#FFA15A",
          "dash": "solid"
         },
         "marker": {
          "symbol": "circle"
         },
         "mode": "lines",
         "name": "Mundo",
         "orientation": "v",
         "showlegend": true,
         "type": "scatter",
         "x": [
          1,
          2,
          3,
          4,
          5,
          6,
          7,
          8,
          9,
          10,
          11,
          12,
          13,
          14,
          15,
          16,
          17,
          18
         ],
         "xaxis": "x",
         "y": [
          32,
          35.7,
          39.4,
          43.1,
          46.8,
          50.5,
          54.2,
          57.900000000000006,
          61.6,
          65.30000000000001,
          69,
          72.7,
          76.4,
          80.1,
          83.80000000000001,
          87.5,
          91.2,
          94.9
         ],
         "yaxis": "y"
        },
        {
         "hovertemplate": "Champion=Fiora<br>Niveau=%{x}<br>AR=%{y}<extra></extra>",
         "legendgroup": "Fiora",
         "line": {
          "color": "#19d3f3",
          "dash": "solid"
         },
         "marker": {
          "symbol": "circle"
         },
         "mode": "lines",
         "name": "Fiora",
         "orientation": "v",
         "showlegend": true,
         "type": "scatter",
         "x": [
          1,
          2,
          3,
          4,
          5,
          6,
          7,
          8,
          9,
          10,
          11,
          12,
          13,
          14,
          15,
          16,
          17,
          18
         ],
         "xaxis": "x",
         "y": [
          33,
          37.7,
          42.4,
          47.1,
          51.8,
          56.5,
          61.2,
          65.9,
          70.6,
          75.30000000000001,
          80,
          84.7,
          89.4,
          94.1,
          98.8,
          103.5,
          108.2,
          112.9
         ],
         "yaxis": "y"
        },
        {
         "hovertemplate": "Champion=Gangplank<br>Niveau=%{x}<br>AR=%{y}<extra></extra>",
         "legendgroup": "Gangplank",
         "line": {
          "color": "#FF6692",
          "dash": "solid"
         },
         "marker": {
          "symbol": "circle"
         },
         "mode": "lines",
         "name": "Gangplank",
         "orientation": "v",
         "showlegend": true,
         "type": "scatter",
         "x": [
          1,
          2,
          3,
          4,
          5,
          6,
          7,
          8,
          9,
          10,
          11,
          12,
          13,
          14,
          15,
          16,
          17,
          18
         ],
         "xaxis": "x",
         "y": [
          31,
          35.2,
          39.4,
          43.6,
          47.8,
          52,
          56.2,
          60.400000000000006,
          64.6,
          68.80000000000001,
          73,
          77.2,
          81.4,
          85.6,
          89.80000000000001,
          94,
          98.2,
          102.4
         ],
         "yaxis": "y"
        },
        {
         "hovertemplate": "Champion=Garen<br>Niveau=%{x}<br>AR=%{y}<extra></extra>",
         "legendgroup": "Garen",
         "line": {
          "color": "#B6E880",
          "dash": "solid"
         },
         "marker": {
          "symbol": "circle"
         },
         "mode": "lines",
         "name": "Garen",
         "orientation": "v",
         "showlegend": true,
         "type": "scatter",
         "x": [
          1,
          2,
          3,
          4,
          5,
          6,
          7,
          8,
          9,
          10,
          11,
          12,
          13,
          14,
          15,
          16,
          17,
          18
         ],
         "xaxis": "x",
         "y": [
          38,
          42.2,
          46.4,
          50.6,
          54.8,
          59,
          63.2,
          67.4,
          71.6,
          75.80000000000001,
          80,
          84.2,
          88.4,
          92.6,
          96.80000000000001,
          101,
          105.2,
          109.4
         ],
         "yaxis": "y"
        },
        {
         "hovertemplate": "Champion=Gnar<br>Niveau=%{x}<br>AR=%{y}<extra></extra>",
         "legendgroup": "Gnar",
         "line": {
          "color": "#FF97FF",
          "dash": "solid"
         },
         "marker": {
          "symbol": "circle"
         },
         "mode": "lines",
         "name": "Gnar",
         "orientation": "v",
         "showlegend": true,
         "type": "scatter",
         "x": [
          1,
          2,
          3,
          4,
          5,
          6,
          7,
          8,
          9,
          10,
          11,
          12,
          13,
          14,
          15,
          16,
          17,
          18,
          1,
          2,
          3,
          4,
          5,
          6,
          7,
          8,
          9,
          10,
          11,
          12,
          13,
          14,
          15,
          16,
          17,
          18
         ],
         "xaxis": "x",
         "y": [
          32,
          35.7,
          39.4,
          43.1,
          46.8,
          50.5,
          54.2,
          57.900000000000006,
          61.6,
          65.30000000000001,
          69,
          72.7,
          76.4,
          80.1,
          83.80000000000001,
          87.5,
          91.2,
          94.9,
          35.5,
          42.2,
          48.9,
          55.6,
          62.3,
          69,
          75.7,
          82.4,
          89.1,
          95.80000000000001,
          102.5,
          109.2,
          115.9,
          122.60000000000001,
          129.3,
          136,
          142.7,
          149.4
         ],
         "yaxis": "y"
        },
        {
         "hovertemplate": "Champion=Gwen<br>Niveau=%{x}<br>AR=%{y}<extra></extra>",
         "legendgroup": "Gwen",
         "line": {
          "color": "#FECB52",
          "dash": "solid"
         },
         "marker": {
          "symbol": "circle"
         },
         "mode": "lines",
         "name": "Gwen",
         "orientation": "v",
         "showlegend": true,
         "type": "scatter",
         "x": [
          1,
          2,
          3,
          4,
          5,
          6,
          7,
          8,
          9,
          10,
          11,
          12,
          13,
          14,
          15,
          16,
          17,
          18
         ],
         "xaxis": "x",
         "y": [
          39,
          44.2,
          49.4,
          54.6,
          59.8,
          65,
          70.2,
          75.4,
          80.6,
          85.80000000000001,
          91,
          96.2,
          101.4,
          106.60000000000001,
          111.8,
          117,
          122.2,
          127.4
         ],
         "yaxis": "y"
        },
        {
         "hovertemplate": "Champion=Illaoi<br>Niveau=%{x}<br>AR=%{y}<extra></extra>",
         "legendgroup": "Illaoi",
         "line": {
          "color": "#636efa",
          "dash": "solid"
         },
         "marker": {
          "symbol": "circle"
         },
         "mode": "lines",
         "name": "Illaoi",
         "orientation": "v",
         "showlegend": true,
         "type": "scatter",
         "x": [
          1,
          2,
          3,
          4,
          5,
          6,
          7,
          8,
          9,
          10,
          11,
          12,
          13,
          14,
          15,
          16,
          17,
          18
         ],
         "xaxis": "x",
         "y": [
          35,
          40,
          45,
          50,
          55,
          60,
          65,
          70,
          75,
          80,
          85,
          90,
          95,
          100,
          105,
          110,
          115,
          120
         ],
         "yaxis": "y"
        },
        {
         "hovertemplate": "Champion=Irelia<br>Niveau=%{x}<br>AR=%{y}<extra></extra>",
         "legendgroup": "Irelia",
         "line": {
          "color": "#EF553B",
          "dash": "solid"
         },
         "marker": {
          "symbol": "circle"
         },
         "mode": "lines",
         "name": "Irelia",
         "orientation": "v",
         "showlegend": true,
         "type": "scatter",
         "x": [
          1,
          2,
          3,
          4,
          5,
          6,
          7,
          8,
          9,
          10,
          11,
          12,
          13,
          14,
          15,
          16,
          17,
          18
         ],
         "xaxis": "x",
         "y": [
          36,
          40.7,
          45.4,
          50.1,
          54.8,
          59.5,
          64.2,
          68.9,
          73.6,
          78.30000000000001,
          83,
          87.7,
          92.4,
          97.1,
          101.8,
          106.5,
          111.2,
          115.9
         ],
         "yaxis": "y"
        },
        {
         "hovertemplate": "Champion=Jayce<br>Niveau=%{x}<br>AR=%{y}<extra></extra>",
         "legendgroup": "Jayce",
         "line": {
          "color": "#00cc96",
          "dash": "solid"
         },
         "marker": {
          "symbol": "circle"
         },
         "mode": "lines",
         "name": "Jayce",
         "orientation": "v",
         "showlegend": true,
         "type": "scatter",
         "x": [
          1,
          2,
          3,
          4,
          5,
          6,
          7,
          8,
          9,
          10,
          11,
          12,
          13,
          14,
          15,
          16,
          17,
          18
         ],
         "xaxis": "x",
         "y": [
          22,
          27,
          32,
          37,
          42,
          47,
          52,
          57,
          62,
          67,
          72,
          77,
          82,
          87,
          92,
          97,
          102,
          107
         ],
         "yaxis": "y"
        },
        {
         "hovertemplate": "Champion=Sante<br>Niveau=%{x}<br>AR=%{y}<extra></extra>",
         "legendgroup": "Sante",
         "line": {
          "color": "#ab63fa",
          "dash": "solid"
         },
         "marker": {
          "symbol": "circle"
         },
         "mode": "lines",
         "name": "Sante",
         "orientation": "v",
         "showlegend": true,
         "type": "scatter",
         "x": [
          1,
          2,
          3,
          4,
          5,
          6,
          7,
          8,
          9,
          10,
          11,
          12,
          13,
          14,
          15,
          16,
          17,
          18
         ],
         "xaxis": "x",
         "y": [
          33,
          38.2,
          43.4,
          48.6,
          53.8,
          59,
          64.2,
          69.4,
          74.6,
          79.80000000000001,
          85,
          90.2,
          95.4,
          100.60000000000001,
          105.8,
          111,
          116.2,
          121.4
         ],
         "yaxis": "y"
        },
        {
         "hovertemplate": "Champion=Kayle<br>Niveau=%{x}<br>AR=%{y}<extra></extra>",
         "legendgroup": "Kayle",
         "line": {
          "color": "#FFA15A",
          "dash": "solid"
         },
         "marker": {
          "symbol": "circle"
         },
         "mode": "lines",
         "name": "Kayle",
         "orientation": "v",
         "showlegend": true,
         "type": "scatter",
         "x": [
          1,
          2,
          3,
          4,
          5,
          6,
          7,
          8,
          9,
          10,
          11,
          12,
          13,
          14,
          15,
          16,
          17,
          18
         ],
         "xaxis": "x",
         "y": [
          26,
          30.2,
          34.4,
          38.6,
          42.8,
          47,
          51.2,
          55.400000000000006,
          59.6,
          63.800000000000004,
          68,
          72.2,
          76.4,
          80.6,
          84.80000000000001,
          89,
          93.2,
          97.4
         ],
         "yaxis": "y"
        },
        {
         "hovertemplate": "Champion=Kennen<br>Niveau=%{x}<br>AR=%{y}<extra></extra>",
         "legendgroup": "Kennen",
         "line": {
          "color": "#19d3f3",
          "dash": "solid"
         },
         "marker": {
          "symbol": "circle"
         },
         "mode": "lines",
         "name": "Kennen",
         "orientation": "v",
         "showlegend": true,
         "type": "scatter",
         "x": [
          1,
          2,
          3,
          4,
          5,
          6,
          7,
          8,
          9,
          10,
          11,
          12,
          13,
          14,
          15,
          16,
          17,
          18
         ],
         "xaxis": "x",
         "y": [
          29,
          33.95,
          38.9,
          43.85,
          48.8,
          53.75,
          58.7,
          63.65,
          68.6,
          73.55000000000001,
          78.5,
          83.45,
          88.4,
          93.35000000000001,
          98.3,
          103.25,
          108.2,
          113.15
         ],
         "yaxis": "y"
        },
        {
         "hovertemplate": "Champion=Kled<br>Niveau=%{x}<br>AR=%{y}<extra></extra>",
         "legendgroup": "Kled",
         "line": {
          "color": "#FF6692",
          "dash": "solid"
         },
         "marker": {
          "symbol": "circle"
         },
         "mode": "lines",
         "name": "Kled",
         "orientation": "v",
         "showlegend": true,
         "type": "scatter",
         "x": [
          1,
          2,
          3,
          4,
          5,
          6,
          7,
          8,
          9,
          10,
          11,
          12,
          13,
          14,
          15,
          16,
          17,
          18
         ],
         "xaxis": "x",
         "y": [
          35,
          40.2,
          45.4,
          50.6,
          55.8,
          61,
          66.2,
          71.4,
          76.6,
          81.80000000000001,
          87,
          92.2,
          97.4,
          102.60000000000001,
          107.8,
          113,
          118.2,
          123.4
         ],
         "yaxis": "y"
        },
        {
         "hovertemplate": "Champion=Kled&Skaarl<br>Niveau=%{x}<br>AR=%{y}<extra></extra>",
         "legendgroup": "Kled&Skaarl",
         "line": {
          "color": "#B6E880",
          "dash": "solid"
         },
         "marker": {
          "symbol": "circle"
         },
         "mode": "lines",
         "name": "Kled&Skaarl",
         "orientation": "v",
         "showlegend": true,
         "type": "scatter",
         "x": [
          1,
          2,
          3,
          4,
          5,
          6,
          7,
          8,
          9,
          10,
          11,
          12,
          13,
          14,
          15,
          16,
          17,
          18
         ],
         "xaxis": "x",
         "y": [
          35,
          40.2,
          45.4,
          50.6,
          55.8,
          61,
          66.2,
          71.4,
          76.6,
          81.80000000000001,
          87,
          92.2,
          97.4,
          102.60000000000001,
          107.8,
          113,
          118.2,
          123.4
         ],
         "yaxis": "y"
        },
        {
         "hovertemplate": "Champion=Malphite<br>Niveau=%{x}<br>AR=%{y}<extra></extra>",
         "legendgroup": "Malphite",
         "line": {
          "color": "#FF97FF",
          "dash": "solid"
         },
         "marker": {
          "symbol": "circle"
         },
         "mode": "lines",
         "name": "Malphite",
         "orientation": "v",
         "showlegend": true,
         "type": "scatter",
         "x": [
          1,
          2,
          3,
          4,
          5,
          6,
          7,
          8,
          9,
          10,
          11,
          12,
          13,
          14,
          15,
          16,
          17,
          18
         ],
         "xaxis": "x",
         "y": [
          37,
          41.95,
          46.9,
          51.85,
          56.8,
          61.75,
          66.7,
          71.65,
          76.6,
          81.55000000000001,
          86.5,
          91.45,
          96.4,
          101.35000000000001,
          106.3,
          111.25,
          116.2,
          121.15
         ],
         "yaxis": "y"
        },
        {
         "hovertemplate": "Champion=Maokai<br>Niveau=%{x}<br>AR=%{y}<extra></extra>",
         "legendgroup": "Maokai",
         "line": {
          "color": "#FECB52",
          "dash": "solid"
         },
         "marker": {
          "symbol": "circle"
         },
         "mode": "lines",
         "name": "Maokai",
         "orientation": "v",
         "showlegend": true,
         "type": "scatter",
         "x": [
          1,
          2,
          3,
          4,
          5,
          6,
          7,
          8,
          9,
          10,
          11,
          12,
          13,
          14,
          15,
          16,
          17,
          18
         ],
         "xaxis": "x",
         "y": [
          39,
          44.2,
          49.4,
          54.6,
          59.8,
          65,
          70.2,
          75.4,
          80.6,
          85.80000000000001,
          91,
          96.2,
          101.4,
          106.60000000000001,
          111.8,
          117,
          122.2,
          127.4
         ],
         "yaxis": "y"
        },
        {
         "hovertemplate": "Champion=Mordekaiser<br>Niveau=%{x}<br>AR=%{y}<extra></extra>",
         "legendgroup": "Mordekaiser",
         "line": {
          "color": "#636efa",
          "dash": "solid"
         },
         "marker": {
          "symbol": "circle"
         },
         "mode": "lines",
         "name": "Mordekaiser",
         "orientation": "v",
         "showlegend": true,
         "type": "scatter",
         "x": [
          1,
          2,
          3,
          4,
          5,
          6,
          7,
          8,
          9,
          10,
          11,
          12,
          13,
          14,
          15,
          16,
          17,
          18
         ],
         "xaxis": "x",
         "y": [
          37,
          41.2,
          45.4,
          49.6,
          53.8,
          58,
          62.2,
          66.4,
          70.6,
          74.80000000000001,
          79,
          83.2,
          87.4,
          91.6,
          95.80000000000001,
          100,
          104.2,
          108.4
         ],
         "yaxis": "y"
        },
        {
         "hovertemplate": "Champion=Nasus<br>Niveau=%{x}<br>AR=%{y}<extra></extra>",
         "legendgroup": "Nasus",
         "line": {
          "color": "#EF553B",
          "dash": "solid"
         },
         "marker": {
          "symbol": "circle"
         },
         "mode": "lines",
         "name": "Nasus",
         "orientation": "v",
         "showlegend": true,
         "type": "scatter",
         "x": [
          1,
          2,
          3,
          4,
          5,
          6,
          7,
          8,
          9,
          10,
          11,
          12,
          13,
          14,
          15,
          16,
          17,
          18
         ],
         "xaxis": "x",
         "y": [
          34,
          38.7,
          43.4,
          48.1,
          52.8,
          57.5,
          62.2,
          66.9,
          71.6,
          76.30000000000001,
          81,
          85.7,
          90.4,
          95.1,
          99.8,
          104.5,
          109.2,
          113.9
         ],
         "yaxis": "y"
        },
        {
         "hovertemplate": "Champion=Ornn<br>Niveau=%{x}<br>AR=%{y}<extra></extra>",
         "legendgroup": "Ornn",
         "line": {
          "color": "#00cc96",
          "dash": "solid"
         },
         "marker": {
          "symbol": "circle"
         },
         "mode": "lines",
         "name": "Ornn",
         "orientation": "v",
         "showlegend": true,
         "type": "scatter",
         "x": [
          1,
          2,
          3,
          4,
          5,
          6,
          7,
          8,
          9,
          10,
          11,
          12,
          13,
          14,
          15,
          16,
          17,
          18
         ],
         "xaxis": "x",
         "y": [
          33,
          38.2,
          43.4,
          48.6,
          53.8,
          59,
          64.2,
          69.4,
          74.6,
          79.80000000000001,
          85,
          90.2,
          95.4,
          100.60000000000001,
          105.8,
          111,
          116.2,
          121.4
         ],
         "yaxis": "y"
        },
        {
         "hovertemplate": "Champion=Poppy<br>Niveau=%{x}<br>AR=%{y}<extra></extra>",
         "legendgroup": "Poppy",
         "line": {
          "color": "#ab63fa",
          "dash": "solid"
         },
         "marker": {
          "symbol": "circle"
         },
         "mode": "lines",
         "name": "Poppy",
         "orientation": "v",
         "showlegend": true,
         "type": "scatter",
         "x": [
          1,
          2,
          3,
          4,
          5,
          6,
          7,
          8,
          9,
          10,
          11,
          12,
          13,
          14,
          15,
          16,
          17,
          18
         ],
         "xaxis": "x",
         "y": [
          38,
          42.7,
          47.4,
          52.1,
          56.8,
          61.5,
          66.2,
          70.9,
          75.6,
          80.30000000000001,
          85,
          89.7,
          94.4,
          99.1,
          103.8,
          108.5,
          113.2,
          117.9
         ],
         "yaxis": "y"
        },
        {
         "hovertemplate": "Champion=Quinn<br>Niveau=%{x}<br>AR=%{y}<extra></extra>",
         "legendgroup": "Quinn",
         "line": {
          "color": "#FFA15A",
          "dash": "solid"
         },
         "marker": {
          "symbol": "circle"
         },
         "mode": "lines",
         "name": "Quinn",
         "orientation": "v",
         "showlegend": true,
         "type": "scatter",
         "x": [
          1,
          2,
          3,
          4,
          5,
          6,
          7,
          8,
          9,
          10,
          11,
          12,
          13,
          14,
          15,
          16,
          17,
          18
         ],
         "xaxis": "x",
         "y": [
          28,
          32.7,
          37.4,
          42.1,
          46.8,
          51.5,
          56.2,
          60.9,
          65.6,
          70.30000000000001,
          75,
          79.7,
          84.4,
          89.1,
          93.8,
          98.5,
          103.2,
          107.9
         ],
         "yaxis": "y"
        },
        {
         "hovertemplate": "Champion=Renekton<br>Niveau=%{x}<br>AR=%{y}<extra></extra>",
         "legendgroup": "Renekton",
         "line": {
          "color": "#19d3f3",
          "dash": "solid"
         },
         "marker": {
          "symbol": "circle"
         },
         "mode": "lines",
         "name": "Renekton",
         "orientation": "v",
         "showlegend": true,
         "type": "scatter",
         "x": [
          1,
          2,
          3,
          4,
          5,
          6,
          7,
          8,
          9,
          10,
          11,
          12,
          13,
          14,
          15,
          16,
          17,
          18
         ],
         "xaxis": "x",
         "y": [
          35,
          40.2,
          45.4,
          50.6,
          55.8,
          61,
          66.2,
          71.4,
          76.6,
          81.80000000000001,
          87,
          92.2,
          97.4,
          102.60000000000001,
          107.8,
          113,
          118.2,
          123.4
         ],
         "yaxis": "y"
        },
        {
         "hovertemplate": "Champion=Riven<br>Niveau=%{x}<br>AR=%{y}<extra></extra>",
         "legendgroup": "Riven",
         "line": {
          "color": "#FF6692",
          "dash": "solid"
         },
         "marker": {
          "symbol": "circle"
         },
         "mode": "lines",
         "name": "Riven",
         "orientation": "v",
         "showlegend": true,
         "type": "scatter",
         "x": [
          1,
          2,
          3,
          4,
          5,
          6,
          7,
          8,
          9,
          10,
          11,
          12,
          13,
          14,
          15,
          16,
          17,
          18
         ],
         "xaxis": "x",
         "y": [
          33,
          37.4,
          41.8,
          46.2,
          50.6,
          55,
          59.400000000000006,
          63.800000000000004,
          68.2,
          72.6,
          77,
          81.4,
          85.80000000000001,
          90.2,
          94.60000000000001,
          99,
          103.4,
          107.80000000000001
         ],
         "yaxis": "y"
        },
        {
         "hovertemplate": "Champion=Rumble<br>Niveau=%{x}<br>AR=%{y}<extra></extra>",
         "legendgroup": "Rumble",
         "line": {
          "color": "#B6E880",
          "dash": "solid"
         },
         "marker": {
          "symbol": "circle"
         },
         "mode": "lines",
         "name": "Rumble",
         "orientation": "v",
         "showlegend": true,
         "type": "scatter",
         "x": [
          1,
          2,
          3,
          4,
          5,
          6,
          7,
          8,
          9,
          10,
          11,
          12,
          13,
          14,
          15,
          16,
          17,
          18
         ],
         "xaxis": "x",
         "y": [
          36,
          40.7,
          45.4,
          50.1,
          54.8,
          59.5,
          64.2,
          68.9,
          73.6,
          78.30000000000001,
          83,
          87.7,
          92.4,
          97.1,
          101.8,
          106.5,
          111.2,
          115.9
         ],
         "yaxis": "y"
        },
        {
         "hovertemplate": "Champion=Sett<br>Niveau=%{x}<br>AR=%{y}<extra></extra>",
         "legendgroup": "Sett",
         "line": {
          "color": "#FF97FF",
          "dash": "solid"
         },
         "marker": {
          "symbol": "circle"
         },
         "mode": "lines",
         "name": "Sett",
         "orientation": "v",
         "showlegend": true,
         "type": "scatter",
         "x": [
          1,
          2,
          3,
          4,
          5,
          6,
          7,
          8,
          9,
          10,
          11,
          12,
          13,
          14,
          15,
          16,
          17,
          18
         ],
         "xaxis": "x",
         "y": [
          33,
          38.2,
          43.4,
          48.6,
          53.8,
          59,
          64.2,
          69.4,
          74.6,
          79.80000000000001,
          85,
          90.2,
          95.4,
          100.60000000000001,
          105.8,
          111,
          116.2,
          121.4
         ],
         "yaxis": "y"
        },
        {
         "hovertemplate": "Champion=Shen<br>Niveau=%{x}<br>AR=%{y}<extra></extra>",
         "legendgroup": "Shen",
         "line": {
          "color": "#FECB52",
          "dash": "solid"
         },
         "marker": {
          "symbol": "circle"
         },
         "mode": "lines",
         "name": "Shen",
         "orientation": "v",
         "showlegend": true,
         "type": "scatter",
         "x": [
          1,
          2,
          3,
          4,
          5,
          6,
          7,
          8,
          9,
          10,
          11,
          12,
          13,
          14,
          15,
          16,
          17,
          18
         ],
         "xaxis": "x",
         "y": [
          34,
          38.2,
          42.4,
          46.6,
          50.8,
          55,
          59.2,
          63.400000000000006,
          67.6,
          71.80000000000001,
          76,
          80.2,
          84.4,
          88.6,
          92.80000000000001,
          97,
          101.2,
          105.4
         ],
         "yaxis": "y"
        },
        {
         "hovertemplate": "Champion=Singed<br>Niveau=%{x}<br>AR=%{y}<extra></extra>",
         "legendgroup": "Singed",
         "line": {
          "color": "#636efa",
          "dash": "solid"
         },
         "marker": {
          "symbol": "circle"
         },
         "mode": "lines",
         "name": "Singed",
         "orientation": "v",
         "showlegend": true,
         "type": "scatter",
         "x": [
          1,
          2,
          3,
          4,
          5,
          6,
          7,
          8,
          9,
          10,
          11,
          12,
          13,
          14,
          15,
          16,
          17,
          18
         ],
         "xaxis": "x",
         "y": [
          34,
          38.7,
          43.4,
          48.1,
          52.8,
          57.5,
          62.2,
          66.9,
          71.6,
          76.30000000000001,
          81,
          85.7,
          90.4,
          95.1,
          99.8,
          104.5,
          109.2,
          113.9
         ],
         "yaxis": "y"
        },
        {
         "hovertemplate": "Champion=Sion<br>Niveau=%{x}<br>AR=%{y}<extra></extra>",
         "legendgroup": "Sion",
         "line": {
          "color": "#EF553B",
          "dash": "solid"
         },
         "marker": {
          "symbol": "circle"
         },
         "mode": "lines",
         "name": "Sion",
         "orientation": "v",
         "showlegend": true,
         "type": "scatter",
         "x": [
          1,
          2,
          3,
          4,
          5,
          6,
          7,
          8,
          9,
          10,
          11,
          12,
          13,
          14,
          15,
          16,
          17,
          18
         ],
         "xaxis": "x",
         "y": [
          32,
          36.2,
          40.4,
          44.6,
          48.8,
          53,
          57.2,
          61.400000000000006,
          65.6,
          69.80000000000001,
          74,
          78.2,
          82.4,
          86.6,
          90.80000000000001,
          95,
          99.2,
          103.4
         ],
         "yaxis": "y"
        },
        {
         "hovertemplate": "Champion=Kench<br>Niveau=%{x}<br>AR=%{y}<extra></extra>",
         "legendgroup": "Kench",
         "line": {
          "color": "#00cc96",
          "dash": "solid"
         },
         "marker": {
          "symbol": "circle"
         },
         "mode": "lines",
         "name": "Kench",
         "orientation": "v",
         "showlegend": true,
         "type": "scatter",
         "x": [
          1,
          2,
          3,
          4,
          5,
          6,
          7,
          8,
          9,
          10,
          11,
          12,
          13,
          14,
          15,
          16,
          17,
          18
         ],
         "xaxis": "x",
         "y": [
          42,
          46.7,
          51.4,
          56.1,
          60.8,
          65.5,
          70.2,
          74.9,
          79.6,
          84.30000000000001,
          89,
          93.7,
          98.4,
          103.1,
          107.8,
          112.5,
          117.2,
          121.9
         ],
         "yaxis": "y"
        },
        {
         "hovertemplate": "Champion=Teemo<br>Niveau=%{x}<br>AR=%{y}<extra></extra>",
         "legendgroup": "Teemo",
         "line": {
          "color": "#ab63fa",
          "dash": "solid"
         },
         "marker": {
          "symbol": "circle"
         },
         "mode": "lines",
         "name": "Teemo",
         "orientation": "v",
         "showlegend": true,
         "type": "scatter",
         "x": [
          1,
          2,
          3,
          4,
          5,
          6,
          7,
          8,
          9,
          10,
          11,
          12,
          13,
          14,
          15,
          16,
          17,
          18
         ],
         "xaxis": "x",
         "y": [
          24,
          28.95,
          33.9,
          38.85,
          43.8,
          48.75,
          53.7,
          58.65,
          63.6,
          68.55000000000001,
          73.5,
          78.45,
          83.4,
          88.35000000000001,
          93.3,
          98.25,
          103.2,
          108.15
         ],
         "yaxis": "y"
        },
        {
         "hovertemplate": "Champion=Tryndamere<br>Niveau=%{x}<br>AR=%{y}<extra></extra>",
         "legendgroup": "Tryndamere",
         "line": {
          "color": "#FFA15A",
          "dash": "solid"
         },
         "marker": {
          "symbol": "circle"
         },
         "mode": "lines",
         "name": "Tryndamere",
         "orientation": "v",
         "showlegend": true,
         "type": "scatter",
         "x": [
          1,
          2,
          3,
          4,
          5,
          6,
          7,
          8,
          9,
          10,
          11,
          12,
          13,
          14,
          15,
          16,
          17,
          18
         ],
         "xaxis": "x",
         "y": [
          33,
          37.3,
          41.6,
          45.9,
          50.2,
          54.5,
          58.8,
          63.099999999999994,
          67.4,
          71.69999999999999,
          76,
          80.3,
          84.6,
          88.9,
          93.19999999999999,
          97.5,
          101.8,
          106.1
         ],
         "yaxis": "y"
        },
        {
         "hovertemplate": "Champion=Urgot<br>Niveau=%{x}<br>AR=%{y}<extra></extra>",
         "legendgroup": "Urgot",
         "line": {
          "color": "#19d3f3",
          "dash": "solid"
         },
         "marker": {
          "symbol": "circle"
         },
         "mode": "lines",
         "name": "Urgot",
         "orientation": "v",
         "showlegend": true,
         "type": "scatter",
         "x": [
          1,
          2,
          3,
          4,
          5,
          6,
          7,
          8,
          9,
          10,
          11,
          12,
          13,
          14,
          15,
          16,
          17,
          18
         ],
         "xaxis": "x",
         "y": [
          36,
          41.45,
          46.9,
          52.35,
          57.8,
          63.25,
          68.7,
          74.15,
          79.6,
          85.05000000000001,
          90.5,
          95.95,
          101.4,
          106.85000000000001,
          112.3,
          117.75,
          123.2,
          128.65
         ],
         "yaxis": "y"
        },
        {
         "hovertemplate": "Champion=Vladimir<br>Niveau=%{x}<br>AR=%{y}<extra></extra>",
         "legendgroup": "Vladimir",
         "line": {
          "color": "#FF6692",
          "dash": "solid"
         },
         "marker": {
          "symbol": "circle"
         },
         "mode": "lines",
         "name": "Vladimir",
         "orientation": "v",
         "showlegend": true,
         "type": "scatter",
         "x": [
          1,
          2,
          3,
          4,
          5,
          6,
          7,
          8,
          9,
          10,
          11,
          12,
          13,
          14,
          15,
          16,
          17,
          18
         ],
         "xaxis": "x",
         "y": [
          27,
          31.5,
          36,
          40.5,
          45,
          49.5,
          54,
          58.5,
          63,
          67.5,
          72,
          76.5,
          81,
          85.5,
          90,
          94.5,
          99,
          103.5
         ],
         "yaxis": "y"
        },
        {
         "hovertemplate": "Champion=Wukong<br>Niveau=%{x}<br>AR=%{y}<extra></extra>",
         "legendgroup": "Wukong",
         "line": {
          "color": "#B6E880",
          "dash": "solid"
         },
         "marker": {
          "symbol": "circle"
         },
         "mode": "lines",
         "name": "Wukong",
         "orientation": "v",
         "showlegend": true,
         "type": "scatter",
         "x": [
          1,
          2,
          3,
          4,
          5,
          6,
          7,
          8,
          9,
          10,
          11,
          12,
          13,
          14,
          15,
          16,
          17,
          18
         ],
         "xaxis": "x",
         "y": [
          31,
          35.7,
          40.4,
          45.1,
          49.8,
          54.5,
          59.2,
          63.9,
          68.6,
          73.30000000000001,
          78,
          82.7,
          87.4,
          92.1,
          96.8,
          101.5,
          106.2,
          110.9
         ],
         "yaxis": "y"
        },
        {
         "hovertemplate": "Champion=Yorick<br>Niveau=%{x}<br>AR=%{y}<extra></extra>",
         "legendgroup": "Yorick",
         "line": {
          "color": "#FF97FF",
          "dash": "solid"
         },
         "marker": {
          "symbol": "circle"
         },
         "mode": "lines",
         "name": "Yorick",
         "orientation": "v",
         "showlegend": true,
         "type": "scatter",
         "x": [
          1,
          2,
          3,
          4,
          5,
          6,
          7,
          8,
          9,
          10,
          11,
          12,
          13,
          14,
          15,
          16,
          17,
          18
         ],
         "xaxis": "x",
         "y": [
          39,
          44.2,
          49.4,
          54.6,
          59.8,
          65,
          70.2,
          75.4,
          80.6,
          85.80000000000001,
          91,
          96.2,
          101.4,
          106.60000000000001,
          111.8,
          117,
          122.2,
          127.4
         ],
         "yaxis": "y"
        }
       ],
       "layout": {
        "legend": {
         "title": {
          "text": "Champion"
         },
         "tracegroupgap": 0
        },
        "template": {
         "data": {
          "bar": [
           {
            "error_x": {
             "color": "#2a3f5f"
            },
            "error_y": {
             "color": "#2a3f5f"
            },
            "marker": {
             "line": {
              "color": "#E5ECF6",
              "width": 0.5
             },
             "pattern": {
              "fillmode": "overlay",
              "size": 10,
              "solidity": 0.2
             }
            },
            "type": "bar"
           }
          ],
          "barpolar": [
           {
            "marker": {
             "line": {
              "color": "#E5ECF6",
              "width": 0.5
             },
             "pattern": {
              "fillmode": "overlay",
              "size": 10,
              "solidity": 0.2
             }
            },
            "type": "barpolar"
           }
          ],
          "carpet": [
           {
            "aaxis": {
             "endlinecolor": "#2a3f5f",
             "gridcolor": "white",
             "linecolor": "white",
             "minorgridcolor": "white",
             "startlinecolor": "#2a3f5f"
            },
            "baxis": {
             "endlinecolor": "#2a3f5f",
             "gridcolor": "white",
             "linecolor": "white",
             "minorgridcolor": "white",
             "startlinecolor": "#2a3f5f"
            },
            "type": "carpet"
           }
          ],
          "choropleth": [
           {
            "colorbar": {
             "outlinewidth": 0,
             "ticks": ""
            },
            "type": "choropleth"
           }
          ],
          "contour": [
           {
            "colorbar": {
             "outlinewidth": 0,
             "ticks": ""
            },
            "colorscale": [
             [
              0,
              "#0d0887"
             ],
             [
              0.1111111111111111,
              "#46039f"
             ],
             [
              0.2222222222222222,
              "#7201a8"
             ],
             [
              0.3333333333333333,
              "#9c179e"
             ],
             [
              0.4444444444444444,
              "#bd3786"
             ],
             [
              0.5555555555555556,
              "#d8576b"
             ],
             [
              0.6666666666666666,
              "#ed7953"
             ],
             [
              0.7777777777777778,
              "#fb9f3a"
             ],
             [
              0.8888888888888888,
              "#fdca26"
             ],
             [
              1,
              "#f0f921"
             ]
            ],
            "type": "contour"
           }
          ],
          "contourcarpet": [
           {
            "colorbar": {
             "outlinewidth": 0,
             "ticks": ""
            },
            "type": "contourcarpet"
           }
          ],
          "heatmap": [
           {
            "colorbar": {
             "outlinewidth": 0,
             "ticks": ""
            },
            "colorscale": [
             [
              0,
              "#0d0887"
             ],
             [
              0.1111111111111111,
              "#46039f"
             ],
             [
              0.2222222222222222,
              "#7201a8"
             ],
             [
              0.3333333333333333,
              "#9c179e"
             ],
             [
              0.4444444444444444,
              "#bd3786"
             ],
             [
              0.5555555555555556,
              "#d8576b"
             ],
             [
              0.6666666666666666,
              "#ed7953"
             ],
             [
              0.7777777777777778,
              "#fb9f3a"
             ],
             [
              0.8888888888888888,
              "#fdca26"
             ],
             [
              1,
              "#f0f921"
             ]
            ],
            "type": "heatmap"
           }
          ],
          "heatmapgl": [
           {
            "colorbar": {
             "outlinewidth": 0,
             "ticks": ""
            },
            "colorscale": [
             [
              0,
              "#0d0887"
             ],
             [
              0.1111111111111111,
              "#46039f"
             ],
             [
              0.2222222222222222,
              "#7201a8"
             ],
             [
              0.3333333333333333,
              "#9c179e"
             ],
             [
              0.4444444444444444,
              "#bd3786"
             ],
             [
              0.5555555555555556,
              "#d8576b"
             ],
             [
              0.6666666666666666,
              "#ed7953"
             ],
             [
              0.7777777777777778,
              "#fb9f3a"
             ],
             [
              0.8888888888888888,
              "#fdca26"
             ],
             [
              1,
              "#f0f921"
             ]
            ],
            "type": "heatmapgl"
           }
          ],
          "histogram": [
           {
            "marker": {
             "pattern": {
              "fillmode": "overlay",
              "size": 10,
              "solidity": 0.2
             }
            },
            "type": "histogram"
           }
          ],
          "histogram2d": [
           {
            "colorbar": {
             "outlinewidth": 0,
             "ticks": ""
            },
            "colorscale": [
             [
              0,
              "#0d0887"
             ],
             [
              0.1111111111111111,
              "#46039f"
             ],
             [
              0.2222222222222222,
              "#7201a8"
             ],
             [
              0.3333333333333333,
              "#9c179e"
             ],
             [
              0.4444444444444444,
              "#bd3786"
             ],
             [
              0.5555555555555556,
              "#d8576b"
             ],
             [
              0.6666666666666666,
              "#ed7953"
             ],
             [
              0.7777777777777778,
              "#fb9f3a"
             ],
             [
              0.8888888888888888,
              "#fdca26"
             ],
             [
              1,
              "#f0f921"
             ]
            ],
            "type": "histogram2d"
           }
          ],
          "histogram2dcontour": [
           {
            "colorbar": {
             "outlinewidth": 0,
             "ticks": ""
            },
            "colorscale": [
             [
              0,
              "#0d0887"
             ],
             [
              0.1111111111111111,
              "#46039f"
             ],
             [
              0.2222222222222222,
              "#7201a8"
             ],
             [
              0.3333333333333333,
              "#9c179e"
             ],
             [
              0.4444444444444444,
              "#bd3786"
             ],
             [
              0.5555555555555556,
              "#d8576b"
             ],
             [
              0.6666666666666666,
              "#ed7953"
             ],
             [
              0.7777777777777778,
              "#fb9f3a"
             ],
             [
              0.8888888888888888,
              "#fdca26"
             ],
             [
              1,
              "#f0f921"
             ]
            ],
            "type": "histogram2dcontour"
           }
          ],
          "mesh3d": [
           {
            "colorbar": {
             "outlinewidth": 0,
             "ticks": ""
            },
            "type": "mesh3d"
           }
          ],
          "parcoords": [
           {
            "line": {
             "colorbar": {
              "outlinewidth": 0,
              "ticks": ""
             }
            },
            "type": "parcoords"
           }
          ],
          "pie": [
           {
            "automargin": true,
            "type": "pie"
           }
          ],
          "scatter": [
           {
            "fillpattern": {
             "fillmode": "overlay",
             "size": 10,
             "solidity": 0.2
            },
            "type": "scatter"
           }
          ],
          "scatter3d": [
           {
            "line": {
             "colorbar": {
              "outlinewidth": 0,
              "ticks": ""
             }
            },
            "marker": {
             "colorbar": {
              "outlinewidth": 0,
              "ticks": ""
             }
            },
            "type": "scatter3d"
           }
          ],
          "scattercarpet": [
           {
            "marker": {
             "colorbar": {
              "outlinewidth": 0,
              "ticks": ""
             }
            },
            "type": "scattercarpet"
           }
          ],
          "scattergeo": [
           {
            "marker": {
             "colorbar": {
              "outlinewidth": 0,
              "ticks": ""
             }
            },
            "type": "scattergeo"
           }
          ],
          "scattergl": [
           {
            "marker": {
             "colorbar": {
              "outlinewidth": 0,
              "ticks": ""
             }
            },
            "type": "scattergl"
           }
          ],
          "scattermapbox": [
           {
            "marker": {
             "colorbar": {
              "outlinewidth": 0,
              "ticks": ""
             }
            },
            "type": "scattermapbox"
           }
          ],
          "scatterpolar": [
           {
            "marker": {
             "colorbar": {
              "outlinewidth": 0,
              "ticks": ""
             }
            },
            "type": "scatterpolar"
           }
          ],
          "scatterpolargl": [
           {
            "marker": {
             "colorbar": {
              "outlinewidth": 0,
              "ticks": ""
             }
            },
            "type": "scatterpolargl"
           }
          ],
          "scatterternary": [
           {
            "marker": {
             "colorbar": {
              "outlinewidth": 0,
              "ticks": ""
             }
            },
            "type": "scatterternary"
           }
          ],
          "surface": [
           {
            "colorbar": {
             "outlinewidth": 0,
             "ticks": ""
            },
            "colorscale": [
             [
              0,
              "#0d0887"
             ],
             [
              0.1111111111111111,
              "#46039f"
             ],
             [
              0.2222222222222222,
              "#7201a8"
             ],
             [
              0.3333333333333333,
              "#9c179e"
             ],
             [
              0.4444444444444444,
              "#bd3786"
             ],
             [
              0.5555555555555556,
              "#d8576b"
             ],
             [
              0.6666666666666666,
              "#ed7953"
             ],
             [
              0.7777777777777778,
              "#fb9f3a"
             ],
             [
              0.8888888888888888,
              "#fdca26"
             ],
             [
              1,
              "#f0f921"
             ]
            ],
            "type": "surface"
           }
          ],
          "table": [
           {
            "cells": {
             "fill": {
              "color": "#EBF0F8"
             },
             "line": {
              "color": "white"
             }
            },
            "header": {
             "fill": {
              "color": "#C8D4E3"
             },
             "line": {
              "color": "white"
             }
            },
            "type": "table"
           }
          ]
         },
         "layout": {
          "annotationdefaults": {
           "arrowcolor": "#2a3f5f",
           "arrowhead": 0,
           "arrowwidth": 1
          },
          "autotypenumbers": "strict",
          "coloraxis": {
           "colorbar": {
            "outlinewidth": 0,
            "ticks": ""
           }
          },
          "colorscale": {
           "diverging": [
            [
             0,
             "#8e0152"
            ],
            [
             0.1,
             "#c51b7d"
            ],
            [
             0.2,
             "#de77ae"
            ],
            [
             0.3,
             "#f1b6da"
            ],
            [
             0.4,
             "#fde0ef"
            ],
            [
             0.5,
             "#f7f7f7"
            ],
            [
             0.6,
             "#e6f5d0"
            ],
            [
             0.7,
             "#b8e186"
            ],
            [
             0.8,
             "#7fbc41"
            ],
            [
             0.9,
             "#4d9221"
            ],
            [
             1,
             "#276419"
            ]
           ],
           "sequential": [
            [
             0,
             "#0d0887"
            ],
            [
             0.1111111111111111,
             "#46039f"
            ],
            [
             0.2222222222222222,
             "#7201a8"
            ],
            [
             0.3333333333333333,
             "#9c179e"
            ],
            [
             0.4444444444444444,
             "#bd3786"
            ],
            [
             0.5555555555555556,
             "#d8576b"
            ],
            [
             0.6666666666666666,
             "#ed7953"
            ],
            [
             0.7777777777777778,
             "#fb9f3a"
            ],
            [
             0.8888888888888888,
             "#fdca26"
            ],
            [
             1,
             "#f0f921"
            ]
           ],
           "sequentialminus": [
            [
             0,
             "#0d0887"
            ],
            [
             0.1111111111111111,
             "#46039f"
            ],
            [
             0.2222222222222222,
             "#7201a8"
            ],
            [
             0.3333333333333333,
             "#9c179e"
            ],
            [
             0.4444444444444444,
             "#bd3786"
            ],
            [
             0.5555555555555556,
             "#d8576b"
            ],
            [
             0.6666666666666666,
             "#ed7953"
            ],
            [
             0.7777777777777778,
             "#fb9f3a"
            ],
            [
             0.8888888888888888,
             "#fdca26"
            ],
            [
             1,
             "#f0f921"
            ]
           ]
          },
          "colorway": [
           "#636efa",
           "#EF553B",
           "#00cc96",
           "#ab63fa",
           "#FFA15A",
           "#19d3f3",
           "#FF6692",
           "#B6E880",
           "#FF97FF",
           "#FECB52"
          ],
          "font": {
           "color": "#2a3f5f"
          },
          "geo": {
           "bgcolor": "white",
           "lakecolor": "white",
           "landcolor": "#E5ECF6",
           "showlakes": true,
           "showland": true,
           "subunitcolor": "white"
          },
          "hoverlabel": {
           "align": "left"
          },
          "hovermode": "closest",
          "mapbox": {
           "style": "light"
          },
          "paper_bgcolor": "white",
          "plot_bgcolor": "#E5ECF6",
          "polar": {
           "angularaxis": {
            "gridcolor": "white",
            "linecolor": "white",
            "ticks": ""
           },
           "bgcolor": "#E5ECF6",
           "radialaxis": {
            "gridcolor": "white",
            "linecolor": "white",
            "ticks": ""
           }
          },
          "scene": {
           "xaxis": {
            "backgroundcolor": "#E5ECF6",
            "gridcolor": "white",
            "gridwidth": 2,
            "linecolor": "white",
            "showbackground": true,
            "ticks": "",
            "zerolinecolor": "white"
           },
           "yaxis": {
            "backgroundcolor": "#E5ECF6",
            "gridcolor": "white",
            "gridwidth": 2,
            "linecolor": "white",
            "showbackground": true,
            "ticks": "",
            "zerolinecolor": "white"
           },
           "zaxis": {
            "backgroundcolor": "#E5ECF6",
            "gridcolor": "white",
            "gridwidth": 2,
            "linecolor": "white",
            "showbackground": true,
            "ticks": "",
            "zerolinecolor": "white"
           }
          },
          "shapedefaults": {
           "line": {
            "color": "#2a3f5f"
           }
          },
          "ternary": {
           "aaxis": {
            "gridcolor": "white",
            "linecolor": "white",
            "ticks": ""
           },
           "baxis": {
            "gridcolor": "white",
            "linecolor": "white",
            "ticks": ""
           },
           "bgcolor": "#E5ECF6",
           "caxis": {
            "gridcolor": "white",
            "linecolor": "white",
            "ticks": ""
           }
          },
          "title": {
           "x": 0.05
          },
          "xaxis": {
           "automargin": true,
           "gridcolor": "white",
           "linecolor": "white",
           "ticks": "",
           "title": {
            "standoff": 15
           },
           "zerolinecolor": "white",
           "zerolinewidth": 2
          },
          "yaxis": {
           "automargin": true,
           "gridcolor": "white",
           "linecolor": "white",
           "ticks": "",
           "title": {
            "standoff": 15
           },
           "zerolinecolor": "white",
           "zerolinewidth": 2
          }
         }
        },
        "title": {
         "text": "AR par niveau pour chaque champion"
        },
        "xaxis": {
         "anchor": "y",
         "domain": [
          0,
          1
         ],
         "title": {
          "text": "Niveau"
         }
        },
        "yaxis": {
         "anchor": "x",
         "domain": [
          0,
          1
         ],
         "title": {
          "text": "AR"
         }
        }
       }
      }
     },
     "metadata": {},
     "output_type": "display_data"
    }
   ],
   "source": [
    "plot_ad_per_level(df_top, 'AR')"
   ]
  },
  {
   "cell_type": "code",
   "execution_count": 47,
   "metadata": {},
   "outputs": [
    {
     "data": {
      "application/vnd.plotly.v1+json": {
       "config": {
        "plotlyServerURL": "https://plot.ly"
       },
       "data": [
        {
         "hovertemplate": "Champion=Aatrox<br>Niveau=%{x}<br>MR=%{y}<extra></extra>",
         "legendgroup": "Aatrox",
         "line": {
          "color": "#636efa",
          "dash": "solid"
         },
         "marker": {
          "symbol": "circle"
         },
         "mode": "lines",
         "name": "Aatrox",
         "orientation": "v",
         "showlegend": true,
         "type": "scatter",
         "x": [
          1,
          2,
          3,
          4,
          5,
          6,
          7,
          8,
          9,
          10,
          11,
          12,
          13,
          14,
          15,
          16,
          17,
          18
         ],
         "xaxis": "x",
         "y": [
          32,
          34.05,
          36.1,
          38.15,
          40.2,
          42.25,
          44.3,
          46.349999999999994,
          48.4,
          50.45,
          52.5,
          54.55,
          56.599999999999994,
          58.65,
          60.699999999999996,
          62.75,
          64.8,
          66.85
         ],
         "yaxis": "y"
        },
        {
         "hovertemplate": "Champion=Camille<br>Niveau=%{x}<br>MR=%{y}<extra></extra>",
         "legendgroup": "Camille",
         "line": {
          "color": "#EF553B",
          "dash": "solid"
         },
         "marker": {
          "symbol": "circle"
         },
         "mode": "lines",
         "name": "Camille",
         "orientation": "v",
         "showlegend": true,
         "type": "scatter",
         "x": [
          1,
          2,
          3,
          4,
          5,
          6,
          7,
          8,
          9,
          10,
          11,
          12,
          13,
          14,
          15,
          16,
          17,
          18
         ],
         "xaxis": "x",
         "y": [
          32,
          34.05,
          36.1,
          38.15,
          40.2,
          42.25,
          44.3,
          46.349999999999994,
          48.4,
          50.45,
          52.5,
          54.55,
          56.599999999999994,
          58.65,
          60.699999999999996,
          62.75,
          64.8,
          66.85
         ],
         "yaxis": "y"
        },
        {
         "hovertemplate": "Champion=Gath<br>Niveau=%{x}<br>MR=%{y}<extra></extra>",
         "legendgroup": "Gath",
         "line": {
          "color": "#00cc96",
          "dash": "solid"
         },
         "marker": {
          "symbol": "circle"
         },
         "mode": "lines",
         "name": "Gath",
         "orientation": "v",
         "showlegend": true,
         "type": "scatter",
         "x": [
          1,
          2,
          3,
          4,
          5,
          6,
          7,
          8,
          9,
          10,
          11,
          12,
          13,
          14,
          15,
          16,
          17,
          18
         ],
         "xaxis": "x",
         "y": [
          32,
          34.05,
          36.1,
          38.15,
          40.2,
          42.25,
          44.3,
          46.349999999999994,
          48.4,
          50.45,
          52.5,
          54.55,
          56.599999999999994,
          58.65,
          60.699999999999996,
          62.75,
          64.8,
          66.85
         ],
         "yaxis": "y"
        },
        {
         "hovertemplate": "Champion=Darius<br>Niveau=%{x}<br>MR=%{y}<extra></extra>",
         "legendgroup": "Darius",
         "line": {
          "color": "#ab63fa",
          "dash": "solid"
         },
         "marker": {
          "symbol": "circle"
         },
         "mode": "lines",
         "name": "Darius",
         "orientation": "v",
         "showlegend": true,
         "type": "scatter",
         "x": [
          1,
          2,
          3,
          4,
          5,
          6,
          7,
          8,
          9,
          10,
          11,
          12,
          13,
          14,
          15,
          16,
          17,
          18
         ],
         "xaxis": "x",
         "y": [
          32,
          34.05,
          36.1,
          38.15,
          40.2,
          42.25,
          44.3,
          46.349999999999994,
          48.4,
          50.45,
          52.5,
          54.55,
          56.599999999999994,
          58.65,
          60.699999999999996,
          62.75,
          64.8,
          66.85
         ],
         "yaxis": "y"
        },
        {
         "hovertemplate": "Champion=Mundo<br>Niveau=%{x}<br>MR=%{y}<extra></extra>",
         "legendgroup": "Mundo",
         "line": {
          "color": "#FFA15A",
          "dash": "solid"
         },
         "marker": {
          "symbol": "circle"
         },
         "mode": "lines",
         "name": "Mundo",
         "orientation": "v",
         "showlegend": true,
         "type": "scatter",
         "x": [
          1,
          2,
          3,
          4,
          5,
          6,
          7,
          8,
          9,
          10,
          11,
          12,
          13,
          14,
          15,
          16,
          17,
          18
         ],
         "xaxis": "x",
         "y": [
          29,
          31.3,
          33.6,
          35.9,
          38.2,
          40.5,
          42.8,
          45.099999999999994,
          47.4,
          49.7,
          52,
          54.3,
          56.599999999999994,
          58.9,
          61.199999999999996,
          63.5,
          65.8,
          68.1
         ],
         "yaxis": "y"
        },
        {
         "hovertemplate": "Champion=Fiora<br>Niveau=%{x}<br>MR=%{y}<extra></extra>",
         "legendgroup": "Fiora",
         "line": {
          "color": "#19d3f3",
          "dash": "solid"
         },
         "marker": {
          "symbol": "circle"
         },
         "mode": "lines",
         "name": "Fiora",
         "orientation": "v",
         "showlegend": true,
         "type": "scatter",
         "x": [
          1,
          2,
          3,
          4,
          5,
          6,
          7,
          8,
          9,
          10,
          11,
          12,
          13,
          14,
          15,
          16,
          17,
          18
         ],
         "xaxis": "x",
         "y": [
          32,
          34.05,
          36.1,
          38.15,
          40.2,
          42.25,
          44.3,
          46.349999999999994,
          48.4,
          50.45,
          52.5,
          54.55,
          56.599999999999994,
          58.65,
          60.699999999999996,
          62.75,
          64.8,
          66.85
         ],
         "yaxis": "y"
        },
        {
         "hovertemplate": "Champion=Gangplank<br>Niveau=%{x}<br>MR=%{y}<extra></extra>",
         "legendgroup": "Gangplank",
         "line": {
          "color": "#FF6692",
          "dash": "solid"
         },
         "marker": {
          "symbol": "circle"
         },
         "mode": "lines",
         "name": "Gangplank",
         "orientation": "v",
         "showlegend": true,
         "type": "scatter",
         "x": [
          1,
          2,
          3,
          4,
          5,
          6,
          7,
          8,
          9,
          10,
          11,
          12,
          13,
          14,
          15,
          16,
          17,
          18
         ],
         "xaxis": "x",
         "y": [
          32,
          34.05,
          36.1,
          38.15,
          40.2,
          42.25,
          44.3,
          46.349999999999994,
          48.4,
          50.45,
          52.5,
          54.55,
          56.599999999999994,
          58.65,
          60.699999999999996,
          62.75,
          64.8,
          66.85
         ],
         "yaxis": "y"
        },
        {
         "hovertemplate": "Champion=Garen<br>Niveau=%{x}<br>MR=%{y}<extra></extra>",
         "legendgroup": "Garen",
         "line": {
          "color": "#B6E880",
          "dash": "solid"
         },
         "marker": {
          "symbol": "circle"
         },
         "mode": "lines",
         "name": "Garen",
         "orientation": "v",
         "showlegend": true,
         "type": "scatter",
         "x": [
          1,
          2,
          3,
          4,
          5,
          6,
          7,
          8,
          9,
          10,
          11,
          12,
          13,
          14,
          15,
          16,
          17,
          18
         ],
         "xaxis": "x",
         "y": [
          32,
          33.55,
          35.1,
          36.65,
          38.2,
          39.75,
          41.3,
          42.85,
          44.4,
          45.95,
          47.5,
          49.05,
          50.6,
          52.150000000000006,
          53.7,
          55.25,
          56.8,
          58.35
         ],
         "yaxis": "y"
        },
        {
         "hovertemplate": "Champion=Gnar<br>Niveau=%{x}<br>MR=%{y}<extra></extra>",
         "legendgroup": "Gnar",
         "line": {
          "color": "#FF97FF",
          "dash": "solid"
         },
         "marker": {
          "symbol": "circle"
         },
         "mode": "lines",
         "name": "Gnar",
         "orientation": "v",
         "showlegend": true,
         "type": "scatter",
         "x": [
          1,
          2,
          3,
          4,
          5,
          6,
          7,
          8,
          9,
          10,
          11,
          12,
          13,
          14,
          15,
          16,
          17,
          18,
          1,
          2,
          3,
          4,
          5,
          6,
          7,
          8,
          9,
          10,
          11,
          12,
          13,
          14,
          15,
          16,
          17,
          18
         ],
         "xaxis": "x",
         "y": [
          30,
          31.3,
          32.6,
          33.9,
          35.2,
          36.5,
          37.8,
          39.1,
          40.4,
          41.7,
          43,
          44.3,
          45.6,
          46.900000000000006,
          48.2,
          49.5,
          50.8,
          52.1,
          33.5,
          38.3,
          43.1,
          47.9,
          52.7,
          57.5,
          62.3,
          67.1,
          71.9,
          76.69999999999999,
          81.5,
          86.3,
          91.1,
          95.9,
          100.7,
          105.5,
          110.3,
          115.1
         ],
         "yaxis": "y"
        },
        {
         "hovertemplate": "Champion=Gwen<br>Niveau=%{x}<br>MR=%{y}<extra></extra>",
         "legendgroup": "Gwen",
         "line": {
          "color": "#FECB52",
          "dash": "solid"
         },
         "marker": {
          "symbol": "circle"
         },
         "mode": "lines",
         "name": "Gwen",
         "orientation": "v",
         "showlegend": true,
         "type": "scatter",
         "x": [
          1,
          2,
          3,
          4,
          5,
          6,
          7,
          8,
          9,
          10,
          11,
          12,
          13,
          14,
          15,
          16,
          17,
          18
         ],
         "xaxis": "x",
         "y": [
          32,
          34.05,
          36.1,
          38.15,
          40.2,
          42.25,
          44.3,
          46.349999999999994,
          48.4,
          50.45,
          52.5,
          54.55,
          56.599999999999994,
          58.65,
          60.699999999999996,
          62.75,
          64.8,
          66.85
         ],
         "yaxis": "y"
        },
        {
         "hovertemplate": "Champion=Illaoi<br>Niveau=%{x}<br>MR=%{y}<extra></extra>",
         "legendgroup": "Illaoi",
         "line": {
          "color": "#636efa",
          "dash": "solid"
         },
         "marker": {
          "symbol": "circle"
         },
         "mode": "lines",
         "name": "Illaoi",
         "orientation": "v",
         "showlegend": true,
         "type": "scatter",
         "x": [
          1,
          2,
          3,
          4,
          5,
          6,
          7,
          8,
          9,
          10,
          11,
          12,
          13,
          14,
          15,
          16,
          17,
          18
         ],
         "xaxis": "x",
         "y": [
          32,
          34.05,
          36.1,
          38.15,
          40.2,
          42.25,
          44.3,
          46.349999999999994,
          48.4,
          50.45,
          52.5,
          54.55,
          56.599999999999994,
          58.65,
          60.699999999999996,
          62.75,
          64.8,
          66.85
         ],
         "yaxis": "y"
        },
        {
         "hovertemplate": "Champion=Irelia<br>Niveau=%{x}<br>MR=%{y}<extra></extra>",
         "legendgroup": "Irelia",
         "line": {
          "color": "#EF553B",
          "dash": "solid"
         },
         "marker": {
          "symbol": "circle"
         },
         "mode": "lines",
         "name": "Irelia",
         "orientation": "v",
         "showlegend": true,
         "type": "scatter",
         "x": [
          1,
          2,
          3,
          4,
          5,
          6,
          7,
          8,
          9,
          10,
          11,
          12,
          13,
          14,
          15,
          16,
          17,
          18
         ],
         "xaxis": "x",
         "y": [
          30,
          32.05,
          34.1,
          36.15,
          38.2,
          40.25,
          42.3,
          44.349999999999994,
          46.4,
          48.45,
          50.5,
          52.55,
          54.599999999999994,
          56.65,
          58.699999999999996,
          60.75,
          62.8,
          64.85
         ],
         "yaxis": "y"
        },
        {
         "hovertemplate": "Champion=Jayce<br>Niveau=%{x}<br>MR=%{y}<extra></extra>",
         "legendgroup": "Jayce",
         "line": {
          "color": "#00cc96",
          "dash": "solid"
         },
         "marker": {
          "symbol": "circle"
         },
         "mode": "lines",
         "name": "Jayce",
         "orientation": "v",
         "showlegend": true,
         "type": "scatter",
         "x": [
          1,
          2,
          3,
          4,
          5,
          6,
          7,
          8,
          9,
          10,
          11,
          12,
          13,
          14,
          15,
          16,
          17,
          18
         ],
         "xaxis": "x",
         "y": [
          30,
          31.3,
          32.6,
          33.9,
          35.2,
          36.5,
          37.8,
          39.1,
          40.4,
          41.7,
          43,
          44.3,
          45.6,
          46.900000000000006,
          48.2,
          49.5,
          50.8,
          52.1
         ],
         "yaxis": "y"
        },
        {
         "hovertemplate": "Champion=Sante<br>Niveau=%{x}<br>MR=%{y}<extra></extra>",
         "legendgroup": "Sante",
         "line": {
          "color": "#ab63fa",
          "dash": "solid"
         },
         "marker": {
          "symbol": "circle"
         },
         "mode": "lines",
         "name": "Sante",
         "orientation": "v",
         "showlegend": true,
         "type": "scatter",
         "x": [
          1,
          2,
          3,
          4,
          5,
          6,
          7,
          8,
          9,
          10,
          11,
          12,
          13,
          14,
          15,
          16,
          17,
          18
         ],
         "xaxis": "x",
         "y": [
          30,
          32.1,
          34.2,
          36.3,
          38.4,
          40.5,
          42.6,
          44.7,
          46.8,
          48.900000000000006,
          51,
          53.1,
          55.2,
          57.3,
          59.400000000000006,
          61.5,
          63.6,
          65.7
         ],
         "yaxis": "y"
        },
        {
         "hovertemplate": "Champion=Kayle<br>Niveau=%{x}<br>MR=%{y}<extra></extra>",
         "legendgroup": "Kayle",
         "line": {
          "color": "#FFA15A",
          "dash": "solid"
         },
         "marker": {
          "symbol": "circle"
         },
         "mode": "lines",
         "name": "Kayle",
         "orientation": "v",
         "showlegend": true,
         "type": "scatter",
         "x": [
          1,
          2,
          3,
          4,
          5,
          6,
          7,
          8,
          9,
          10,
          11,
          12,
          13,
          14,
          15,
          16,
          17,
          18
         ],
         "xaxis": "x",
         "y": [
          22,
          23.3,
          24.6,
          25.9,
          27.2,
          28.5,
          29.8,
          31.1,
          32.4,
          33.7,
          35,
          36.3,
          37.6,
          38.900000000000006,
          40.2,
          41.5,
          42.8,
          44.1
         ],
         "yaxis": "y"
        },
        {
         "hovertemplate": "Champion=Kennen<br>Niveau=%{x}<br>MR=%{y}<extra></extra>",
         "legendgroup": "Kennen",
         "line": {
          "color": "#19d3f3",
          "dash": "solid"
         },
         "marker": {
          "symbol": "circle"
         },
         "mode": "lines",
         "name": "Kennen",
         "orientation": "v",
         "showlegend": true,
         "type": "scatter",
         "x": [
          1,
          2,
          3,
          4,
          5,
          6,
          7,
          8,
          9,
          10,
          11,
          12,
          13,
          14,
          15,
          16,
          17,
          18
         ],
         "xaxis": "x",
         "y": [
          30,
          31.3,
          32.6,
          33.9,
          35.2,
          36.5,
          37.8,
          39.1,
          40.4,
          41.7,
          43,
          44.3,
          45.6,
          46.900000000000006,
          48.2,
          49.5,
          50.8,
          52.1
         ],
         "yaxis": "y"
        },
        {
         "hovertemplate": "Champion=Kled<br>Niveau=%{x}<br>MR=%{y}<extra></extra>",
         "legendgroup": "Kled",
         "line": {
          "color": "#FF6692",
          "dash": "solid"
         },
         "marker": {
          "symbol": "circle"
         },
         "mode": "lines",
         "name": "Kled",
         "orientation": "v",
         "showlegend": true,
         "type": "scatter",
         "x": [
          1,
          2,
          3,
          4,
          5,
          6,
          7,
          8,
          9,
          10,
          11,
          12,
          13,
          14,
          15,
          16,
          17,
          18
         ],
         "xaxis": "x",
         "y": [
          28,
          30.05,
          32.1,
          34.15,
          36.2,
          38.25,
          40.3,
          42.349999999999994,
          44.4,
          46.45,
          48.5,
          50.55,
          52.599999999999994,
          54.65,
          56.699999999999996,
          58.75,
          60.8,
          62.849999999999994
         ],
         "yaxis": "y"
        },
        {
         "hovertemplate": "Champion=Kled&Skaarl<br>Niveau=%{x}<br>MR=%{y}<extra></extra>",
         "legendgroup": "Kled&Skaarl",
         "line": {
          "color": "#B6E880",
          "dash": "solid"
         },
         "marker": {
          "symbol": "circle"
         },
         "mode": "lines",
         "name": "Kled&Skaarl",
         "orientation": "v",
         "showlegend": true,
         "type": "scatter",
         "x": [
          1,
          2,
          3,
          4,
          5,
          6,
          7,
          8,
          9,
          10,
          11,
          12,
          13,
          14,
          15,
          16,
          17,
          18
         ],
         "xaxis": "x",
         "y": [
          28,
          30.05,
          32.1,
          34.15,
          36.2,
          38.25,
          40.3,
          42.349999999999994,
          44.4,
          46.45,
          48.5,
          50.55,
          52.599999999999994,
          54.65,
          56.699999999999996,
          58.75,
          60.8,
          62.849999999999994
         ],
         "yaxis": "y"
        },
        {
         "hovertemplate": "Champion=Malphite<br>Niveau=%{x}<br>MR=%{y}<extra></extra>",
         "legendgroup": "Malphite",
         "line": {
          "color": "#FF97FF",
          "dash": "solid"
         },
         "marker": {
          "symbol": "circle"
         },
         "mode": "lines",
         "name": "Malphite",
         "orientation": "v",
         "showlegend": true,
         "type": "scatter",
         "x": [
          1,
          2,
          3,
          4,
          5,
          6,
          7,
          8,
          9,
          10,
          11,
          12,
          13,
          14,
          15,
          16,
          17,
          18
         ],
         "xaxis": "x",
         "y": [
          28,
          30.05,
          32.1,
          34.15,
          36.2,
          38.25,
          40.3,
          42.349999999999994,
          44.4,
          46.45,
          48.5,
          50.55,
          52.599999999999994,
          54.65,
          56.699999999999996,
          58.75,
          60.8,
          62.849999999999994
         ],
         "yaxis": "y"
        },
        {
         "hovertemplate": "Champion=Maokai<br>Niveau=%{x}<br>MR=%{y}<extra></extra>",
         "legendgroup": "Maokai",
         "line": {
          "color": "#FECB52",
          "dash": "solid"
         },
         "marker": {
          "symbol": "circle"
         },
         "mode": "lines",
         "name": "Maokai",
         "orientation": "v",
         "showlegend": true,
         "type": "scatter",
         "x": [
          1,
          2,
          3,
          4,
          5,
          6,
          7,
          8,
          9,
          10,
          11,
          12,
          13,
          14,
          15,
          16,
          17,
          18
         ],
         "xaxis": "x",
         "y": [
          32,
          34.05,
          36.1,
          38.15,
          40.2,
          42.25,
          44.3,
          46.349999999999994,
          48.4,
          50.45,
          52.5,
          54.55,
          56.599999999999994,
          58.65,
          60.699999999999996,
          62.75,
          64.8,
          66.85
         ],
         "yaxis": "y"
        },
        {
         "hovertemplate": "Champion=Mordekaiser<br>Niveau=%{x}<br>MR=%{y}<extra></extra>",
         "legendgroup": "Mordekaiser",
         "line": {
          "color": "#636efa",
          "dash": "solid"
         },
         "marker": {
          "symbol": "circle"
         },
         "mode": "lines",
         "name": "Mordekaiser",
         "orientation": "v",
         "showlegend": true,
         "type": "scatter",
         "x": [
          1,
          2,
          3,
          4,
          5,
          6,
          7,
          8,
          9,
          10,
          11,
          12,
          13,
          14,
          15,
          16,
          17,
          18
         ],
         "xaxis": "x",
         "y": [
          32,
          34.05,
          36.1,
          38.15,
          40.2,
          42.25,
          44.3,
          46.349999999999994,
          48.4,
          50.45,
          52.5,
          54.55,
          56.599999999999994,
          58.65,
          60.699999999999996,
          62.75,
          64.8,
          66.85
         ],
         "yaxis": "y"
        },
        {
         "hovertemplate": "Champion=Nasus<br>Niveau=%{x}<br>MR=%{y}<extra></extra>",
         "legendgroup": "Nasus",
         "line": {
          "color": "#EF553B",
          "dash": "solid"
         },
         "marker": {
          "symbol": "circle"
         },
         "mode": "lines",
         "name": "Nasus",
         "orientation": "v",
         "showlegend": true,
         "type": "scatter",
         "x": [
          1,
          2,
          3,
          4,
          5,
          6,
          7,
          8,
          9,
          10,
          11,
          12,
          13,
          14,
          15,
          16,
          17,
          18
         ],
         "xaxis": "x",
         "y": [
          32,
          34.05,
          36.1,
          38.15,
          40.2,
          42.25,
          44.3,
          46.349999999999994,
          48.4,
          50.45,
          52.5,
          54.55,
          56.599999999999994,
          58.65,
          60.699999999999996,
          62.75,
          64.8,
          66.85
         ],
         "yaxis": "y"
        },
        {
         "hovertemplate": "Champion=Ornn<br>Niveau=%{x}<br>MR=%{y}<extra></extra>",
         "legendgroup": "Ornn",
         "line": {
          "color": "#00cc96",
          "dash": "solid"
         },
         "marker": {
          "symbol": "circle"
         },
         "mode": "lines",
         "name": "Ornn",
         "orientation": "v",
         "showlegend": true,
         "type": "scatter",
         "x": [
          1,
          2,
          3,
          4,
          5,
          6,
          7,
          8,
          9,
          10,
          11,
          12,
          13,
          14,
          15,
          16,
          17,
          18
         ],
         "xaxis": "x",
         "y": [
          32,
          34.05,
          36.1,
          38.15,
          40.2,
          42.25,
          44.3,
          46.349999999999994,
          48.4,
          50.45,
          52.5,
          54.55,
          56.599999999999994,
          58.65,
          60.699999999999996,
          62.75,
          64.8,
          66.85
         ],
         "yaxis": "y"
        },
        {
         "hovertemplate": "Champion=Poppy<br>Niveau=%{x}<br>MR=%{y}<extra></extra>",
         "legendgroup": "Poppy",
         "line": {
          "color": "#ab63fa",
          "dash": "solid"
         },
         "marker": {
          "symbol": "circle"
         },
         "mode": "lines",
         "name": "Poppy",
         "orientation": "v",
         "showlegend": true,
         "type": "scatter",
         "x": [
          1,
          2,
          3,
          4,
          5,
          6,
          7,
          8,
          9,
          10,
          11,
          12,
          13,
          14,
          15,
          16,
          17,
          18
         ],
         "xaxis": "x",
         "y": [
          32,
          34.05,
          36.1,
          38.15,
          40.2,
          42.25,
          44.3,
          46.349999999999994,
          48.4,
          50.45,
          52.5,
          54.55,
          56.599999999999994,
          58.65,
          60.699999999999996,
          62.75,
          64.8,
          66.85
         ],
         "yaxis": "y"
        },
        {
         "hovertemplate": "Champion=Quinn<br>Niveau=%{x}<br>MR=%{y}<extra></extra>",
         "legendgroup": "Quinn",
         "line": {
          "color": "#FFA15A",
          "dash": "solid"
         },
         "marker": {
          "symbol": "circle"
         },
         "mode": "lines",
         "name": "Quinn",
         "orientation": "v",
         "showlegend": true,
         "type": "scatter",
         "x": [
          1,
          2,
          3,
          4,
          5,
          6,
          7,
          8,
          9,
          10,
          11,
          12,
          13,
          14,
          15,
          16,
          17,
          18
         ],
         "xaxis": "x",
         "y": [
          30,
          31.3,
          32.6,
          33.9,
          35.2,
          36.5,
          37.8,
          39.1,
          40.4,
          41.7,
          43,
          44.3,
          45.6,
          46.900000000000006,
          48.2,
          49.5,
          50.8,
          52.1
         ],
         "yaxis": "y"
        },
        {
         "hovertemplate": "Champion=Renekton<br>Niveau=%{x}<br>MR=%{y}<extra></extra>",
         "legendgroup": "Renekton",
         "line": {
          "color": "#19d3f3",
          "dash": "solid"
         },
         "marker": {
          "symbol": "circle"
         },
         "mode": "lines",
         "name": "Renekton",
         "orientation": "v",
         "showlegend": true,
         "type": "scatter",
         "x": [
          1,
          2,
          3,
          4,
          5,
          6,
          7,
          8,
          9,
          10,
          11,
          12,
          13,
          14,
          15,
          16,
          17,
          18
         ],
         "xaxis": "x",
         "y": [
          28,
          30.05,
          32.1,
          34.15,
          36.2,
          38.25,
          40.3,
          42.349999999999994,
          44.4,
          46.45,
          48.5,
          50.55,
          52.599999999999994,
          54.65,
          56.699999999999996,
          58.75,
          60.8,
          62.849999999999994
         ],
         "yaxis": "y"
        },
        {
         "hovertemplate": "Champion=Riven<br>Niveau=%{x}<br>MR=%{y}<extra></extra>",
         "legendgroup": "Riven",
         "line": {
          "color": "#FF6692",
          "dash": "solid"
         },
         "marker": {
          "symbol": "circle"
         },
         "mode": "lines",
         "name": "Riven",
         "orientation": "v",
         "showlegend": true,
         "type": "scatter",
         "x": [
          1,
          2,
          3,
          4,
          5,
          6,
          7,
          8,
          9,
          10,
          11,
          12,
          13,
          14,
          15,
          16,
          17,
          18
         ],
         "xaxis": "x",
         "y": [
          32,
          34.05,
          36.1,
          38.15,
          40.2,
          42.25,
          44.3,
          46.349999999999994,
          48.4,
          50.45,
          52.5,
          54.55,
          56.599999999999994,
          58.65,
          60.699999999999996,
          62.75,
          64.8,
          66.85
         ],
         "yaxis": "y"
        },
        {
         "hovertemplate": "Champion=Rumble<br>Niveau=%{x}<br>MR=%{y}<extra></extra>",
         "legendgroup": "Rumble",
         "line": {
          "color": "#B6E880",
          "dash": "solid"
         },
         "marker": {
          "symbol": "circle"
         },
         "mode": "lines",
         "name": "Rumble",
         "orientation": "v",
         "showlegend": true,
         "type": "scatter",
         "x": [
          1,
          2,
          3,
          4,
          5,
          6,
          7,
          8,
          9,
          10,
          11,
          12,
          13,
          14,
          15,
          16,
          17,
          18
         ],
         "xaxis": "x",
         "y": [
          28,
          29.55,
          31.1,
          32.65,
          34.2,
          35.75,
          37.3,
          38.85,
          40.4,
          41.95,
          43.5,
          45.05,
          46.6,
          48.150000000000006,
          49.7,
          51.25,
          52.8,
          54.35
         ],
         "yaxis": "y"
        },
        {
         "hovertemplate": "Champion=Sett<br>Niveau=%{x}<br>MR=%{y}<extra></extra>",
         "legendgroup": "Sett",
         "line": {
          "color": "#FF97FF",
          "dash": "solid"
         },
         "marker": {
          "symbol": "circle"
         },
         "mode": "lines",
         "name": "Sett",
         "orientation": "v",
         "showlegend": true,
         "type": "scatter",
         "x": [
          1,
          2,
          3,
          4,
          5,
          6,
          7,
          8,
          9,
          10,
          11,
          12,
          13,
          14,
          15,
          16,
          17,
          18
         ],
         "xaxis": "x",
         "y": [
          28,
          30.05,
          32.1,
          34.15,
          36.2,
          38.25,
          40.3,
          42.349999999999994,
          44.4,
          46.45,
          48.5,
          50.55,
          52.599999999999994,
          54.65,
          56.699999999999996,
          58.75,
          60.8,
          62.849999999999994
         ],
         "yaxis": "y"
        },
        {
         "hovertemplate": "Champion=Shen<br>Niveau=%{x}<br>MR=%{y}<extra></extra>",
         "legendgroup": "Shen",
         "line": {
          "color": "#FECB52",
          "dash": "solid"
         },
         "marker": {
          "symbol": "circle"
         },
         "mode": "lines",
         "name": "Shen",
         "orientation": "v",
         "showlegend": true,
         "type": "scatter",
         "x": [
          1,
          2,
          3,
          4,
          5,
          6,
          7,
          8,
          9,
          10,
          11,
          12,
          13,
          14,
          15,
          16,
          17,
          18
         ],
         "xaxis": "x",
         "y": [
          32,
          34.05,
          36.1,
          38.15,
          40.2,
          42.25,
          44.3,
          46.349999999999994,
          48.4,
          50.45,
          52.5,
          54.55,
          56.599999999999994,
          58.65,
          60.699999999999996,
          62.75,
          64.8,
          66.85
         ],
         "yaxis": "y"
        },
        {
         "hovertemplate": "Champion=Singed<br>Niveau=%{x}<br>MR=%{y}<extra></extra>",
         "legendgroup": "Singed",
         "line": {
          "color": "#636efa",
          "dash": "solid"
         },
         "marker": {
          "symbol": "circle"
         },
         "mode": "lines",
         "name": "Singed",
         "orientation": "v",
         "showlegend": true,
         "type": "scatter",
         "x": [
          1,
          2,
          3,
          4,
          5,
          6,
          7,
          8,
          9,
          10,
          11,
          12,
          13,
          14,
          15,
          16,
          17,
          18
         ],
         "xaxis": "x",
         "y": [
          32,
          34.05,
          36.1,
          38.15,
          40.2,
          42.25,
          44.3,
          46.349999999999994,
          48.4,
          50.45,
          52.5,
          54.55,
          56.599999999999994,
          58.65,
          60.699999999999996,
          62.75,
          64.8,
          66.85
         ],
         "yaxis": "y"
        },
        {
         "hovertemplate": "Champion=Sion<br>Niveau=%{x}<br>MR=%{y}<extra></extra>",
         "legendgroup": "Sion",
         "line": {
          "color": "#EF553B",
          "dash": "solid"
         },
         "marker": {
          "symbol": "circle"
         },
         "mode": "lines",
         "name": "Sion",
         "orientation": "v",
         "showlegend": true,
         "type": "scatter",
         "x": [
          1,
          2,
          3,
          4,
          5,
          6,
          7,
          8,
          9,
          10,
          11,
          12,
          13,
          14,
          15,
          16,
          17,
          18
         ],
         "xaxis": "x",
         "y": [
          32,
          34.05,
          36.1,
          38.15,
          40.2,
          42.25,
          44.3,
          46.349999999999994,
          48.4,
          50.45,
          52.5,
          54.55,
          56.599999999999994,
          58.65,
          60.699999999999996,
          62.75,
          64.8,
          66.85
         ],
         "yaxis": "y"
        },
        {
         "hovertemplate": "Champion=Kench<br>Niveau=%{x}<br>MR=%{y}<extra></extra>",
         "legendgroup": "Kench",
         "line": {
          "color": "#00cc96",
          "dash": "solid"
         },
         "marker": {
          "symbol": "circle"
         },
         "mode": "lines",
         "name": "Kench",
         "orientation": "v",
         "showlegend": true,
         "type": "scatter",
         "x": [
          1,
          2,
          3,
          4,
          5,
          6,
          7,
          8,
          9,
          10,
          11,
          12,
          13,
          14,
          15,
          16,
          17,
          18
         ],
         "xaxis": "x",
         "y": [
          32,
          34.05,
          36.1,
          38.15,
          40.2,
          42.25,
          44.3,
          46.349999999999994,
          48.4,
          50.45,
          52.5,
          54.55,
          56.599999999999994,
          58.65,
          60.699999999999996,
          62.75,
          64.8,
          66.85
         ],
         "yaxis": "y"
        },
        {
         "hovertemplate": "Champion=Teemo<br>Niveau=%{x}<br>MR=%{y}<extra></extra>",
         "legendgroup": "Teemo",
         "line": {
          "color": "#ab63fa",
          "dash": "solid"
         },
         "marker": {
          "symbol": "circle"
         },
         "mode": "lines",
         "name": "Teemo",
         "orientation": "v",
         "showlegend": true,
         "type": "scatter",
         "x": [
          1,
          2,
          3,
          4,
          5,
          6,
          7,
          8,
          9,
          10,
          11,
          12,
          13,
          14,
          15,
          16,
          17,
          18
         ],
         "xaxis": "x",
         "y": [
          30,
          31.3,
          32.6,
          33.9,
          35.2,
          36.5,
          37.8,
          39.1,
          40.4,
          41.7,
          43,
          44.3,
          45.6,
          46.900000000000006,
          48.2,
          49.5,
          50.8,
          52.1
         ],
         "yaxis": "y"
        },
        {
         "hovertemplate": "Champion=Tryndamere<br>Niveau=%{x}<br>MR=%{y}<extra></extra>",
         "legendgroup": "Tryndamere",
         "line": {
          "color": "#FFA15A",
          "dash": "solid"
         },
         "marker": {
          "symbol": "circle"
         },
         "mode": "lines",
         "name": "Tryndamere",
         "orientation": "v",
         "showlegend": true,
         "type": "scatter",
         "x": [
          1,
          2,
          3,
          4,
          5,
          6,
          7,
          8,
          9,
          10,
          11,
          12,
          13,
          14,
          15,
          16,
          17,
          18
         ],
         "xaxis": "x",
         "y": [
          32,
          34.05,
          36.1,
          38.15,
          40.2,
          42.25,
          44.3,
          46.349999999999994,
          48.4,
          50.45,
          52.5,
          54.55,
          56.599999999999994,
          58.65,
          60.699999999999996,
          62.75,
          64.8,
          66.85
         ],
         "yaxis": "y"
        },
        {
         "hovertemplate": "Champion=Urgot<br>Niveau=%{x}<br>MR=%{y}<extra></extra>",
         "legendgroup": "Urgot",
         "line": {
          "color": "#19d3f3",
          "dash": "solid"
         },
         "marker": {
          "symbol": "circle"
         },
         "mode": "lines",
         "name": "Urgot",
         "orientation": "v",
         "showlegend": true,
         "type": "scatter",
         "x": [
          1,
          2,
          3,
          4,
          5,
          6,
          7,
          8,
          9,
          10,
          11,
          12,
          13,
          14,
          15,
          16,
          17,
          18
         ],
         "xaxis": "x",
         "y": [
          32,
          34.05,
          36.1,
          38.15,
          40.2,
          42.25,
          44.3,
          46.349999999999994,
          48.4,
          50.45,
          52.5,
          54.55,
          56.599999999999994,
          58.65,
          60.699999999999996,
          62.75,
          64.8,
          66.85
         ],
         "yaxis": "y"
        },
        {
         "hovertemplate": "Champion=Vladimir<br>Niveau=%{x}<br>MR=%{y}<extra></extra>",
         "legendgroup": "Vladimir",
         "line": {
          "color": "#FF6692",
          "dash": "solid"
         },
         "marker": {
          "symbol": "circle"
         },
         "mode": "lines",
         "name": "Vladimir",
         "orientation": "v",
         "showlegend": true,
         "type": "scatter",
         "x": [
          1,
          2,
          3,
          4,
          5,
          6,
          7,
          8,
          9,
          10,
          11,
          12,
          13,
          14,
          15,
          16,
          17,
          18
         ],
         "xaxis": "x",
         "y": [
          30,
          31.3,
          32.6,
          33.9,
          35.2,
          36.5,
          37.8,
          39.1,
          40.4,
          41.7,
          43,
          44.3,
          45.6,
          46.900000000000006,
          48.2,
          49.5,
          50.8,
          52.1
         ],
         "yaxis": "y"
        },
        {
         "hovertemplate": "Champion=Wukong<br>Niveau=%{x}<br>MR=%{y}<extra></extra>",
         "legendgroup": "Wukong",
         "line": {
          "color": "#B6E880",
          "dash": "solid"
         },
         "marker": {
          "symbol": "circle"
         },
         "mode": "lines",
         "name": "Wukong",
         "orientation": "v",
         "showlegend": true,
         "type": "scatter",
         "x": [
          1,
          2,
          3,
          4,
          5,
          6,
          7,
          8,
          9,
          10,
          11,
          12,
          13,
          14,
          15,
          16,
          17,
          18
         ],
         "xaxis": "x",
         "y": [
          28,
          30.05,
          32.1,
          34.15,
          36.2,
          38.25,
          40.3,
          42.349999999999994,
          44.4,
          46.45,
          48.5,
          50.55,
          52.599999999999994,
          54.65,
          56.699999999999996,
          58.75,
          60.8,
          62.849999999999994
         ],
         "yaxis": "y"
        },
        {
         "hovertemplate": "Champion=Yorick<br>Niveau=%{x}<br>MR=%{y}<extra></extra>",
         "legendgroup": "Yorick",
         "line": {
          "color": "#FF97FF",
          "dash": "solid"
         },
         "marker": {
          "symbol": "circle"
         },
         "mode": "lines",
         "name": "Yorick",
         "orientation": "v",
         "showlegend": true,
         "type": "scatter",
         "x": [
          1,
          2,
          3,
          4,
          5,
          6,
          7,
          8,
          9,
          10,
          11,
          12,
          13,
          14,
          15,
          16,
          17,
          18
         ],
         "xaxis": "x",
         "y": [
          32,
          34.05,
          36.1,
          38.15,
          40.2,
          42.25,
          44.3,
          46.349999999999994,
          48.4,
          50.45,
          52.5,
          54.55,
          56.599999999999994,
          58.65,
          60.699999999999996,
          62.75,
          64.8,
          66.85
         ],
         "yaxis": "y"
        }
       ],
       "layout": {
        "legend": {
         "title": {
          "text": "Champion"
         },
         "tracegroupgap": 0
        },
        "template": {
         "data": {
          "bar": [
           {
            "error_x": {
             "color": "#2a3f5f"
            },
            "error_y": {
             "color": "#2a3f5f"
            },
            "marker": {
             "line": {
              "color": "#E5ECF6",
              "width": 0.5
             },
             "pattern": {
              "fillmode": "overlay",
              "size": 10,
              "solidity": 0.2
             }
            },
            "type": "bar"
           }
          ],
          "barpolar": [
           {
            "marker": {
             "line": {
              "color": "#E5ECF6",
              "width": 0.5
             },
             "pattern": {
              "fillmode": "overlay",
              "size": 10,
              "solidity": 0.2
             }
            },
            "type": "barpolar"
           }
          ],
          "carpet": [
           {
            "aaxis": {
             "endlinecolor": "#2a3f5f",
             "gridcolor": "white",
             "linecolor": "white",
             "minorgridcolor": "white",
             "startlinecolor": "#2a3f5f"
            },
            "baxis": {
             "endlinecolor": "#2a3f5f",
             "gridcolor": "white",
             "linecolor": "white",
             "minorgridcolor": "white",
             "startlinecolor": "#2a3f5f"
            },
            "type": "carpet"
           }
          ],
          "choropleth": [
           {
            "colorbar": {
             "outlinewidth": 0,
             "ticks": ""
            },
            "type": "choropleth"
           }
          ],
          "contour": [
           {
            "colorbar": {
             "outlinewidth": 0,
             "ticks": ""
            },
            "colorscale": [
             [
              0,
              "#0d0887"
             ],
             [
              0.1111111111111111,
              "#46039f"
             ],
             [
              0.2222222222222222,
              "#7201a8"
             ],
             [
              0.3333333333333333,
              "#9c179e"
             ],
             [
              0.4444444444444444,
              "#bd3786"
             ],
             [
              0.5555555555555556,
              "#d8576b"
             ],
             [
              0.6666666666666666,
              "#ed7953"
             ],
             [
              0.7777777777777778,
              "#fb9f3a"
             ],
             [
              0.8888888888888888,
              "#fdca26"
             ],
             [
              1,
              "#f0f921"
             ]
            ],
            "type": "contour"
           }
          ],
          "contourcarpet": [
           {
            "colorbar": {
             "outlinewidth": 0,
             "ticks": ""
            },
            "type": "contourcarpet"
           }
          ],
          "heatmap": [
           {
            "colorbar": {
             "outlinewidth": 0,
             "ticks": ""
            },
            "colorscale": [
             [
              0,
              "#0d0887"
             ],
             [
              0.1111111111111111,
              "#46039f"
             ],
             [
              0.2222222222222222,
              "#7201a8"
             ],
             [
              0.3333333333333333,
              "#9c179e"
             ],
             [
              0.4444444444444444,
              "#bd3786"
             ],
             [
              0.5555555555555556,
              "#d8576b"
             ],
             [
              0.6666666666666666,
              "#ed7953"
             ],
             [
              0.7777777777777778,
              "#fb9f3a"
             ],
             [
              0.8888888888888888,
              "#fdca26"
             ],
             [
              1,
              "#f0f921"
             ]
            ],
            "type": "heatmap"
           }
          ],
          "heatmapgl": [
           {
            "colorbar": {
             "outlinewidth": 0,
             "ticks": ""
            },
            "colorscale": [
             [
              0,
              "#0d0887"
             ],
             [
              0.1111111111111111,
              "#46039f"
             ],
             [
              0.2222222222222222,
              "#7201a8"
             ],
             [
              0.3333333333333333,
              "#9c179e"
             ],
             [
              0.4444444444444444,
              "#bd3786"
             ],
             [
              0.5555555555555556,
              "#d8576b"
             ],
             [
              0.6666666666666666,
              "#ed7953"
             ],
             [
              0.7777777777777778,
              "#fb9f3a"
             ],
             [
              0.8888888888888888,
              "#fdca26"
             ],
             [
              1,
              "#f0f921"
             ]
            ],
            "type": "heatmapgl"
           }
          ],
          "histogram": [
           {
            "marker": {
             "pattern": {
              "fillmode": "overlay",
              "size": 10,
              "solidity": 0.2
             }
            },
            "type": "histogram"
           }
          ],
          "histogram2d": [
           {
            "colorbar": {
             "outlinewidth": 0,
             "ticks": ""
            },
            "colorscale": [
             [
              0,
              "#0d0887"
             ],
             [
              0.1111111111111111,
              "#46039f"
             ],
             [
              0.2222222222222222,
              "#7201a8"
             ],
             [
              0.3333333333333333,
              "#9c179e"
             ],
             [
              0.4444444444444444,
              "#bd3786"
             ],
             [
              0.5555555555555556,
              "#d8576b"
             ],
             [
              0.6666666666666666,
              "#ed7953"
             ],
             [
              0.7777777777777778,
              "#fb9f3a"
             ],
             [
              0.8888888888888888,
              "#fdca26"
             ],
             [
              1,
              "#f0f921"
             ]
            ],
            "type": "histogram2d"
           }
          ],
          "histogram2dcontour": [
           {
            "colorbar": {
             "outlinewidth": 0,
             "ticks": ""
            },
            "colorscale": [
             [
              0,
              "#0d0887"
             ],
             [
              0.1111111111111111,
              "#46039f"
             ],
             [
              0.2222222222222222,
              "#7201a8"
             ],
             [
              0.3333333333333333,
              "#9c179e"
             ],
             [
              0.4444444444444444,
              "#bd3786"
             ],
             [
              0.5555555555555556,
              "#d8576b"
             ],
             [
              0.6666666666666666,
              "#ed7953"
             ],
             [
              0.7777777777777778,
              "#fb9f3a"
             ],
             [
              0.8888888888888888,
              "#fdca26"
             ],
             [
              1,
              "#f0f921"
             ]
            ],
            "type": "histogram2dcontour"
           }
          ],
          "mesh3d": [
           {
            "colorbar": {
             "outlinewidth": 0,
             "ticks": ""
            },
            "type": "mesh3d"
           }
          ],
          "parcoords": [
           {
            "line": {
             "colorbar": {
              "outlinewidth": 0,
              "ticks": ""
             }
            },
            "type": "parcoords"
           }
          ],
          "pie": [
           {
            "automargin": true,
            "type": "pie"
           }
          ],
          "scatter": [
           {
            "fillpattern": {
             "fillmode": "overlay",
             "size": 10,
             "solidity": 0.2
            },
            "type": "scatter"
           }
          ],
          "scatter3d": [
           {
            "line": {
             "colorbar": {
              "outlinewidth": 0,
              "ticks": ""
             }
            },
            "marker": {
             "colorbar": {
              "outlinewidth": 0,
              "ticks": ""
             }
            },
            "type": "scatter3d"
           }
          ],
          "scattercarpet": [
           {
            "marker": {
             "colorbar": {
              "outlinewidth": 0,
              "ticks": ""
             }
            },
            "type": "scattercarpet"
           }
          ],
          "scattergeo": [
           {
            "marker": {
             "colorbar": {
              "outlinewidth": 0,
              "ticks": ""
             }
            },
            "type": "scattergeo"
           }
          ],
          "scattergl": [
           {
            "marker": {
             "colorbar": {
              "outlinewidth": 0,
              "ticks": ""
             }
            },
            "type": "scattergl"
           }
          ],
          "scattermapbox": [
           {
            "marker": {
             "colorbar": {
              "outlinewidth": 0,
              "ticks": ""
             }
            },
            "type": "scattermapbox"
           }
          ],
          "scatterpolar": [
           {
            "marker": {
             "colorbar": {
              "outlinewidth": 0,
              "ticks": ""
             }
            },
            "type": "scatterpolar"
           }
          ],
          "scatterpolargl": [
           {
            "marker": {
             "colorbar": {
              "outlinewidth": 0,
              "ticks": ""
             }
            },
            "type": "scatterpolargl"
           }
          ],
          "scatterternary": [
           {
            "marker": {
             "colorbar": {
              "outlinewidth": 0,
              "ticks": ""
             }
            },
            "type": "scatterternary"
           }
          ],
          "surface": [
           {
            "colorbar": {
             "outlinewidth": 0,
             "ticks": ""
            },
            "colorscale": [
             [
              0,
              "#0d0887"
             ],
             [
              0.1111111111111111,
              "#46039f"
             ],
             [
              0.2222222222222222,
              "#7201a8"
             ],
             [
              0.3333333333333333,
              "#9c179e"
             ],
             [
              0.4444444444444444,
              "#bd3786"
             ],
             [
              0.5555555555555556,
              "#d8576b"
             ],
             [
              0.6666666666666666,
              "#ed7953"
             ],
             [
              0.7777777777777778,
              "#fb9f3a"
             ],
             [
              0.8888888888888888,
              "#fdca26"
             ],
             [
              1,
              "#f0f921"
             ]
            ],
            "type": "surface"
           }
          ],
          "table": [
           {
            "cells": {
             "fill": {
              "color": "#EBF0F8"
             },
             "line": {
              "color": "white"
             }
            },
            "header": {
             "fill": {
              "color": "#C8D4E3"
             },
             "line": {
              "color": "white"
             }
            },
            "type": "table"
           }
          ]
         },
         "layout": {
          "annotationdefaults": {
           "arrowcolor": "#2a3f5f",
           "arrowhead": 0,
           "arrowwidth": 1
          },
          "autotypenumbers": "strict",
          "coloraxis": {
           "colorbar": {
            "outlinewidth": 0,
            "ticks": ""
           }
          },
          "colorscale": {
           "diverging": [
            [
             0,
             "#8e0152"
            ],
            [
             0.1,
             "#c51b7d"
            ],
            [
             0.2,
             "#de77ae"
            ],
            [
             0.3,
             "#f1b6da"
            ],
            [
             0.4,
             "#fde0ef"
            ],
            [
             0.5,
             "#f7f7f7"
            ],
            [
             0.6,
             "#e6f5d0"
            ],
            [
             0.7,
             "#b8e186"
            ],
            [
             0.8,
             "#7fbc41"
            ],
            [
             0.9,
             "#4d9221"
            ],
            [
             1,
             "#276419"
            ]
           ],
           "sequential": [
            [
             0,
             "#0d0887"
            ],
            [
             0.1111111111111111,
             "#46039f"
            ],
            [
             0.2222222222222222,
             "#7201a8"
            ],
            [
             0.3333333333333333,
             "#9c179e"
            ],
            [
             0.4444444444444444,
             "#bd3786"
            ],
            [
             0.5555555555555556,
             "#d8576b"
            ],
            [
             0.6666666666666666,
             "#ed7953"
            ],
            [
             0.7777777777777778,
             "#fb9f3a"
            ],
            [
             0.8888888888888888,
             "#fdca26"
            ],
            [
             1,
             "#f0f921"
            ]
           ],
           "sequentialminus": [
            [
             0,
             "#0d0887"
            ],
            [
             0.1111111111111111,
             "#46039f"
            ],
            [
             0.2222222222222222,
             "#7201a8"
            ],
            [
             0.3333333333333333,
             "#9c179e"
            ],
            [
             0.4444444444444444,
             "#bd3786"
            ],
            [
             0.5555555555555556,
             "#d8576b"
            ],
            [
             0.6666666666666666,
             "#ed7953"
            ],
            [
             0.7777777777777778,
             "#fb9f3a"
            ],
            [
             0.8888888888888888,
             "#fdca26"
            ],
            [
             1,
             "#f0f921"
            ]
           ]
          },
          "colorway": [
           "#636efa",
           "#EF553B",
           "#00cc96",
           "#ab63fa",
           "#FFA15A",
           "#19d3f3",
           "#FF6692",
           "#B6E880",
           "#FF97FF",
           "#FECB52"
          ],
          "font": {
           "color": "#2a3f5f"
          },
          "geo": {
           "bgcolor": "white",
           "lakecolor": "white",
           "landcolor": "#E5ECF6",
           "showlakes": true,
           "showland": true,
           "subunitcolor": "white"
          },
          "hoverlabel": {
           "align": "left"
          },
          "hovermode": "closest",
          "mapbox": {
           "style": "light"
          },
          "paper_bgcolor": "white",
          "plot_bgcolor": "#E5ECF6",
          "polar": {
           "angularaxis": {
            "gridcolor": "white",
            "linecolor": "white",
            "ticks": ""
           },
           "bgcolor": "#E5ECF6",
           "radialaxis": {
            "gridcolor": "white",
            "linecolor": "white",
            "ticks": ""
           }
          },
          "scene": {
           "xaxis": {
            "backgroundcolor": "#E5ECF6",
            "gridcolor": "white",
            "gridwidth": 2,
            "linecolor": "white",
            "showbackground": true,
            "ticks": "",
            "zerolinecolor": "white"
           },
           "yaxis": {
            "backgroundcolor": "#E5ECF6",
            "gridcolor": "white",
            "gridwidth": 2,
            "linecolor": "white",
            "showbackground": true,
            "ticks": "",
            "zerolinecolor": "white"
           },
           "zaxis": {
            "backgroundcolor": "#E5ECF6",
            "gridcolor": "white",
            "gridwidth": 2,
            "linecolor": "white",
            "showbackground": true,
            "ticks": "",
            "zerolinecolor": "white"
           }
          },
          "shapedefaults": {
           "line": {
            "color": "#2a3f5f"
           }
          },
          "ternary": {
           "aaxis": {
            "gridcolor": "white",
            "linecolor": "white",
            "ticks": ""
           },
           "baxis": {
            "gridcolor": "white",
            "linecolor": "white",
            "ticks": ""
           },
           "bgcolor": "#E5ECF6",
           "caxis": {
            "gridcolor": "white",
            "linecolor": "white",
            "ticks": ""
           }
          },
          "title": {
           "x": 0.05
          },
          "xaxis": {
           "automargin": true,
           "gridcolor": "white",
           "linecolor": "white",
           "ticks": "",
           "title": {
            "standoff": 15
           },
           "zerolinecolor": "white",
           "zerolinewidth": 2
          },
          "yaxis": {
           "automargin": true,
           "gridcolor": "white",
           "linecolor": "white",
           "ticks": "",
           "title": {
            "standoff": 15
           },
           "zerolinecolor": "white",
           "zerolinewidth": 2
          }
         }
        },
        "title": {
         "text": "MR par niveau pour chaque champion"
        },
        "xaxis": {
         "anchor": "y",
         "domain": [
          0,
          1
         ],
         "title": {
          "text": "Niveau"
         }
        },
        "yaxis": {
         "anchor": "x",
         "domain": [
          0,
          1
         ],
         "title": {
          "text": "MR"
         }
        }
       }
      }
     },
     "metadata": {},
     "output_type": "display_data"
    }
   ],
   "source": [
    "plot_ad_per_level(df_top, 'MR')"
   ]
  }
 ],
 "metadata": {
  "kernelspec": {
   "display_name": "Python 3",
   "language": "python",
   "name": "python3"
  },
  "language_info": {
   "codemirror_mode": {
    "name": "ipython",
    "version": 3
   },
   "file_extension": ".py",
   "mimetype": "text/x-python",
   "name": "python",
   "nbconvert_exporter": "python",
   "pygments_lexer": "ipython3",
   "version": "3.11.5"
  }
 },
 "nbformat": 4,
 "nbformat_minor": 2
}
